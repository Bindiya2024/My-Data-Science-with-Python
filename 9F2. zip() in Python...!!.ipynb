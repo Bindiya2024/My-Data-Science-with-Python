{
 "cells": [
  {
   "cell_type": "markdown",
   "id": "432a36d6",
   "metadata": {},
   "source": [
    "Python zip() method takes iterable or containers and returns a single iterator object, having mapped values from all the containers. \n",
    "\n",
    "It is used to map the similar index of multiple containers so that they can be used just using a single entity. \n",
    "\n",
    "Syntax :  zip(*iterators) \n",
    "\n",
    "Parameters : Python iterables or containers ( list, string etc ) \n",
    "    \n",
    "Return Value : Returns a single iterator object, having mapped values from all the \n",
    "containers."
   ]
  },
  {
   "cell_type": "markdown",
   "id": "f3b91ae6",
   "metadata": {},
   "source": [
    "# Python zip() example\n",
    "\n",
    "Example 1: Python zip two lists"
   ]
  },
  {
   "cell_type": "code",
   "execution_count": 13,
   "id": "e9c8a581",
   "metadata": {},
   "outputs": [
    {
     "name": "stdout",
     "output_type": "stream",
     "text": [
      "{('Astha', 2), ('Nikhil', 1), ('Shambhavi', 3), ('Manjeet', 4)}\n"
     ]
    }
   ],
   "source": [
    "name = [ \"Manjeet\", \"Nikhil\", \"Shambhavi\", \"Astha\" , \"Nikhil\"]\n",
    "roll_no = [ 4, 1, 3, 2, 1 ]\n",
    "\n",
    "# using zip() to map values\n",
    "mapped = zip(name, roll_no)\n",
    "\n",
    "print(set(mapped))\n",
    "#print(mapped)"
   ]
  },
  {
   "cell_type": "markdown",
   "id": "56693561",
   "metadata": {},
   "source": [
    "# Example 2: Python zip enumerate"
   ]
  },
  {
   "cell_type": "code",
   "execution_count": 15,
   "id": "aae40fe2",
   "metadata": {},
   "outputs": [
    {
     "name": "stdout",
     "output_type": "stream",
     "text": [
      "0 Mukesh 24\n",
      "1 Roni 50\n",
      "2 Chari 18\n"
     ]
    }
   ],
   "source": [
    "names = ['Mukesh', 'Roni', 'Chari']\n",
    "ages = [24, 50, 18]\n",
    "\n",
    "for i, (name, age) in enumerate(zip(names, ages)):\n",
    "    print(i, name, age)\n",
    "    #print(set((i, name, age)))"
   ]
  },
  {
   "cell_type": "markdown",
   "id": "fa6a923a",
   "metadata": {},
   "source": [
    "The enumerate() function adds a counter to an iterable and returns it (the enumerate object)."
   ]
  },
  {
   "cell_type": "code",
   "execution_count": 16,
   "id": "b743bceb",
   "metadata": {},
   "outputs": [
    {
     "name": "stdout",
     "output_type": "stream",
     "text": [
      "[(0, 'Python'), (1, 'Java'), (2, 'JavaScript')]\n"
     ]
    }
   ],
   "source": [
    "languages = ['Python', 'Java', 'JavaScript']\n",
    "\n",
    "enumerate_prime = enumerate(languages)\n",
    "\n",
    "# convert enumerate object to list\n",
    "print(list(enumerate_prime))\n",
    "\n",
    "# Output: [(0, 'Python'), (1, 'Java'), (2, 'JavaScript')]"
   ]
  },
  {
   "cell_type": "markdown",
   "id": "14cd37a4",
   "metadata": {},
   "source": [
    "# Example : Working of enumerate()"
   ]
  },
  {
   "cell_type": "code",
   "execution_count": 17,
   "id": "c25b0fd5",
   "metadata": {},
   "outputs": [
    {
     "name": "stdout",
     "output_type": "stream",
     "text": [
      "<class 'enumerate'>\n",
      "[(0, 'bread'), (1, 'milk'), (2, 'butter')]\n",
      "[(10, 'bread'), (11, 'milk'), (12, 'butter')]\n"
     ]
    }
   ],
   "source": [
    "grocery = ['bread', 'milk', 'butter']\n",
    "enumerateGrocery = enumerate(grocery)\n",
    "\n",
    "print(type(enumerateGrocery))\n",
    "\n",
    "# converting to list\n",
    "print(list(enumerateGrocery))\n",
    "\n",
    "# changing the default counter\n",
    "enumerateGrocery = enumerate(grocery, 10)\n",
    "print(list(enumerateGrocery))"
   ]
  },
  {
   "cell_type": "markdown",
   "id": "f0dbc6f4",
   "metadata": {},
   "source": [
    "# Example 3: Python zip() Dictionary"
   ]
  },
  {
   "cell_type": "code",
   "execution_count": 18,
   "id": "cff8524d",
   "metadata": {},
   "outputs": [
    {
     "name": "stdout",
     "output_type": "stream",
     "text": [
      "{'reliance': 2175, 'infosys': 1127, 'tcs': 2750}\n"
     ]
    }
   ],
   "source": [
    "stocks = ['reliance', 'infosys', 'tcs']\n",
    "prices = [2175, 1127, 2750]\n",
    "\n",
    "new_dict = {stocks: prices for stocks, prices in zip(stocks, prices)}\n",
    "\n",
    "print(new_dict)"
   ]
  },
  {
   "cell_type": "markdown",
   "id": "55ab27c7",
   "metadata": {},
   "source": [
    "# How to unzip? \n",
    "\n",
    "Unzipping means converting the zipped values back to the individual self as they were. This is done with the help of “*” operator."
   ]
  },
  {
   "cell_type": "code",
   "execution_count": 19,
   "id": "91ad5dfe",
   "metadata": {},
   "outputs": [
    {
     "name": "stdout",
     "output_type": "stream",
     "text": [
      "The zipped result is : [('Manjeet', 4, 40), ('Nikhil', 1, 50), ('Shambhavi', 3, 60), ('Astha', 2, 70)]\n",
      "\n",
      "\n",
      "The unzipped result: \n",
      "The name list is : ('Manjeet', 'Nikhil', 'Shambhavi', 'Astha')\n",
      "The roll_no list is : (4, 1, 3, 2)\n",
      "The marks list is : (40, 50, 60, 70)\n"
     ]
    }
   ],
   "source": [
    "# Python code to demonstrate the working of\n",
    "# unzip\n",
    "\n",
    "# initializing lists\n",
    "name = [\"Manjeet\", \"Nikhil\", \"Shambhavi\", \"Astha\"]\n",
    "roll_no = [4, 1, 3, 2]\n",
    "marks = [40, 50, 60, 70]\n",
    "\n",
    "# using zip() to map values\n",
    "mapped = zip(name, roll_no, marks)\n",
    "\n",
    "# converting values to print as list\n",
    "mapped = list(mapped)\n",
    "\n",
    "# printing resultant values\n",
    "print(\"The zipped result is : \", end=\"\")\n",
    "print(mapped)\n",
    "\n",
    "print(\"\\n\")\n",
    "\n",
    "# unzipping values\n",
    "namz, roll_noz, marksz = zip(*mapped)\n",
    "\n",
    "print(\"The unzipped result: \\n\", end=\"\")\n",
    "\n",
    "# printing initial lists\n",
    "print(\"The name list is : \", end=\"\")\n",
    "print(namz)\n",
    "\n",
    "print(\"The roll_no list is : \", end=\"\")\n",
    "print(roll_noz)\n",
    "\n",
    "print(\"The marks list is : \", end=\"\")\n",
    "print(marksz)"
   ]
  },
  {
   "cell_type": "markdown",
   "id": "2fbe9e1e",
   "metadata": {},
   "source": [
    "# Practical Applications\n",
    "\n",
    "There are many possible applications that can be said to be executed using zip, be it student database or scorecard or any other utility that requires mapping of groups. A small example of scorecard is demonstrated below. "
   ]
  },
  {
   "cell_type": "code",
   "execution_count": 20,
   "id": "a7bf425e",
   "metadata": {},
   "outputs": [
    {
     "name": "stdout",
     "output_type": "stream",
     "text": [
      "Player : Sachin  Score : 100\n",
      "Player : Sehwag  Score : 15\n",
      "Player : Gambhir  Score : 17\n",
      "Player : Dravid  Score : 28\n",
      "Player : Raina  Score : 43\n"
     ]
    }
   ],
   "source": [
    "# Python code to demonstrate the application of\n",
    "# zip()\n",
    "\n",
    "# initializing list of players.\n",
    "players = [\"Sachin\", \"Sehwag\", \"Gambhir\", \"Dravid\", \"Raina\"]\n",
    "\n",
    "# initializing their scores\n",
    "scores = [100, 15, 17, 28, 43]\n",
    "\n",
    "# printing players and scores.\n",
    "for pl, sc in zip(players, scores):\n",
    "    print(\"Player : %s  Score : %d\" % (pl, sc))"
   ]
  },
  {
   "cell_type": "code",
   "execution_count": null,
   "id": "409c0a7c",
   "metadata": {},
   "outputs": [],
   "source": []
  }
 ],
 "metadata": {
  "kernelspec": {
   "display_name": "Python 3 (ipykernel)",
   "language": "python",
   "name": "python3"
  },
  "language_info": {
   "codemirror_mode": {
    "name": "ipython",
    "version": 3
   },
   "file_extension": ".py",
   "mimetype": "text/x-python",
   "name": "python",
   "nbconvert_exporter": "python",
   "pygments_lexer": "ipython3",
   "version": "3.9.7"
  }
 },
 "nbformat": 4,
 "nbformat_minor": 5
}
