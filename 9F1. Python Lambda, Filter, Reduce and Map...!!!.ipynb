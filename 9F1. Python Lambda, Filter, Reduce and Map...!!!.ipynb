{
 "cells": [
  {
   "cell_type": "markdown",
   "id": "c2bf0b59",
   "metadata": {},
   "source": [
    "# Python Lambda Functions"
   ]
  },
  {
   "cell_type": "markdown",
   "id": "fbf4f693",
   "metadata": {},
   "source": [
    "Python Lambda Functions are anonymous function means that the function is without a name. As we already know that the def keyword is used to define a normal function in Python. Similarly, the lambda keyword is used to define an anonymous function in Python. \n",
    "\n",
    "Python Lambda Function Syntax\n",
    "\n",
    "Syntax: lambda arguments: expression\n",
    "\n",
    "This function can have any number of arguments but only one expression, which is evaluated and returned.\n",
    "\n",
    "One is free to use lambda functions wherever function objects are required.\n",
    "\n",
    "You need to keep in your knowledge that lambda functions are syntactically restricted to a single expression.\n",
    "\n",
    "It has various uses in particular fields of programming, besides other types of expressions in functions."
   ]
  },
  {
   "cell_type": "markdown",
   "id": "76221640",
   "metadata": {},
   "source": [
    "# Python Lambda Function Example"
   ]
  },
  {
   "cell_type": "code",
   "execution_count": 8,
   "id": "be53e237",
   "metadata": {},
   "outputs": [
    {
     "name": "stdout",
     "output_type": "stream",
     "text": [
      "PYTHONISFU\n"
     ]
    }
   ],
   "source": [
    "str1 = 'PythonIsFun'\n",
    "\n",
    "# lambda returns a function object\n",
    "rev_upper = lambda string: string.upper()[::-1] #:: makes it to reverse after converting in upper case\n",
    "\n",
    "print(rev_upper(str1))"
   ]
  },
  {
   "cell_type": "markdown",
   "id": "d4c55ba0",
   "metadata": {},
   "source": [
    "Explanation: In the above example, we defined a lambda function(rev_upper) to convert a string to it’s upper-case and reverse it."
   ]
  },
  {
   "cell_type": "markdown",
   "id": "a988175f",
   "metadata": {},
   "source": [
    "# Use of Lambda Function in Python\n",
    "\n",
    "Example 1: Condition Checking Using Python lambda function"
   ]
  },
  {
   "cell_type": "code",
   "execution_count": 9,
   "id": "5b9f83ae",
   "metadata": {},
   "outputs": [
    {
     "name": "stdout",
     "output_type": "stream",
     "text": [
      "Int formatting: 1.000000e+06\n",
      "float formatting: 999,999.79\n"
     ]
    }
   ],
   "source": [
    "#Covert a number into exponential if it is integer or convert it into 2 decimal places float value\n",
    "\n",
    "format_numeric = lambda num: f\"{num:e}\" if isinstance(num, int) else f\"{num:,.2f}\"\n",
    "\n",
    "print(\"Int formatting:\", format_numeric(1000000))\n",
    "print(\"float formatting:\", format_numeric(999999.789541235))"
   ]
  },
  {
   "cell_type": "markdown",
   "id": "6e2778b0",
   "metadata": {},
   "source": [
    "The isinstance() function checks if the object (first argument) is an instance or subclass of classinfo class (second argument).\n",
    "\n",
    "Example: "
   ]
  },
  {
   "cell_type": "code",
   "execution_count": 10,
   "id": "c7a3f239",
   "metadata": {},
   "outputs": [
    {
     "name": "stdout",
     "output_type": "stream",
     "text": [
      "True\n"
     ]
    }
   ],
   "source": [
    "numbers = [1, 2, 3, 4, 2, 5]\n",
    "\n",
    "# check if numbers is instance of list\n",
    "result = isinstance(numbers, list)\n",
    "print(result)\n",
    "\n",
    "# Output: True"
   ]
  },
  {
   "cell_type": "markdown",
   "id": "528a248b",
   "metadata": {},
   "source": [
    "# Example 2: Difference Between Lambda functions and def defined function"
   ]
  },
  {
   "cell_type": "code",
   "execution_count": 11,
   "id": "0ddaaace",
   "metadata": {},
   "outputs": [
    {
     "name": "stdout",
     "output_type": "stream",
     "text": [
      "Using function defined with `def` keyword, cube: 125\n",
      "Using lambda function, cube: 125\n"
     ]
    }
   ],
   "source": [
    "def cube(y):\n",
    "    return y*y*y\n",
    "\n",
    "\n",
    "lambda_cube = lambda y: y*y*y\n",
    "\n",
    "\n",
    "# using function defined\n",
    "# using def keyword\n",
    "print(\"Using function defined with `def` keyword, cube:\", cube(5))\n",
    "\n",
    "# using the lambda function\n",
    "print(\"Using lambda function, cube:\", lambda_cube(5))"
   ]
  },
  {
   "cell_type": "markdown",
   "id": "6e1b17b5",
   "metadata": {},
   "source": [
    "As we can see in the above example, both the cube() function and lambda_cube() function behave the same and as intended. Let’s analyze the above example a bit more:"
   ]
  },
  {
   "cell_type": "raw",
   "id": "2539293e",
   "metadata": {},
   "source": [
    "With lambda function                                                  Without lambda function\n",
    "\n",
    "Supports single line statements that returns some value.\t          Supports any number of lines inside a function block\n",
    "\n",
    "Good for performing short operations/data manipulations.\t          Good for any cases that require multiple lines of code.\n",
    "\n",
    "Using lambda function can sometime reduce the readability of code.\t  We can use comments and function descriptions for easy                                                                           readability."
   ]
  },
  {
   "cell_type": "markdown",
   "id": "72a89f06",
   "metadata": {},
   "source": [
    "# Practical Uses of Python lambda function\n",
    "\n",
    "Example 1: Python Lambda Function with List Comprehension\n",
    "    \n",
    "In this example, we will use the lambda function with list comprehension."
   ]
  },
  {
   "cell_type": "code",
   "execution_count": 13,
   "id": "42e60af4",
   "metadata": {},
   "outputs": [
    {
     "name": "stdout",
     "output_type": "stream",
     "text": [
      "10\n",
      "20\n",
      "30\n",
      "40\n"
     ]
    }
   ],
   "source": [
    "is_even_list = [lambda arg = x : arg * 10 for x in range(1, 5)]\n",
    "\n",
    "# iterate on each lambda function\n",
    "# and invoke the function to get the calculated value\n",
    "for item in is_even_list:\n",
    "    print(item())"
   ]
  },
  {
   "cell_type": "markdown",
   "id": "dbd41412",
   "metadata": {},
   "source": [
    "Explanation: \n",
    "\n",
    "On each iteration inside the list comprehension, we are creating a new lambda function with default argument of x (where x is the current item in the iteration). Later, inside the for loop, we are calling the same function object having the default argument using item() and getting the desired value. Thus, is_even_list stores the list of lambda function objects."
   ]
  },
  {
   "cell_type": "code",
   "execution_count": 16,
   "id": "89331fee",
   "metadata": {},
   "outputs": [
    {
     "name": "stdout",
     "output_type": "stream",
     "text": [
      "<class 'list'>\n",
      "[<function <listcomp>.<lambda> at 0x00000215CAB89040>, <function <listcomp>.<lambda> at 0x00000215CAB890D0>, <function <listcomp>.<lambda> at 0x00000215CAB89160>, <function <listcomp>.<lambda> at 0x00000215CAB891F0>]\n"
     ]
    }
   ],
   "source": [
    "print(type(is_even_list))\n",
    "print(is_even_list)"
   ]
  },
  {
   "cell_type": "markdown",
   "id": "d8f5080b",
   "metadata": {},
   "source": [
    "# Example 2: Python Lambda Function with if-else\n",
    "\n",
    "Here we are using Max lambda function to find the maximum of two integers."
   ]
  },
  {
   "cell_type": "code",
   "execution_count": 4,
   "id": "263b783f",
   "metadata": {},
   "outputs": [
    {
     "name": "stdout",
     "output_type": "stream",
     "text": [
      "2\n"
     ]
    }
   ],
   "source": [
    "# Example of lambda function using if-else\n",
    "Max = lambda a, b : a if(a > b) else b\n",
    "\n",
    "print(Max(1, 2))"
   ]
  },
  {
   "cell_type": "markdown",
   "id": "4c6355ce",
   "metadata": {},
   "source": [
    "# Example 3: Python Lambda with Multiple statements\n",
    "\n",
    "Lambda functions does not allow multiple statements, however, we can create two lambda functions and then call the other lambda function as a parameter to the first function. Let’s try to find the second maximum element using lambda."
   ]
  },
  {
   "cell_type": "code",
   "execution_count": 17,
   "id": "4dfda211",
   "metadata": {},
   "outputs": [
    {
     "name": "stdout",
     "output_type": "stream",
     "text": [
      "[3, 64, 9]\n"
     ]
    }
   ],
   "source": [
    "List = [[2,3,4],[1, 4, 116, 64],[3, 6, 9, 12]]\n",
    "\n",
    "# Sort each sublist\n",
    "sortList = lambda x: (sorted(i) for i in x)\n",
    "\n",
    "# Get the second largest element\n",
    "secondLargest = lambda x, f : [y[len(y)-2] for y in f(x)]\n",
    "\n",
    "res = secondLargest(List, sortList)\n",
    "\n",
    "print(res)\n",
    "\n",
    "#print(sortList)\n",
    "#print(secondLargest)"
   ]
  },
  {
   "cell_type": "markdown",
   "id": "eb58e356",
   "metadata": {},
   "source": [
    "Explanation :\n",
    "    \n",
    "In the above example, we have created a lambda function that sorts each sublist of the given list. Then this list is passed as the parameter to the second lambda function, which returns the n-2 element from the sorted list, where n is the length of the sublist."
   ]
  },
  {
   "cell_type": "markdown",
   "id": "a110a7de",
   "metadata": {},
   "source": [
    "Suppose, we have 5 numbers in the above list like [4,7,9,10,11]  after sorting, then 4 is at 0 index, 7 is at 1st index and so on, when we do n-2, we are trying to access 5-2 = 3rd index which in this sorted list 10 thus we get the sencond largest value for any given list"
   ]
  },
  {
   "cell_type": "markdown",
   "id": "05b7ab20",
   "metadata": {},
   "source": [
    "Also, while sorting x is taking 1 sublist at a time in the for loop, so sortlist variable is containing 3 sorted sublists"
   ]
  },
  {
   "cell_type": "markdown",
   "id": "a7cf8bdd",
   "metadata": {},
   "source": [
    "# Lambda functions can be used along with built-in functions like filter(), map() and reduce()."
   ]
  },
  {
   "cell_type": "markdown",
   "id": "b0c5d70b",
   "metadata": {},
   "source": [
    "# Using lambda() Function with filter()\n",
    "\n",
    "The filter() function in Python takes in a function and a list as arguments. This offers an elegant way to filter out all the elements of a sequence “sequence”, for which the function returns True. Here is a small program that returns the odd numbers from an input list: "
   ]
  },
  {
   "cell_type": "markdown",
   "id": "b4f2b962",
   "metadata": {},
   "source": [
    "# Example 1: Filter out all odd numbers using filter() and lambda function\n",
    "    \n",
    "Here, lambda x: (x % 2 != 0) returns True or False if x is not even. Since filter() only keeps elements where it produces True, thus it removes all odd numbers that generated False."
   ]
  },
  {
   "cell_type": "code",
   "execution_count": 18,
   "id": "eb42fc84",
   "metadata": {},
   "outputs": [
    {
     "name": "stdout",
     "output_type": "stream",
     "text": [
      "[5, 7, 97, 77, 23, 73, 61]\n"
     ]
    }
   ],
   "source": [
    "li = [5, 7, 22, 97, 54, 62, 77, 23, 73, 61]\n",
    "\n",
    "final_list = list(filter(lambda x: (x % 2 != 0), li))\n",
    "print(final_list)"
   ]
  },
  {
   "cell_type": "markdown",
   "id": "25749630",
   "metadata": {},
   "source": [
    "# Example 2: Filter all people having age more than 18, using lambda and filter() function"
   ]
  },
  {
   "cell_type": "code",
   "execution_count": 19,
   "id": "cf4b18e9",
   "metadata": {},
   "outputs": [
    {
     "name": "stdout",
     "output_type": "stream",
     "text": [
      "[90, 59, 21, 60]\n"
     ]
    }
   ],
   "source": [
    "# Python 3 code to people above 18 yrs\n",
    "ages = [13, 90, 17, 59, 21, 60, 5]\n",
    "\n",
    "adults = list(filter(lambda age: age > 18, ages))\n",
    "\n",
    "print(adults)"
   ]
  },
  {
   "cell_type": "markdown",
   "id": "dbe6656f",
   "metadata": {},
   "source": [
    "# Using lambda() Function with map()\n",
    "\n",
    "The map() function in Python takes in a function and a list as an argument. The function is called with a lambda function and a list and a new list is returned which contains all the lambda modified items returned by that function for each item. Example: "
   ]
  },
  {
   "cell_type": "markdown",
   "id": "d8097930",
   "metadata": {},
   "source": [
    "# Example 1: Multiply all elements of a list by 2 using lambda and map() function"
   ]
  },
  {
   "cell_type": "code",
   "execution_count": 22,
   "id": "bc015e76",
   "metadata": {},
   "outputs": [
    {
     "name": "stdout",
     "output_type": "stream",
     "text": [
      "[10, 14, 44, 194, 108, 124, 154, 46, 146, 122]\n"
     ]
    }
   ],
   "source": [
    "# Python code to illustrate\n",
    "# map() with lambda()\n",
    "# to get double of a list.\n",
    "li = [5, 7, 22, 97, 54, 62, 77, 23, 73, 61]\n",
    "\n",
    "final_list = list(map(lambda x : x*2, li))\n",
    "\n",
    "print(final_list)"
   ]
  },
  {
   "cell_type": "markdown",
   "id": "1450fdbe",
   "metadata": {},
   "source": [
    "# Example 2: Transform all elements of a list to upper case using lambda and map() function"
   ]
  },
  {
   "cell_type": "code",
   "execution_count": 23,
   "id": "3a1f6d69",
   "metadata": {},
   "outputs": [
    {
     "name": "stdout",
     "output_type": "stream",
     "text": [
      "['DOG', 'CAT', 'PARROT', 'RABBIT']\n"
     ]
    }
   ],
   "source": [
    "# Python program to demonstrate\n",
    "# use of lambda() function\n",
    "# with map() function\n",
    "animals = ['dog', 'cat', 'parrot', 'rabbit']\n",
    "\n",
    "# here we intend to change all animal names\n",
    "# to upper case and return the same\n",
    "uppered_animals = list(map(lambda animal : animal.upper(), animals))\n",
    "\n",
    "print(uppered_animals)"
   ]
  },
  {
   "cell_type": "markdown",
   "id": "4837cce1",
   "metadata": {},
   "source": [
    "# Using lambda() Function with reduce()\n",
    "\n",
    "The reduce() function in Python takes in a function and a list as an argument. The function is called with a lambda function and an iterable and a new reduced result is returned. This performs a repetitive operation over the pairs of the iterable. The reduce() function belongs to the  functools module. \n",
    "\n",
    "# Example 1: Sum of all elements in a list using lambda and reduce() function"
   ]
  },
  {
   "cell_type": "code",
   "execution_count": 23,
   "id": "7f1afca1",
   "metadata": {},
   "outputs": [
    {
     "name": "stdout",
     "output_type": "stream",
     "text": [
      "193\n"
     ]
    }
   ],
   "source": [
    "# Python code to illustrate\n",
    "# reduce() with lambda()\n",
    "# to get sum of a list\n",
    "\n",
    "from functools import reduce\n",
    "\n",
    "li = [5, 8, 10, 20, 50, 100]\n",
    "\n",
    "sum = reduce((lambda x, y: x + y), li)\n",
    "\n",
    "print(sum)"
   ]
  },
  {
   "cell_type": "markdown",
   "id": "5f707130",
   "metadata": {},
   "source": [
    "Here the results of the previous two elements are added to the next element and this goes on till the end of the list like (((((5+8)+10)+20)+50)+100)."
   ]
  },
  {
   "cell_type": "markdown",
   "id": "fb864acf",
   "metadata": {},
   "source": [
    "here initialy x takes the value 5 and y takes the value 8 and then y carries only the sum value of the expression and x takes the new value from the above list li"
   ]
  },
  {
   "cell_type": "markdown",
   "id": "0087bff5",
   "metadata": {},
   "source": [
    "# Example 2: Find the maximum element in a list using lambda and reduce() function"
   ]
  },
  {
   "cell_type": "code",
   "execution_count": 6,
   "id": "8dea5674",
   "metadata": {},
   "outputs": [
    {
     "name": "stdout",
     "output_type": "stream",
     "text": [
      "The maximum element of the list is : 6\n"
     ]
    }
   ],
   "source": [
    "# python code to demonstrate working of reduce()\n",
    "# with a lambda function\n",
    "\n",
    "# importing functools for reduce()\n",
    "import functools\n",
    "\n",
    "# initializing list\n",
    "lis = [1, 3, 5, 6, 2, ]\n",
    "\n",
    "# using reduce to compute maximum element from list\n",
    "print(\"The maximum element of the list is : \", end=\"\")\n",
    "\n",
    "print(functools.reduce(lambda a, b: a if a > b else b, lis))"
   ]
  },
  {
   "cell_type": "code",
   "execution_count": null,
   "id": "9014fb00",
   "metadata": {},
   "outputs": [],
   "source": []
  }
 ],
 "metadata": {
  "kernelspec": {
   "display_name": "Python 3 (ipykernel)",
   "language": "python",
   "name": "python3"
  },
  "language_info": {
   "codemirror_mode": {
    "name": "ipython",
    "version": 3
   },
   "file_extension": ".py",
   "mimetype": "text/x-python",
   "name": "python",
   "nbconvert_exporter": "python",
   "pygments_lexer": "ipython3",
   "version": "3.9.7"
  }
 },
 "nbformat": 4,
 "nbformat_minor": 5
}
