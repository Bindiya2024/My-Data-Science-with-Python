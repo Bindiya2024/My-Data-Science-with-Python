{
 "cells": [
  {
   "cell_type": "markdown",
   "id": "46e5484e",
   "metadata": {},
   "source": [
    "In this Segment, you'll learn about Python closure with the help of examples.\n",
    "\n",
    "Python closure is a nested function that allows us to access variables of the outer function even after the outer function is closed.\n",
    "\n",
    "Before we learn about closure, let's first revise the concept of nested functions in Python."
   ]
  },
  {
   "cell_type": "markdown",
   "id": "b935f31c",
   "metadata": {},
   "source": [
    "# Nested function in Python\n",
    "\n",
    "In Python, we can create a function inside another function. This is known as a nested function. For example,"
   ]
  },
  {
   "cell_type": "code",
   "execution_count": 11,
   "id": "ead9fb3b",
   "metadata": {},
   "outputs": [
    {
     "name": "stdout",
     "output_type": "stream",
     "text": [
      "Hi John\n"
     ]
    }
   ],
   "source": [
    "def greet(name):\n",
    "    # inner function\n",
    "    def display_name():\n",
    "        print(\"Hi\", name)\n",
    "    \n",
    "    # call inner function\n",
    "    display_name()\n",
    "\n",
    "# call outer function\n",
    "greet(\"John\")  \n",
    "\n",
    "# Output: Hi John"
   ]
  },
  {
   "cell_type": "markdown",
   "id": "cdc4451d",
   "metadata": {},
   "source": [
    "In the above example, we have defined the display_name() function inside the greet() function.\n",
    "\n",
    "Here, display_name() is a nested function. The nested function works similar to the normal function. It executes when display_name() is called inside the function greet()."
   ]
  },
  {
   "cell_type": "markdown",
   "id": "0c8b4268",
   "metadata": {},
   "source": [
    "# Python Closures\n",
    "\n",
    "As we have already discussed, closure is a nested function that helps us access the outer function's variables even after the outer function is closed. For example,"
   ]
  },
  {
   "cell_type": "code",
   "execution_count": 12,
   "id": "f3bac263",
   "metadata": {},
   "outputs": [
    {
     "name": "stdout",
     "output_type": "stream",
     "text": [
      "Hi John\n"
     ]
    }
   ],
   "source": [
    "def greet():\n",
    "    # variable defined outside the inner function\n",
    "    name = \"John\"\n",
    "    \n",
    "    # return a nested anonymous function\n",
    "    return lambda: \"Hi \" + name\n",
    "\n",
    "# call the outer function\n",
    "message = greet()\n",
    "\n",
    "#message()\n",
    "# call the inner function\n",
    "print(message())\n",
    "\n",
    "# Output: Hi John"
   ]
  },
  {
   "cell_type": "markdown",
   "id": "35eddde5",
   "metadata": {},
   "source": [
    "In the above example, we have created a function named greet() that returns a nested anonymous function.\n",
    "\n",
    "Here, when we call the outer function,\n",
    "\n",
    "message = greet()\n",
    "\n",
    "The returned function is now assigned to the message variable.\n",
    "\n",
    "At this point, the execution of the outer function is completed, so the name variable should be destroyed. However, when we call the anonymous function using\n",
    "\n",
    "print(message())\n",
    "\n",
    "we are able to access the name variable of the outer function.\n",
    "\n",
    "It's possible because the nested function now acts as a closure that closes the outer scope variable within its scope even after the outer function is executed.\n",
    "\n",
    "Let's see one more example to make this concept clear."
   ]
  },
  {
   "cell_type": "markdown",
   "id": "b509e7f4",
   "metadata": {},
   "source": [
    "# Example: Print Odd Numbers using Closure"
   ]
  },
  {
   "cell_type": "code",
   "execution_count": 16,
   "id": "8b17ce24",
   "metadata": {},
   "outputs": [
    {
     "name": "stdout",
     "output_type": "stream",
     "text": [
      "i am inner\n",
      "3\n",
      "i am inner\n",
      "5\n",
      "i am inner\n",
      "7\n",
      "i am inner\n",
      "3\n",
      "i am inner\n",
      "5\n"
     ]
    }
   ],
   "source": [
    "def calculate():\n",
    "    num = 1\n",
    "    def inner_func():\n",
    "        print(\"i am inner\")\n",
    "        nonlocal num\n",
    "        num += 2\n",
    "        return num\n",
    "    return inner_func\n",
    "\n",
    "# call the outer function\n",
    "odd = calculate()\n",
    "#odd\n",
    "print(odd())\n",
    "\n",
    "# call the inner function\n",
    "print(odd())\n",
    "print(odd())\n",
    "\n",
    "# call the outer function again\n",
    "odd2 = calculate()\n",
    "print(odd2())\n",
    "print(odd2())"
   ]
  },
  {
   "cell_type": "markdown",
   "id": "045f4f41",
   "metadata": {},
   "source": [
    "In the above example,\n",
    "\n",
    "odd = calculate()\n",
    "\n",
    "This code executes the outer function calculate() and returns a closure to the odd number.\n",
    "\n",
    "That's why we can access the num variable of calculate() even after completing the outer function.\n",
    "\n",
    "Again, when we call the outer function using\n",
    "\n",
    "odd2 = calculate()\n",
    "\n",
    "a new closure is returned. Hence, we get 3 again when we call odd2()."
   ]
  },
  {
   "cell_type": "markdown",
   "id": "5ffceb90",
   "metadata": {},
   "source": [
    "# When to use closures?\n",
    "\n",
    "So what are closures good for?\n",
    "\n",
    "Closures can be used to avoid global values and provide data hiding, and can be an elegant solution for simple cases with one or few methods.\n",
    "\n",
    "However, for larger cases with multiple attributes and methods, a class implementation may be more appropriate."
   ]
  },
  {
   "cell_type": "code",
   "execution_count": 17,
   "id": "55a28275",
   "metadata": {},
   "outputs": [
    {
     "name": "stdout",
     "output_type": "stream",
     "text": [
      "27\n",
      "15\n",
      "30\n"
     ]
    }
   ],
   "source": [
    "def make_multiplier_of(n):\n",
    "    def multiplier(x):\n",
    "        return x * n          \n",
    "    return multiplier\n",
    "\n",
    "\n",
    "# Multiplier of 3\n",
    "times3 = make_multiplier_of(3)  #n is set to 3\n",
    "\n",
    "# Multiplier of 5\n",
    "times5 = make_multiplier_of(5)  #n is set to 5\n",
    "\n",
    "\n",
    "\n",
    "# Output: 27\n",
    "print(times3(9))                #x gets 9\n",
    "\n",
    "# Output: 15\n",
    "print(times5(3))                #x gets 3\n",
    "\n",
    "# Output: 30\n",
    "print(times5(times3(2)))        #x gets 2 * 3 = 6 now in second call x gets 6 so 6 * 5 = 30"
   ]
  },
  {
   "cell_type": "raw",
   "id": "332b93db",
   "metadata": {},
   "source": [
    "Python Decorators make extensive use of closures as well.\n",
    "\n",
    "On a concluding note, it is good to point out that the values that get enclosed in the closure function can be found out.\n",
    "\n",
    "All function objects have a __closure__ attribute that returns a tuple of cell objects if it is a closure function.\n",
    "\n",
    "Referring to the example above, we know times3 and times5 are closure functions."
   ]
  },
  {
   "cell_type": "code",
   "execution_count": 3,
   "id": "40ab633c",
   "metadata": {},
   "outputs": [
    {
     "data": {
      "text/plain": [
       "['__annotations__',\n",
       " '__call__',\n",
       " '__class__',\n",
       " '__closure__',\n",
       " '__code__',\n",
       " '__defaults__',\n",
       " '__delattr__',\n",
       " '__dict__',\n",
       " '__dir__',\n",
       " '__doc__',\n",
       " '__eq__',\n",
       " '__format__',\n",
       " '__ge__',\n",
       " '__get__',\n",
       " '__getattribute__',\n",
       " '__globals__',\n",
       " '__gt__',\n",
       " '__hash__',\n",
       " '__init__',\n",
       " '__init_subclass__',\n",
       " '__kwdefaults__',\n",
       " '__le__',\n",
       " '__lt__',\n",
       " '__module__',\n",
       " '__name__',\n",
       " '__ne__',\n",
       " '__new__',\n",
       " '__qualname__',\n",
       " '__reduce__',\n",
       " '__reduce_ex__',\n",
       " '__repr__',\n",
       " '__setattr__',\n",
       " '__sizeof__',\n",
       " '__str__',\n",
       " '__subclasshook__']"
      ]
     },
     "execution_count": 3,
     "metadata": {},
     "output_type": "execute_result"
    }
   ],
   "source": [
    "dir(times3)"
   ]
  },
  {
   "cell_type": "code",
   "execution_count": 20,
   "id": "6d60798f",
   "metadata": {},
   "outputs": [
    {
     "name": "stdout",
     "output_type": "stream",
     "text": [
      "(<cell at 0x000001F6CBB93340: int object at 0x000001F6C6D66970>,)\n",
      "3\n"
     ]
    }
   ],
   "source": [
    "print(times3.__closure__)\n",
    "print(times3.__closure__[0].cell_contents)"
   ]
  },
  {
   "cell_type": "raw",
   "id": "1db8486d",
   "metadata": {},
   "source": [
    "In the above example, \n",
    "\n",
    "the nested function power has __closure__ attribute associated with it and it returns a tuple of cell objects. The cell_contents attribute returns the value 3 as it was closed inside the cell object."
   ]
  },
  {
   "cell_type": "code",
   "execution_count": 8,
   "id": "c4d166f5",
   "metadata": {},
   "outputs": [
    {
     "data": {
      "text/plain": [
       "['__class__',\n",
       " '__delattr__',\n",
       " '__dir__',\n",
       " '__doc__',\n",
       " '__eq__',\n",
       " '__format__',\n",
       " '__ge__',\n",
       " '__getattribute__',\n",
       " '__gt__',\n",
       " '__hash__',\n",
       " '__init__',\n",
       " '__init_subclass__',\n",
       " '__le__',\n",
       " '__lt__',\n",
       " '__ne__',\n",
       " '__new__',\n",
       " '__reduce__',\n",
       " '__reduce_ex__',\n",
       " '__repr__',\n",
       " '__setattr__',\n",
       " '__sizeof__',\n",
       " '__str__',\n",
       " '__subclasshook__',\n",
       " 'cell_contents']"
      ]
     },
     "execution_count": 8,
     "metadata": {},
     "output_type": "execute_result"
    }
   ],
   "source": [
    "dir(times3.__closure__[0])"
   ]
  },
  {
   "cell_type": "code",
   "execution_count": null,
   "id": "fbe7e605",
   "metadata": {},
   "outputs": [],
   "source": []
  }
 ],
 "metadata": {
  "kernelspec": {
   "display_name": "Python 3 (ipykernel)",
   "language": "python",
   "name": "python3"
  },
  "language_info": {
   "codemirror_mode": {
    "name": "ipython",
    "version": 3
   },
   "file_extension": ".py",
   "mimetype": "text/x-python",
   "name": "python",
   "nbconvert_exporter": "python",
   "pygments_lexer": "ipython3",
   "version": "3.9.7"
  }
 },
 "nbformat": 4,
 "nbformat_minor": 5
}
