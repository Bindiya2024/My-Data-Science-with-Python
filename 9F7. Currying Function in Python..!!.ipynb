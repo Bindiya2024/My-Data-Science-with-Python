{
 "cells": [
  {
   "cell_type": "raw",
   "id": "edaf7ccf",
   "metadata": {},
   "source": [
    "In problem solving and functional programming, currying is the practice of simplifying the execution of a function that takes multiple arguments into executing sequential single-argument functions. In simple terms, Currying is used to transform multiple-argument function into single argument function by evaluating incremental nesting of function arguments. Currying also mends one argument to another forms a relative pattern while execution.\n",
    "\n",
    "Mathematical Illustration of Currying:\n",
    "In general currying of functions takes up any number of calculations and data to single real function that returns an expected output. Here we take,\n",
    "\n",
    "f(x, y) = (x*x*x) + (y*y*y)\n",
    "h(x) = (x*x*x)\n",
    "h(y) = (y*y*y)\n",
    "h(x)(y) = h(x)+h(y)\n",
    "f(x, y) = h(x)(y)\n",
    "Curry f = h(x)(y)\n",
    "For example, we will take chaining the composition of function.\n",
    "\n",
    "a(x) = b(c(d(x)))"
   ]
  },
  {
   "cell_type": "code",
   "execution_count": 1,
   "id": "e285bb05",
   "metadata": {},
   "outputs": [],
   "source": [
    "def change(b, c, d):\n",
    "    def a(x):\n",
    "        return b(c(d(x)))\n",
    "    return a"
   ]
  },
  {
   "cell_type": "raw",
   "id": "d77b78c9",
   "metadata": {},
   "source": [
    "v(a, b, c, d, e) = w(x(y(z(a, b, c, d, e))))"
   ]
  },
  {
   "cell_type": "code",
   "execution_count": 1,
   "id": "a275c7bd",
   "metadata": {},
   "outputs": [
    {
     "name": "stdout",
     "output_type": "stream",
     "text": [
      "10 20 30 40 50\n"
     ]
    }
   ],
   "source": [
    "# Currying in Python - Many to Single Argument\n",
    "def change(a):\n",
    "    def w(b):\n",
    "        def x(c):\n",
    "            def y(d):\n",
    "                def z(e):\n",
    "                    print(a, b, c, d, e)\n",
    "                return z\n",
    "            return y\n",
    "        return x\n",
    "    return w\n",
    "\n",
    "change(10)(20)(30)(40)(50)"
   ]
  },
  {
   "cell_type": "markdown",
   "id": "48959c5d",
   "metadata": {},
   "source": [
    "Here, the concept is nesting of one function to another function and hence the result of one function gets recorded in the chain of functions. There by simplifying one huge block of manipulation to simpler sequential blocks."
   ]
  },
  {
   "cell_type": "markdown",
   "id": "89b0e14d",
   "metadata": {},
   "source": [
    "Code #1: Change kilometer to meter and meter to centimeter."
   ]
  },
  {
   "cell_type": "code",
   "execution_count": 4,
   "id": "0a5f3a1e",
   "metadata": {},
   "outputs": [
    {
     "name": "stdout",
     "output_type": "stream",
     "text": [
      "3280.839895013123\n"
     ]
    }
   ],
   "source": [
    "# Demonstrate Currying of composition of function\n",
    "def change(b, c, d):\n",
    "    def a(x):\n",
    "        return b(c(d(x))) # d is getting executed first, here d is kilometer2meter; c is meter2centimeter and so on\n",
    "    return a\n",
    "\n",
    "def kilometer2meter(dist):\n",
    "    \"\"\" Function that converts km to m. \"\"\"\n",
    "    return dist * 1000\n",
    "    \n",
    "def meter2centimeter(dist):\n",
    "    \"\"\" Function that converts m to cm. \"\"\"\n",
    "    return dist * 100\n",
    "    \n",
    "def centimeter2feet(dist):\n",
    "    \"\"\" Function that converts cm to ft. \"\"\"\n",
    "    return dist / 30.48\n",
    "\n",
    "if __name__ == '__main__':\n",
    "    transform = change(centimeter2feet, meter2centimeter, kilometer2meter )\n",
    "    e = transform(1)\n",
    "    print(e) "
   ]
  },
  {
   "cell_type": "markdown",
   "id": "913447c6",
   "metadata": {},
   "source": [
    "Code #2:"
   ]
  },
  {
   "cell_type": "code",
   "execution_count": 5,
   "id": "df261a88",
   "metadata": {},
   "outputs": [
    {
     "name": "stdout",
     "output_type": "stream",
     "text": [
      "864000\n"
     ]
    }
   ],
   "source": [
    "# Demonstrate Currying of composition of function\n",
    "\n",
    "def change(b, c, d):\n",
    "    def a(x):\n",
    "        return b(c(d(x)))\n",
    "    return a\n",
    "    \n",
    "def daystohour(time):\n",
    "    \"\"\" Function that converts days to hours. \"\"\"\n",
    "    return time * 24\n",
    "    \n",
    "def hourstominutes(time):\n",
    "    \"\"\" Function that converts hours to minutes. \"\"\"\n",
    "    return time * 60\n",
    "\n",
    "def minutestoseconds(time):\n",
    "    \"\"\" Function that converts minutes to seconds. \"\"\"\n",
    "    return time * 60\n",
    "\n",
    "if __name__ == '__main__':\n",
    "    transform = change(minutestoseconds, hourstominutes, daystohour)\n",
    "    e = transform(10)\n",
    "    print(e)"
   ]
  },
  {
   "cell_type": "markdown",
   "id": "1214bdd3",
   "metadata": {},
   "source": [
    "Code #3:"
   ]
  },
  {
   "cell_type": "markdown",
   "id": "598f92c7",
   "metadata": {},
   "source": [
    "We define the composition h of two functions f and g\n",
    "\n",
    "\n",
    "in the following Python example.\n",
    "\n",
    "The composition of two functions is a chaining process in which the output of the inner function becomes the input of the outer function."
   ]
  },
  {
   "cell_type": "code",
   "execution_count": 6,
   "id": "33b6650b",
   "metadata": {},
   "outputs": [],
   "source": [
    "def compose(g, f):\n",
    "    def h(x):\n",
    "        return g(f(x))\n",
    "    return h"
   ]
  },
  {
   "cell_type": "markdown",
   "id": "a9552d1b",
   "metadata": {},
   "source": [
    "We will use our compose function in the next example. Let's assume, we have a thermometer, which is not working accurately. The correct temperature can be calculated by applying the function readjust to the temperature values. Let us further assume that we have to convert our temperature values from Celsius to Fahrenheit. We can do this by applying compose to both functions:"
   ]
  },
  {
   "cell_type": "code",
   "execution_count": 8,
   "id": "6c2b2bb1",
   "metadata": {},
   "outputs": [
    {
     "name": "stdout",
     "output_type": "stream",
     "text": [
      "44.5 50.0\n"
     ]
    }
   ],
   "source": [
    "def celsius2fahrenheit(t):\n",
    "    return 1.8 * t + 32\n",
    "def readjust(t):\n",
    "    return 0.9 * t - 0.5\n",
    "convert = compose(readjust, celsius2fahrenheit)\n",
    "print(convert(10), celsius2fahrenheit(10))"
   ]
  },
  {
   "cell_type": "markdown",
   "id": "3cd49976",
   "metadata": {},
   "source": [
    "The composition of two functions is generally not commutative, i.e. compose(celsius2fahrenheit, readjust) is different from compose(readjust, celsius2fahrenheit)"
   ]
  },
  {
   "cell_type": "code",
   "execution_count": 9,
   "id": "16f485f2",
   "metadata": {},
   "outputs": [
    {
     "name": "stdout",
     "output_type": "stream",
     "text": [
      "47.3 50.0\n"
     ]
    }
   ],
   "source": [
    "convert2 = compose(celsius2fahrenheit, readjust)\n",
    "print(convert2(10), celsius2fahrenheit(10))"
   ]
  },
  {
   "cell_type": "markdown",
   "id": "4ac51dc9",
   "metadata": {},
   "source": [
    "convert2 is not a solution to our problem, because it is not readjusting the original temperatures of our thermometer but the transformed Fahrenheit values!"
   ]
  },
  {
   "cell_type": "markdown",
   "id": "2e0bf206",
   "metadata": {},
   "source": [
    "# \"compose\" another example"
   ]
  },
  {
   "cell_type": "code",
   "execution_count": 11,
   "id": "5dd4a910",
   "metadata": {},
   "outputs": [
    {
     "name": "stdout",
     "output_type": "stream",
     "text": [
      "weight (kg) 104\n",
      "height (m) 178\n",
      "Very severely underweight\n",
      "Another run? (y/n)y\n",
      "weight (kg) 104\n",
      "height (m) 2\n",
      "Overweight\n",
      "Another run? (y/n)n\n"
     ]
    }
   ],
   "source": [
    "def compose(g, f):\n",
    "    def h(x,y):              \n",
    "        return g(f(x,y))     \n",
    "    return h\n",
    "def BMI(weight, height):\n",
    "    return weight / height**2\n",
    "def evaluate_BMI(bmi):\n",
    "    if bmi < 15:\n",
    "        return \"Very severely underweight\"\n",
    "    elif bmi < 16:\n",
    "        return \"Severely underweight\"\n",
    "    elif bmi < 18.5:\n",
    "        return \"Underweight\"\n",
    "    elif bmi < 25:\n",
    "        return \"Normal (healthy weight)\"\n",
    "    elif bmi < 30:\n",
    "        return \"Overweight\"\n",
    "    elif bmi < 35:\n",
    "        return \"Obese Class I (Moderately obese)\"\n",
    "    elif bmi < 40:\n",
    "        return \"Obese Class II (Severely obese)\"\n",
    "    else:\n",
    "        return \"Obese Class III (Very severely obese)\"\n",
    "f = compose(evaluate_BMI, BMI)\n",
    "again = \"y\"\n",
    "while again == \"y\":\n",
    "    weight = float(input(\"weight (kg) \"))\n",
    "    height = float(input(\"height (m) \"))\n",
    "    print(f(weight, height))\n",
    "    again = input(\"Another run? (y/n)\")"
   ]
  },
  {
   "cell_type": "code",
   "execution_count": null,
   "id": "37cd34d2",
   "metadata": {},
   "outputs": [],
   "source": []
  }
 ],
 "metadata": {
  "kernelspec": {
   "display_name": "Python 3 (ipykernel)",
   "language": "python",
   "name": "python3"
  },
  "language_info": {
   "codemirror_mode": {
    "name": "ipython",
    "version": 3
   },
   "file_extension": ".py",
   "mimetype": "text/x-python",
   "name": "python",
   "nbconvert_exporter": "python",
   "pygments_lexer": "ipython3",
   "version": "3.9.7"
  }
 },
 "nbformat": 4,
 "nbformat_minor": 5
}
