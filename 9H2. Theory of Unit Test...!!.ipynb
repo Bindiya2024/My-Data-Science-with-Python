{
 "cells": [
  {
   "cell_type": "markdown",
   "id": "5e403407",
   "metadata": {},
   "source": [
    "# Unit Testing in Python – Unittest"
   ]
  },
  {
   "cell_type": "markdown",
   "id": "43d1709a",
   "metadata": {},
   "source": [
    "# What is Unit Testing?\n",
    "\n",
    "Unit Testing is the first level of software testing where the smallest testable parts of a software are tested. This is used to validate that each unit of the software performs as designed.\n",
    "The unittest test framework is python’s xUnit style framework.\n",
    "\n",
    "Method:\n",
    "    \n",
    "White Box Testing method is used for Unit testing.\n",
    "\n",
    "OOP concepts supported by unittest framework:\n",
    "\n",
    "test fixture:\n",
    "    \n",
    "A test fixture is used as a baseline for running tests to ensure that there is a fixed environment in which tests are run so that results are repeatable.\n",
    "\n",
    "Examples :\n",
    "\n",
    "1. creating temporary databases.\n",
    "\n",
    "2. starting a server process."
   ]
  },
  {
   "cell_type": "markdown",
   "id": "3112c570",
   "metadata": {},
   "source": [
    "1. test case:\n",
    "    \n",
    "A test case is a set of conditions which is used to determine whether a system under test works correctly.\n",
    "\n",
    "2. test suite:\n",
    "  \n",
    "A Test suite is a collection of testcases that are used to test a software program to show that it has some specified set of behaviours by executing the aggregated tests together.\n",
    "\n",
    "3. test runner:\n",
    "    \n",
    "A test runner is a component which set up the execution of tests and provides the outcome to the user."
   ]
  },
  {
   "cell_type": "markdown",
   "id": "447b5a59",
   "metadata": {},
   "source": [
    "# Basic Test Structure :\n",
    "\n",
    "unittest defines tests by the following two ways :\n",
    "\n",
    "1. Manage test “fixtures” using code.\n",
    "\n",
    "2. test itself."
   ]
  },
  {
   "cell_type": "code",
   "execution_count": 1,
   "id": "32afc842",
   "metadata": {},
   "outputs": [
    {
     "name": "stderr",
     "output_type": "stream",
     "text": [
      ".\n",
      "----------------------------------------------------------------------\n",
      "Ran 1 test in 0.003s\n",
      "\n",
      "OK\n"
     ]
    }
   ],
   "source": [
    "import unittest\n",
    "\n",
    "class SimpleTest(unittest.TestCase):\n",
    "\n",
    "    # Returns True or False.\n",
    "    def test(self):\t\n",
    "        self.assertTrue(True)\n",
    "\n",
    "if __name__ == '__main__':\n",
    "    unittest.main(argv=['first-arg-is-ignored'], exit=False)"
   ]
  },
  {
   "cell_type": "markdown",
   "id": "4331842e",
   "metadata": {},
   "source": [
    "This is the basic test code using unittest framework, which is having a single test. This test() method will fail if TRUE is ever FALSE."
   ]
  },
  {
   "cell_type": "raw",
   "id": "58995a3c",
   "metadata": {},
   "source": [
    "The last block helps to run the test by running the file through the command line.\n",
    "\n",
    ".\n",
    "----------------------------------------------------------------------\n",
    "Ran 1 test in 0.000s\n",
    "\n",
    "OK"
   ]
  },
  {
   "cell_type": "raw",
   "id": "c3b17506",
   "metadata": {},
   "source": [
    "Here, in the output the “.” on the first line of output means that a test passed.\n",
    "\n",
    "“-v” option is added in the command line while running the tests to obtain more detailed test results."
   ]
  },
  {
   "cell_type": "raw",
   "id": "e1266b30",
   "metadata": {},
   "source": [
    "Possible Outcomes:\n",
    "    \n",
    "There are three types of possible test outcomes :\n",
    "\n",
    "OK – This means that all the tests are passed.\n",
    "\n",
    "FAIL – This means that the test did not pass and an AssertionError exception is raised.\n",
    "\n",
    "ERROR – This means that the test raises an exception other than AssertionError."
   ]
  },
  {
   "cell_type": "code",
   "execution_count": null,
   "id": "815daaac",
   "metadata": {},
   "outputs": [],
   "source": []
  }
 ],
 "metadata": {
  "kernelspec": {
   "display_name": "Python 3 (ipykernel)",
   "language": "python",
   "name": "python3"
  },
  "language_info": {
   "codemirror_mode": {
    "name": "ipython",
    "version": 3
   },
   "file_extension": ".py",
   "mimetype": "text/x-python",
   "name": "python",
   "nbconvert_exporter": "python",
   "pygments_lexer": "ipython3",
   "version": "3.9.7"
  }
 },
 "nbformat": 4,
 "nbformat_minor": 5
}
