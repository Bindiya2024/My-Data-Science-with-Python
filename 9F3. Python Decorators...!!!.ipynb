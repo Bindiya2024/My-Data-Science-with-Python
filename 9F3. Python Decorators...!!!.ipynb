{
 "cells": [
  {
   "cell_type": "markdown",
   "id": "5a3b6243",
   "metadata": {},
   "source": [
    "# Python Decorators\n",
    "\n",
    "In this segment, we will learn about Python Decorators with the help of examples."
   ]
  },
  {
   "cell_type": "markdown",
   "id": "071f1b68",
   "metadata": {},
   "source": [
    "In Python, a decorator is a design pattern that allows you to modify the functionality of a function by wrapping it in another function.\n",
    "\n",
    "The outer function is called the decorator, which takes the original function as an argument and returns a modified version of it."
   ]
  },
  {
   "cell_type": "markdown",
   "id": "1d7be390",
   "metadata": {},
   "source": [
    "# Prerequisites for learning decorators\n",
    "\n",
    "Before we learn about decorators, we need to understand a few important concepts related to Python functions. Also, remember that everything in Python is an object, even functions are objects."
   ]
  },
  {
   "cell_type": "markdown",
   "id": "e6298b7c",
   "metadata": {},
   "source": [
    "# Nested Function\n",
    "\n",
    "We can include one function inside another, known as a nested function. For example,"
   ]
  },
  {
   "cell_type": "code",
   "execution_count": 1,
   "id": "7a4e4ccf",
   "metadata": {},
   "outputs": [
    {
     "name": "stdout",
     "output_type": "stream",
     "text": [
      "11\n"
     ]
    }
   ],
   "source": [
    "def outer(x):\n",
    "    def inner(y):\n",
    "        return x + y\n",
    "    return inner\n",
    "\n",
    "add_five = outer(5)\n",
    "result = add_five(6)\n",
    "print(result)  # prints 11\n",
    "\n",
    "# Output: 11"
   ]
  },
  {
   "cell_type": "markdown",
   "id": "1493abd4",
   "metadata": {},
   "source": [
    "Here, we have created the inner() function inside the outer() function."
   ]
  },
  {
   "cell_type": "markdown",
   "id": "d46da092",
   "metadata": {},
   "source": [
    "# Pass Function as Argument\n",
    "\n",
    "We can pass a function as an argument to another function in Python. For Example,"
   ]
  },
  {
   "cell_type": "code",
   "execution_count": 14,
   "id": "1d782c70",
   "metadata": {},
   "outputs": [
    {
     "name": "stdout",
     "output_type": "stream",
     "text": [
      "10\n"
     ]
    }
   ],
   "source": [
    "def add(x, y):\n",
    "    return x + y\n",
    "\n",
    "def calculate(func, x, y):\n",
    "    return func(x, y)\n",
    "\n",
    "result = calculate(add, 4, 6)\n",
    "print(result)  # prints 10"
   ]
  },
  {
   "cell_type": "markdown",
   "id": "3de25ffc",
   "metadata": {},
   "source": [
    "In the above example, the calculate() function takes a function as its argument. While calling calculate(), we are passing the add() function as the argument.\n",
    "\n",
    "In the calculate() function, arguments: func, x, y become add, 4, and 6 respectively.\n",
    "\n",
    "And hence, func(x, y) becomes add(4, 6) which returns 10."
   ]
  },
  {
   "cell_type": "markdown",
   "id": "771ff6cf",
   "metadata": {},
   "source": [
    "# Return a Function as a Value\n",
    "\n",
    "In Python, we can also return a function as a return value. For example,"
   ]
  },
  {
   "cell_type": "code",
   "execution_count": 3,
   "id": "7dbf7102",
   "metadata": {},
   "outputs": [
    {
     "name": "stdout",
     "output_type": "stream",
     "text": [
      "Hello, Atlantis!\n"
     ]
    }
   ],
   "source": [
    "def greeting(name):\n",
    "    def hello():\n",
    "        return \"Hello, \" + name + \"!\"\n",
    "    return hello\n",
    "    \n",
    "\n",
    "greet = greeting(\"Atlantis\")\n",
    "print(greet())  # prints \"Hello, Atlantis!\"\n",
    "\n",
    "# Output: Hello, Atlantis!"
   ]
  },
  {
   "cell_type": "markdown",
   "id": "5e8d743b",
   "metadata": {},
   "source": [
    "In the above example, the return hello statement returns the inner hello() function. This function is now assigned to the greet variable."
   ]
  },
  {
   "cell_type": "markdown",
   "id": "59291eaf",
   "metadata": {},
   "source": [
    "That's why, when we call greet() as a function, we get the output."
   ]
  },
  {
   "cell_type": "markdown",
   "id": "07850423",
   "metadata": {},
   "source": [
    "# Python Decorators"
   ]
  },
  {
   "cell_type": "raw",
   "id": "c4aa3992",
   "metadata": {},
   "source": [
    "As mentioned earlier, A Python decorator is a function that takes in a function and returns it by adding some functionality.\n",
    "\n",
    "In fact, any object which implements the special __call__() method is termed callable. So, in the most basic sense, a decorator is a callable that returns a callable.\n",
    "\n",
    "Basically, a decorator takes in a function, adds some functionality and returns it."
   ]
  },
  {
   "cell_type": "code",
   "execution_count": 15,
   "id": "e56cce3d",
   "metadata": {},
   "outputs": [
    {
     "name": "stdout",
     "output_type": "stream",
     "text": [
      "I am ordinary\n"
     ]
    }
   ],
   "source": [
    "def make_pretty(func):\n",
    "    def inner():\n",
    "        print(\"I got decorated\")\n",
    "        func()\n",
    "    return inner\n",
    "\n",
    "\n",
    "def ordinary():\n",
    "    print(\"I am ordinary\")\n",
    "\n",
    "ordinary()\n",
    "# Output: I am ordinary"
   ]
  },
  {
   "cell_type": "markdown",
   "id": "c8249e92",
   "metadata": {},
   "source": [
    "Here, we have created two functions:\n",
    "\n",
    "ordinary() that prints \"I am ordinary\"\n",
    "\n",
    "make_pretty() that takes a function as its argument and has a nested function named inner(), and returns the inner function.\n",
    "We are calling the ordinary() function normally, so we get the output \"I am ordinary\". Now, let's call it using the decorator function."
   ]
  },
  {
   "cell_type": "code",
   "execution_count": 11,
   "id": "b9e506a1",
   "metadata": {},
   "outputs": [
    {
     "name": "stdout",
     "output_type": "stream",
     "text": [
      "I got decorated\n",
      "I am ordinary\n"
     ]
    }
   ],
   "source": [
    "def make_pretty(func):\n",
    "    # define the inner function \n",
    "    def inner():\n",
    "        # add some additional behavior to decorated function\n",
    "        print(\"I got decorated\")\n",
    "\n",
    "        # call original ordinary function\n",
    "        func()\n",
    "    # return the inner function\n",
    "    return inner\n",
    "\n",
    "# define ordinary function\n",
    "def ordinary():\n",
    "    print(\"I am ordinary\")\n",
    "    \n",
    "# decorate the ordinary function\n",
    "decorated_func = make_pretty(ordinary)\n",
    "\n",
    "# call the decorated function\n",
    "decorated_func() #calling make_pretty first with the value ordinary contains, \n",
    "                #so that value goes as a value for func which we are printing after the print line ''print(\"I got decorated\")''"
   ]
  },
  {
   "cell_type": "markdown",
   "id": "daec08a2",
   "metadata": {},
   "source": [
    "In the example shown above, make_pretty() is a decorator. \n",
    "\n",
    "Notice the code,\n",
    "\n",
    "decorated_func = make_pretty(ordinary)\n",
    "\n",
    "We are now passing the ordinary() function as the argument to the make_pretty().\n",
    "\n",
    "The make_pretty() function returns the inner function, and it is now assigned to the decorated_func variable.\n",
    "decorated_func()\n",
    "\n",
    "Here, we are actually calling the inner() function, where we are printing"
   ]
  },
  {
   "cell_type": "markdown",
   "id": "457b9faa",
   "metadata": {},
   "source": [
    "# @ Symbol With Decorator\n",
    "\n",
    "Instead of assigning the function call to a variable, Python provides a much more elegant way to achieve this functionality using the @ symbol. For example,"
   ]
  },
  {
   "cell_type": "code",
   "execution_count": 14,
   "id": "9861ec17",
   "metadata": {},
   "outputs": [
    {
     "name": "stdout",
     "output_type": "stream",
     "text": [
      "I got decorated\n",
      "I am ordinary\n"
     ]
    }
   ],
   "source": [
    "def make_pretty(func):\n",
    "\n",
    "    def inner():\n",
    "        print(\"I got decorated\")\n",
    "        func()  #original ordinary function\n",
    "    return inner\n",
    "\n",
    "@make_pretty\n",
    "def ordinary():\n",
    "    print(\"I am ordinary\")\n",
    "\n",
    "ordinary()  #calling make_pretty first with the value ordinary contains, \n",
    "            #so that value goes as a value for func which we are printing after the print line ''print(\"I got decorated\")''"
   ]
  },
  {
   "cell_type": "markdown",
   "id": "5c500274",
   "metadata": {},
   "source": [
    "Here, the ordinary() function is decorated with the make_pretty() decorator using the @make_pretty syntax, which is equivalent to calling ordinary = make_pretty(ordinary)."
   ]
  },
  {
   "cell_type": "markdown",
   "id": "5a305394",
   "metadata": {},
   "source": [
    "# Decorating Functions with Parameters\n",
    "\n",
    "The above decorator was simple and it only worked with functions that did not have any parameters. What if we had functions that took in parameters like:"
   ]
  },
  {
   "cell_type": "code",
   "execution_count": 15,
   "id": "53ee5290",
   "metadata": {},
   "outputs": [],
   "source": [
    "def divide(a, b):\n",
    "    return a/b"
   ]
  },
  {
   "cell_type": "markdown",
   "id": "46d0bba8",
   "metadata": {},
   "source": [
    "This function has two parameters, a and b. We know it will give an error if we pass in b as 0.\n",
    "\n",
    "Now let's make a decorator to check for this case that will cause the error."
   ]
  },
  {
   "cell_type": "code",
   "execution_count": 16,
   "id": "a868b5e6",
   "metadata": {},
   "outputs": [
    {
     "name": "stdout",
     "output_type": "stream",
     "text": [
      "I am going to divide 2 and 5\n",
      "0.4\n",
      "I am going to divide 2 and 0\n",
      "Whoops! cannot divide\n"
     ]
    }
   ],
   "source": [
    "def smart_divide(func):\n",
    "    def inner(a, b):\n",
    "        print(\"I am going to divide\", a, \"and\", b)\n",
    "        if b == 0:\n",
    "            print(\"Whoops! cannot divide\")\n",
    "            return\n",
    "\n",
    "        return func(a, b) #original divide function\n",
    "    return inner\n",
    "\n",
    "@smart_divide\n",
    "def divide(a, b):   #passing divide as value for func in smart_divide, \n",
    "    print(a/b)      #so the entire divide function with parameteres has passed over here\n",
    "\n",
    "divide(2,5)\n",
    "\n",
    "divide(2,0)"
   ]
  },
  {
   "cell_type": "markdown",
   "id": "38803ef7",
   "metadata": {},
   "source": [
    "Here, when we call the divide() function with the arguments (2,5), the inner() function defined in the smart_divide() decorator is called instead.\n",
    "\n",
    "This inner() function calls the original divide() function with the arguments 2 and 5 and returns the result, which is 0.4.\n",
    "\n",
    "Similarly, When we call the divide() function with the arguments (2,0), the inner() function checks that b is equal to 0 and prints an error message before returning None."
   ]
  },
  {
   "cell_type": "markdown",
   "id": "f3cbb5ec",
   "metadata": {},
   "source": [
    "# Chaining Decorators in Python\n",
    "\n",
    "Multiple decorators can be chained in Python.\n",
    "\n",
    "To chain decorators in Python, we can apply multiple decorators to a single function by placing them one after the other, with the most outer decorator being applied first."
   ]
  },
  {
   "cell_type": "code",
   "execution_count": 12,
   "id": "1cdfd568",
   "metadata": {},
   "outputs": [
    {
     "name": "stdout",
     "output_type": "stream",
     "text": [
      "***************\n",
      "%%%%%%%%%%%%%%%\n",
      "Hello\n",
      "%%%%%%%%%%%%%%%\n",
      "***************\n"
     ]
    }
   ],
   "source": [
    "def star(func):\n",
    "    def inner(args):\n",
    "        print(\"*\" * 15)\n",
    "        func(args)              #here the printer original function get a call again but this time it uses \n",
    "        print(\"*\" * 15)        #the next decorator in chain i.e. @percent so % has been printed and again in printer function\n",
    "    return inner               #after printing % again a call for original printer function happens and ...so on....\n",
    "\n",
    "\n",
    "def percent(func):\n",
    "    def inner(args):\n",
    "        print(\"%\" * 15)\n",
    "        func(args)\n",
    "        print(\"%\" * 15)\n",
    "    return inner\n",
    "\n",
    "\n",
    "@star\n",
    "@percent\n",
    "def printer(msg):\n",
    "    print(msg)\n",
    "\n",
    "printer(\"Hello\")"
   ]
  },
  {
   "cell_type": "raw",
   "id": "62238d79",
   "metadata": {},
   "source": [
    "The above syntax of,\n",
    "\n",
    "@star\n",
    "@percent\n",
    "def printer(msg):\n",
    "    print(msg)\n",
    "is equivalent to\n",
    "\n",
    "\n",
    "def printer(msg):\n",
    "    print(msg)\n",
    "printer = star(percent(printer))\n",
    "\n",
    "The order in which we chain decorators matter. If we had reversed the order as,\n",
    "\n",
    "@percent\n",
    "@star\n",
    "def printer(msg):\n",
    "    print(msg)\n",
    "    \n",
    "The output would be:"
   ]
  },
  {
   "cell_type": "code",
   "execution_count": 16,
   "id": "a085b3a6",
   "metadata": {},
   "outputs": [
    {
     "name": "stdout",
     "output_type": "stream",
     "text": [
      "%%%%%%%%%%%%%%%\n",
      "***************\n",
      "Hello\n",
      "***************\n",
      "%%%%%%%%%%%%%%%\n"
     ]
    }
   ],
   "source": [
    "@percent\n",
    "@star\n",
    "def printer(msg):\n",
    "    print(msg)\n",
    "    \n",
    "printer(\"Hello\")"
   ]
  },
  {
   "cell_type": "code",
   "execution_count": null,
   "id": "101fdc9e",
   "metadata": {},
   "outputs": [],
   "source": []
  }
 ],
 "metadata": {
  "kernelspec": {
   "display_name": "Python 3 (ipykernel)",
   "language": "python",
   "name": "python3"
  },
  "language_info": {
   "codemirror_mode": {
    "name": "ipython",
    "version": 3
   },
   "file_extension": ".py",
   "mimetype": "text/x-python",
   "name": "python",
   "nbconvert_exporter": "python",
   "pygments_lexer": "ipython3",
   "version": "3.9.7"
  }
 },
 "nbformat": 4,
 "nbformat_minor": 5
}
