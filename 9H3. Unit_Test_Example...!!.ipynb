{
 "cells": [
  {
   "cell_type": "code",
   "execution_count": 5,
   "id": "b25bcc3e",
   "metadata": {},
   "outputs": [
    {
     "name": "stderr",
     "output_type": "stream",
     "text": [
      ".....\n",
      "----------------------------------------------------------------------\n",
      "Ran 5 tests in 0.006s\n",
      "\n",
      "OK\n"
     ]
    }
   ],
   "source": [
    "# Python code to demonstrate working of unittest\n",
    "import unittest\n",
    "\n",
    "class TestStringMethods(unittest.TestCase):\n",
    "\n",
    "    def setUp(self):\n",
    "        pass\n",
    "\n",
    "    # Returns True if the string contains 4 a.\n",
    "    def test_strings_a(self):\n",
    "        self.assertEqual( 'a'*4, 'aaaa')\n",
    "\n",
    "    # Returns True if the string is in upper case.\n",
    "    def test_upper(self):\t\t\n",
    "        self.assertEqual('foo'.upper(), 'FOO')\n",
    "\n",
    "    # Returns TRUE if the string is in uppercase\n",
    "    # else returns False.\n",
    "    def test_isupper(self):\t\t\n",
    "        self.assertTrue('FOO'.isupper())\n",
    "        self.assertFalse('Foo'.isupper())\n",
    "\n",
    "    # Returns true if the string is stripped and\n",
    "    # matches the given output.\n",
    "    def test_strip(self):\t\t\n",
    "        s = 'geeksforgeeks'\n",
    "        self.assertEqual(s.strip('geek'), 'sforgeeks')\n",
    "\n",
    "    # Returns true if the string splits and matches\n",
    "    # the given output.\n",
    "    def test_split(self):\t\t\n",
    "        s = 'hello world'\n",
    "        self.assertEqual(s.split(), ['hello', 'world'])\n",
    "        with self.assertRaises(TypeError):\n",
    "            s.split(2)\n",
    "\n",
    "if __name__ == '__main__':\n",
    "\tunittest.main(argv=['first-arg-is-ignored'], exit=False)"
   ]
  },
  {
   "cell_type": "markdown",
   "id": "c37903bd",
   "metadata": {},
   "source": [
    "The above code is a short script to test 5 string methods. unittest.TestCase is used to create test cases by subclassing it. The last block of the code at the bottom allows us to run all the tests just by running the file.\n",
    "\n",
    "Basic terms used in the code :\n",
    "\n",
    "assertEqual() – This statement is used to check if the result obtained is equal to the expected result.\n",
    "\n",
    "assertTrue() / assertFalse() – This statement is used to verify if a given statement is true or false.\n",
    "\n",
    "assertRaises() – This statement is used to raise a specific exception."
   ]
  },
  {
   "cell_type": "markdown",
   "id": "3e53c274",
   "metadata": {},
   "source": [
    "# Description of tests :\n",
    "\n",
    "test_strings_a\n",
    "\n",
    "This test is used to test the property of string in which a character say ‘a’ multiplied by a number say ‘x’ gives the output as x times ‘a’. The assertEqual() statement returns true in this case if the result matches the given output.\n",
    "\n",
    "test_upper\n",
    "\n",
    "This test is used to check if the given string is converted to uppercase or not. The assertEqual() statement returns true if the string returned is in uppercase.\n",
    "\n",
    "test_isupper\n",
    "\n",
    "This test is used to test the property of string which returns TRUE if the string is in uppercase else returns False. The assertTrue() / assertFalse() statement is used for this verification.\n",
    "\n",
    "test_strip\n",
    "\n",
    "This test is used to check if all chars passed in the function have been stripped from the string. The assertEqual() statement returns true if the string is stripped and matches the given output.\n",
    "\n",
    "test_split\n",
    "\n",
    "This test is used to check the split function of the string which splits the string through the argument passed in the function and returns the result as list. The assertEqual() statement returns true in this case if the result matches the given output."
   ]
  },
  {
   "cell_type": "raw",
   "id": "fcc078fb",
   "metadata": {},
   "source": [
    "unittest.main() provides a command-line interface to the test script.On running the above script from the command line, following output is produced :\n",
    "\n",
    ".....\n",
    "----------------------------------------------------------------------\n",
    "Ran 5 tests in 0.000s\n",
    "\n",
    "OK"
   ]
  },
  {
   "cell_type": "markdown",
   "id": "cc6d2864",
   "metadata": {},
   "source": [
    "There are various assertion methods available which can be used as per our need and requirements..."
   ]
  },
  {
   "cell_type": "code",
   "execution_count": null,
   "id": "200b6c29",
   "metadata": {},
   "outputs": [],
   "source": []
  }
 ],
 "metadata": {
  "kernelspec": {
   "display_name": "Python 3 (ipykernel)",
   "language": "python",
   "name": "python3"
  },
  "language_info": {
   "codemirror_mode": {
    "name": "ipython",
    "version": 3
   },
   "file_extension": ".py",
   "mimetype": "text/x-python",
   "name": "python",
   "nbconvert_exporter": "python",
   "pygments_lexer": "ipython3",
   "version": "3.9.7"
  }
 },
 "nbformat": 4,
 "nbformat_minor": 5
}
