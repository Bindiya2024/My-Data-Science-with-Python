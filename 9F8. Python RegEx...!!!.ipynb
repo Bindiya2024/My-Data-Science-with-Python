{
 "cells": [
  {
   "cell_type": "markdown",
   "id": "74cab88e",
   "metadata": {},
   "source": [
    "# Python RegEx\n",
    "\n",
    "In this tutorial, you will learn about regular expressions (RegEx), and use Python's re module to work with RegEx (with the help of examples).\n",
    "\n",
    "A Regular Expression (RegEx) is a sequence of characters that defines a search pattern. \n",
    "\n",
    "For example,\n",
    "\n",
    "^a...s$\n",
    "\n",
    "The above code defines a RegEx pattern. The pattern is: any five letter string starting with a and ending with s.\n",
    "\n",
    "Few examples of following strings :"
   ]
  },
  {
   "cell_type": "raw",
   "id": "3e323a48",
   "metadata": {},
   "source": [
    "A pattern defined using RegEx can be used to match against a string.\n",
    "\n",
    "Expression\t       String\t     Matched?\n",
    "\n",
    "^a...s$\t            abs\t         No match\n",
    "\n",
    "                    alias\t     Match\n",
    "\n",
    "                    abyss\t     Match\n",
    "\n",
    "                    Alias\t     No match\n",
    "\n",
    "                    An abacus\t No match\n",
    "\n",
    "We can see the results Match or No match in above examples for given string for given expression"
   ]
  },
  {
   "cell_type": "markdown",
   "id": "d0f2d6ad",
   "metadata": {},
   "source": [
    "Python has a module named re to work with RegEx. Here's an example:"
   ]
  },
  {
   "cell_type": "code",
   "execution_count": 2,
   "id": "a22c3916",
   "metadata": {},
   "outputs": [
    {
     "name": "stdout",
     "output_type": "stream",
     "text": [
      "Search successful.\n"
     ]
    }
   ],
   "source": [
    "import re\n",
    "\n",
    "pattern = '^T...e$'\n",
    "test_string = 'There'\n",
    "                \n",
    "\n",
    "result = re.match(pattern, test_string)\n",
    "\n",
    "if result:\n",
    "  print(\"Search successful.\")\n",
    "else:\n",
    "  print(\"Search unsuccessful.\")\t"
   ]
  },
  {
   "cell_type": "code",
   "execution_count": 7,
   "id": "4bc2f300",
   "metadata": {},
   "outputs": [
    {
     "data": {
      "text/plain": [
       "<re.Match object; span=(0, 5), match='abyss'>"
      ]
     },
     "execution_count": 7,
     "metadata": {},
     "output_type": "execute_result"
    }
   ],
   "source": [
    "result #try this by changing the value of string above lets say by removing last s, see the difference on result"
   ]
  },
  {
   "cell_type": "markdown",
   "id": "4906fc75",
   "metadata": {},
   "source": [
    "Here, we used re.match() function to search pattern within the test_string. The method returns a match object if the search is successful. If not, it returns None.\n",
    "\n",
    "There are other several functions defined in the re module to work with RegEx. Before we explore that, let's learn about regular expressions themselves."
   ]
  },
  {
   "cell_type": "markdown",
   "id": "4eb7e356",
   "metadata": {},
   "source": [
    "# Specify Pattern Using RegEx\n",
    "\n",
    "To specify regular expressions, metacharacters are used. In the above example, ^ and $ are metacharacters.\n",
    "\n",
    "MetaCharacters:\n",
    "\n",
    "Metacharacters are characters that are interpreted in a special way by a RegEx engine. Here's a list of metacharacters:\n",
    "\n",
    "[] . ^ $ * + ? {} () \\ |"
   ]
  },
  {
   "cell_type": "raw",
   "id": "c8eb9056",
   "metadata": {},
   "source": [
    "[] - Square brackets\n",
    "\n",
    "Square brackets specifies a set of characters you wish to match.\n",
    "\n",
    "Expression\t                      String\t            Matched?\n",
    "\n",
    "[abc]\t                           a\t                1 match\n",
    "\n",
    "                                   ac\t                2 matches\n",
    "\n",
    "                                   Hey Jude\t            No match\n",
    "\n",
    "                                   abc de ca\t        5 matches\n",
    "\n",
    "Here, [abc] will match if the string you are trying to match contains any of the a, b or c.\n",
    "\n",
    "You can also specify a range of characters using - inside square brackets.\n",
    "\n",
    "[a-e] is the same as [abcde].\n",
    "\n",
    "[1-4] is the same as [1234].\n",
    "\n",
    "[0-39] is the same as [01239].\n",
    "\n",
    "You can complement (invert) the character set by using caret ^ symbol at the start of a square-bracket.\n",
    "\n",
    "[^abc] means any character except a or b or c.\n",
    "\n",
    "[^0-9] means any non-digit character.\n"
   ]
  },
  {
   "cell_type": "raw",
   "id": "0cec34b6",
   "metadata": {},
   "source": [
    ". - Period\n",
    "\n",
    "A period matches any single character (except newline '\\n').\n",
    "\n",
    "Expression\t                     String\t                  Matched?\n",
    "\n",
    "..\t                             a\t                      No match\n",
    "\n",
    "                                 ac\t                      2 match\n",
    "\n",
    "                                 acd\t                  2 match\n",
    "\n",
    "                                 acde\t                  2 matches (contains 4 characters)"
   ]
  },
  {
   "cell_type": "code",
   "execution_count": 19,
   "id": "d3ae5ffa",
   "metadata": {},
   "outputs": [
    {
     "name": "stdout",
     "output_type": "stream",
     "text": [
      "Search successful.\n"
     ]
    }
   ],
   "source": [
    "pattern = '...'        #Play with number of dots and changing the strings to for exprimentation\n",
    "test_string = 'abc'\n",
    "result = re.match(pattern, test_string)\n",
    "\n",
    "if result:\n",
    "  print(\"Search successful.\")\n",
    "else:\n",
    "  print(\"Search unsuccessful.\")\t"
   ]
  },
  {
   "cell_type": "code",
   "execution_count": 15,
   "id": "19d34f18",
   "metadata": {},
   "outputs": [
    {
     "name": "stdout",
     "output_type": "stream",
     "text": [
      "<re.Match object; span=(0, 3), match='abc'>\n"
     ]
    }
   ],
   "source": [
    "print(result)"
   ]
  },
  {
   "cell_type": "raw",
   "id": "ac62a362",
   "metadata": {},
   "source": [
    "^ - Caret\n",
    "\n",
    "The caret symbol ^ is used to check if a string starts with a certain character.\n",
    "\n",
    "Expression\t                     String\t                     Matched?\n",
    "\n",
    "^a\t                             a\t                         1 match\n",
    "\n",
    "                                 abc\t                     1 match\n",
    "\n",
    "                                 bac\t                     No match\n",
    "                                 \n",
    "^ab\t                             abc\t                     match\n",
    "\n",
    "                                 acb\t                     No match (starts with a but not followed by b)"
   ]
  },
  {
   "cell_type": "raw",
   "id": "63dd80e9",
   "metadata": {},
   "source": [
    "$ - Dollar\n",
    "\n",
    "The dollar symbol $ is used to check if a string ends with a certain character.\n",
    "\n",
    "Expression\t                     String\t                     Matched?\n",
    "\n",
    "a$\t                             a\t                         1 match\n",
    "\n",
    "                                 formula\t                 1 match\n",
    "\n",
    "                                 cab\t                     No match"
   ]
  },
  {
   "cell_type": "raw",
   "id": "fa861c9a",
   "metadata": {},
   "source": [
    "* - Star\n",
    "\n",
    "The star symbol * matches zero or more occurrences of the pattern left to it.\n",
    "\n",
    "Expression\t                     String\t                     Matched?\n",
    "\n",
    "ma*n\t                         mn\t                         1 match\n",
    "\n",
    "                                 man\t                     1 match\n",
    "\n",
    "                                 maaan\t                     1 match\n",
    "\n",
    "                                 main\t                     No match (a is not followed by n)\n",
    "\n",
    "                                 woman\t                     1 match"
   ]
  },
  {
   "cell_type": "raw",
   "id": "45c1f367",
   "metadata": {},
   "source": [
    "+ - Plus\n",
    "\n",
    "The plus symbol + matches one or more occurrences of the pattern left to it.\n",
    "\n",
    "Expression\t                    String\t                    Matched?\n",
    "\n",
    "ma+n\t                        mn\t                        No match (no a character)\n",
    "\n",
    "                                man\t                        1 match\n",
    "\n",
    "                                maaan\t                    1 match\n",
    "\n",
    "                                main\t                    No match (a is not followed by n)\n",
    "\n",
    "                                woman\t                    1 match"
   ]
  },
  {
   "cell_type": "raw",
   "id": "0a13d333",
   "metadata": {},
   "source": [
    "? - Question Mark\n",
    "\n",
    "The question mark symbol ? matches zero or one occurrence of the pattern left to it.\n",
    "\n",
    "Expression\t                    String\t                    Matched?\n",
    "\n",
    "ma?n\t                        mn\t                        1 match\n",
    "\n",
    "                                man\t                        1 match\n",
    "\n",
    "                                maaan\t                    No match (more than one a character)\n",
    "\n",
    "                                main\t                    No match (a is not followed by n)\n",
    "\n",
    "                                woman\t                    1 match"
   ]
  },
  {
   "cell_type": "raw",
   "id": "3a7d17f7",
   "metadata": {},
   "source": [
    "{} - Braces\n",
    "\n",
    "Consider this code: {n,m}. This means at least n, and at most m repetitions of the pattern starting from left in the string.\n",
    "\n",
    "Expression\t                   String\t                    Matched?\n",
    "\n",
    "a{2,3}\t                       abc dat\t                    No match\n",
    "\n",
    "                               abc daat\t                    1 match (at daat)\n",
    "\n",
    "                               aabc daaat\t                2 matches (at aabc and daaat)\n",
    "\n",
    "                               aabc daaaat\t                2 matches (at aabc and daaaat)"
   ]
  },
  {
   "cell_type": "code",
   "execution_count": 99,
   "id": "7c3fd6f6",
   "metadata": {},
   "outputs": [
    {
     "name": "stdout",
     "output_type": "stream",
     "text": [
      "Search successful.\n"
     ]
    }
   ],
   "source": [
    "#pattern = 'a{1,3}'  #Play with number of dots and changing the strings to for exprimentation\n",
    "\n",
    "pattern = r'(a){2,5}'\n",
    "\n",
    "test_string = 'aaabcaaadt'\n",
    "result = re.match(pattern, test_string)\n",
    "\n",
    "if result:\n",
    "  print(\"Search successful.\")\n",
    "else:\n",
    "  print(\"Search unsuccessful.\")\t"
   ]
  },
  {
   "cell_type": "raw",
   "id": "47304a82",
   "metadata": {},
   "source": [
    "Let's try one more example. This RegEx [0-9]{2, 4} matches at least 2 digits but not more than 4 digits\n",
    "\n",
    "Expression\t                   String\t                   Matched?\n",
    "\n",
    "[0-9]{2,4}\t                   ab123csde\t               1 match (match at ab123csde)\n",
    "\n",
    "                               12 and 345673\t           3 matches (12, 3456, 73)\n",
    "\n",
    "                               1 and 2\t                   No match"
   ]
  },
  {
   "cell_type": "code",
   "execution_count": 110,
   "id": "8a0312d5",
   "metadata": {},
   "outputs": [
    {
     "name": "stdout",
     "output_type": "stream",
     "text": [
      "Search unsuccessful.\n"
     ]
    }
   ],
   "source": [
    "pattern = '[0-9]{10,16}'\n",
    "\n",
    "test_string = '000198sde5214'\n",
    "result = re.match(pattern, test_string)\n",
    "\n",
    "if result:\n",
    "  print(\"Search successful.\")\n",
    "else:\n",
    "  print(\"Search unsuccessful.\")\t"
   ]
  },
  {
   "cell_type": "raw",
   "id": "a8edd9a6",
   "metadata": {},
   "source": [
    "| - Alternation\n",
    "\n",
    "Vertical bar | is used for alternation (or operator).\n",
    "\n",
    "Expression\t                  String\t                   Matched?\n",
    "\n",
    "a|b\t                          cde\t                       No match\n",
    "\n",
    "                              ade\t                       1 match (match at ade)\n",
    "\n",
    "                              acdbea\t                   3 matches (at acdbea)\n",
    "\n",
    "Here, a|b match any string that contains either a or b at the beginning of the string"
   ]
  },
  {
   "cell_type": "code",
   "execution_count": 116,
   "id": "042c7c0e",
   "metadata": {},
   "outputs": [
    {
     "name": "stdout",
     "output_type": "stream",
     "text": [
      "Search unsuccessful.\n"
     ]
    }
   ],
   "source": [
    "pattern = 'a|b'\n",
    "\n",
    "test_string = 'dabe'\n",
    "result = re.match(pattern, test_string)\n",
    "\n",
    "if result:\n",
    "  print(\"Search successful.\")\n",
    "else:\n",
    "  print(\"Search unsuccessful.\")\t"
   ]
  },
  {
   "cell_type": "raw",
   "id": "b540ffd3",
   "metadata": {},
   "source": [
    "() - Group\n",
    "\n",
    "Parentheses () is used to group sub-patterns. \n",
    "\n",
    "For example, (a|b|c)xz match any string that matches either a or b or c followed by xz\n",
    "\n",
    "Expression\t                 String\t                      Matched?\n",
    "\n",
    "(a|b|c)xz\t                 ab xz\t                      No match\n",
    "\n",
    "                             abxz\t                      1 match (match at abxz)\n",
    "\n",
    "                             axz cabxz\t                  2 matches (at axz cabxz)"
   ]
  },
  {
   "cell_type": "code",
   "execution_count": 125,
   "id": "47590f6c",
   "metadata": {},
   "outputs": [
    {
     "name": "stdout",
     "output_type": "stream",
     "text": [
      "Search successful.\n"
     ]
    }
   ],
   "source": [
    "pattern = '(a|b|#)xz'\n",
    "\n",
    "test_string = '#xz cabxz'\n",
    "result = re.match(pattern, test_string)\n",
    "\n",
    "if result:\n",
    "  print(\"Search successful.\")\n",
    "else:\n",
    "  print(\"Search unsuccessful.\")\t"
   ]
  },
  {
   "cell_type": "raw",
   "id": "02c87805",
   "metadata": {},
   "source": [
    "\\ - Backslash\n",
    "\n",
    "Backlash \\ is used to escape various characters including all metacharacters. For example,\n",
    "\n",
    "\\$a match if a string contains $ followed by a. Here, $ is not interpreted by a RegEx engine in a special way.\n",
    "\n",
    "If you are unsure if a character has special meaning or not, you can put \\ in front of it. This makes sure the character is not treated in a special way."
   ]
  },
  {
   "cell_type": "code",
   "execution_count": 171,
   "id": "3f183d6f",
   "metadata": {},
   "outputs": [
    {
     "name": "stdout",
     "output_type": "stream",
     "text": [
      "Search unsuccessful.\n"
     ]
    }
   ],
   "source": [
    "pattern = '\\.com'  #it will search the pattern only at the beginning of the string\n",
    "\n",
    "test_string = '.co.in'\n",
    "result = re.match(pattern, test_string)\n",
    "\n",
    "if result:\n",
    "  print(\"Search successful.\")\n",
    "else:\n",
    "  print(\"Search unsuccessful.\")\t"
   ]
  },
  {
   "cell_type": "markdown",
   "id": "777a1d1e",
   "metadata": {},
   "source": [
    "# Special Sequences\n",
    "\n",
    "Special sequences make commonly used patterns easier to write. Here's a list of special sequences:"
   ]
  },
  {
   "cell_type": "raw",
   "id": "1a71c489",
   "metadata": {},
   "source": [
    "\\A - Matches if the specified characters are at the start of a string.\n",
    "\n",
    "Expression\t                String\t                      Matched?\n",
    "\n",
    "\\Athe\t                    the sun\t                      Match\n",
    "\n",
    "                            In the sun\t                  No match"
   ]
  },
  {
   "cell_type": "code",
   "execution_count": 173,
   "id": "6863c676",
   "metadata": {},
   "outputs": [
    {
     "name": "stdout",
     "output_type": "stream",
     "text": [
      "Search unsuccessful.\n"
     ]
    }
   ],
   "source": [
    "pattern = '\\Athe'  #it will search the pattern only at the beginning of the string\n",
    "\n",
    "test_string = 'the sun'\n",
    "result = re.match(pattern, test_string)\n",
    "\n",
    "if result:\n",
    "  print(\"Search successful.\")\n",
    "else:\n",
    "  print(\"Search unsuccessful.\")\t"
   ]
  },
  {
   "cell_type": "raw",
   "id": "a3d21430",
   "metadata": {},
   "source": [
    "\\b - Matches if the specified characters are at the beginning or end of a word.\n",
    "\n",
    "Expression\t                String\t                      Matched?\n",
    "\n",
    "\\bfoo\t                    football\t                  Match\n",
    "\n",
    "                            a football\t                  Match\n",
    "\n",
    "                            afootball\t                  No match\n",
    "                            \n",
    "\n",
    "foo\\b\t                    the foo\t                      Match\n",
    "\n",
    "                            the afoo test\t              Match\n",
    "\n",
    "                            the afootest\t              No match"
   ]
  },
  {
   "cell_type": "raw",
   "id": "df41d99b",
   "metadata": {},
   "source": [
    "\\B - Opposite of \\b. Matches if the specified characters are not at the beginning or end of a word.\n",
    "\n",
    "Expression\t                String\t                     Matched?\n",
    "\n",
    "\\Bfoo\t                    football\t                 No match\n",
    "\n",
    "                            a football\t                 No match\n",
    "\n",
    "                            afootball\t                 Match\n",
    "\n",
    "foo\\B\t                    the foo\t                     No match\n",
    "\n",
    "                            the afoo test\t             No match\n",
    "\n",
    "                            the afootest\t             Match"
   ]
  },
  {
   "cell_type": "raw",
   "id": "b07c7529",
   "metadata": {},
   "source": [
    "\\d - Matches any decimal digit. Equivalent to [0-9]\n",
    "\n",
    "Expression\t                String\t                    Matched?\n",
    "\n",
    "\\d\t                        12abc3\t                    3 matches (at 12abc3)\n",
    "\n",
    "                            Python\t                    No match\n",
    "\n",
    "\\D - Matches any non-decimal digit. Equivalent to [^0-9]\n",
    "\n",
    "Expression\t                String\t                    Matched?\n",
    "\n",
    "\\D\t                        1ab34\"50\t                3 matches (at 1ab34\"50)\n",
    "\n",
    "                            1345\t                    No match"
   ]
  },
  {
   "cell_type": "raw",
   "id": "8e804e19",
   "metadata": {},
   "source": [
    "\\s - Matches where a string contains any whitespace character. Equivalent to [ \\t\\n\\r\\f\\v].\n",
    "\n",
    "Expression\t               String\t                    Matched?\n",
    "\n",
    "\\s\t                       Python RegEx\t                1 match\n",
    "\n",
    "                           PythonRegEx\t                No match\n",
    "\n",
    "\\S - Matches where a string contains any non-whitespace character. Equivalent to [^ \\t\\n\\r\\f\\v].\n",
    "\n",
    "Expression\t               String\t                    Matched?\n",
    "\n",
    "\\S\t                       a b\t                        2 matches (at  a b)\n",
    "\n",
    "   \t                                                    No match"
   ]
  },
  {
   "cell_type": "raw",
   "id": "ce25ed07",
   "metadata": {},
   "source": [
    "\\w - Matches any alphanumeric character (digits and alphabets). Equivalent to [a-zA-Z0-9_]. By the way, underscore _ is also considered an alphanumeric character.\n",
    "\n",
    "Expression\t                String\t                    Matched?\n",
    "\n",
    "\\w\t                        12&\": ;c \t                3 matches (at 12&\": ;c)\n",
    "    \n",
    "                            %\"> !\t                     No match\n",
    "\n",
    "\\W - Matches any non-alphanumeric character. Equivalent to [^a-zA-Z0-9_]\n",
    "\n",
    "\n",
    "Expression\t                String\t                    Matched?\n",
    "\n",
    "\\W\t                        1a2%c\t                    1 match (at 1a2%c)\n",
    "\n",
    "                            Python\t                    No match"
   ]
  },
  {
   "cell_type": "raw",
   "id": "edbfff07",
   "metadata": {},
   "source": [
    "\\Z - Matches if the specified characters are at the end of a string.\n",
    "\n",
    "Expression\t                String\t                    Matched?\n",
    "\n",
    "Python\\Z\t                I like Python\t            1 match\n",
    "\n",
    "                            I like Python Programming\tNo match\n",
    "\n",
    "                            Python is fun.\t            No match"
   ]
  },
  {
   "cell_type": "markdown",
   "id": "02a2f2af",
   "metadata": {},
   "source": [
    "Tip: To build and test regular expressions, you can use RegEx tester tools such as regex101. This tool not only helps you in creating regular expressions, but it also helps you learn it.\n",
    "\n",
    "Now you understand the basics of RegEx, let's discuss how to use RegEx in your Python code."
   ]
  },
  {
   "cell_type": "markdown",
   "id": "047211b3",
   "metadata": {},
   "source": [
    "# Python RegEx\n",
    "\n",
    "Python has a module named re to work with regular expressions. To use it, we need to import the module."
   ]
  },
  {
   "cell_type": "code",
   "execution_count": null,
   "id": "b38b1cc5",
   "metadata": {},
   "outputs": [],
   "source": [
    "import re\n",
    "\n",
    "# The module defines several functions and constants to work with RegEx."
   ]
  },
  {
   "cell_type": "markdown",
   "id": "52ccf53b",
   "metadata": {},
   "source": [
    "# re.findall()\n",
    "\n",
    "The re.findall() method returns a list of strings containing all matches.\n",
    "\n",
    "Example 1: re.findall()"
   ]
  },
  {
   "cell_type": "code",
   "execution_count": 47,
   "id": "b215b9bc",
   "metadata": {},
   "outputs": [
    {
     "name": "stdout",
     "output_type": "stream",
     "text": [
      "['12', '89', '34']\n"
     ]
    }
   ],
   "source": [
    "# Program to extract numbers from a string\n",
    "\n",
    "import re\n",
    "\n",
    "string = 'hello 12 hi 89. Howdy 34'\n",
    "pattern = '\\d+'\n",
    "\n",
    "result = re.findall(pattern, string) \n",
    "print(result)\n",
    "\n",
    "# Output: ['12', '89', '34']"
   ]
  },
  {
   "cell_type": "markdown",
   "id": "2f84c4e1",
   "metadata": {},
   "source": [
    "If the pattern is not found, re.findall() returns an empty list."
   ]
  },
  {
   "cell_type": "markdown",
   "id": "ab328f29",
   "metadata": {},
   "source": [
    "# re.split()\n",
    "\n",
    "The re.split method splits the string where there is a match and returns a list of strings where the splits have occurred.\n",
    "\n",
    "Example 2: re.split()"
   ]
  },
  {
   "cell_type": "code",
   "execution_count": 52,
   "id": "c5b9921b",
   "metadata": {},
   "outputs": [
    {
     "name": "stdout",
     "output_type": "stream",
     "text": [
      "['Twelve:', ' Eighty nine:', '.']\n"
     ]
    }
   ],
   "source": [
    "import re\n",
    "\n",
    "string = 'Twelve:12 Eighty nine:89.'\n",
    "pattern = '\\d+'\n",
    "\n",
    "result = re.split(pattern, string) \n",
    "print(result)\n",
    "\n",
    "# Output: ['Twelve:', ' Eighty nine:', '.']"
   ]
  },
  {
   "cell_type": "markdown",
   "id": "0c23ad92",
   "metadata": {},
   "source": [
    "If the pattern is not found, re.split() returns a list containing the original string."
   ]
  },
  {
   "cell_type": "markdown",
   "id": "9dbf7c0f",
   "metadata": {},
   "source": [
    "You can pass maxsplit argument to the re.split() method. It's the maximum number of splits that will occur."
   ]
  },
  {
   "cell_type": "code",
   "execution_count": 60,
   "id": "d150485e",
   "metadata": {},
   "outputs": [
    {
     "name": "stdout",
     "output_type": "stream",
     "text": [
      "['Twelve:', ' Eighty nine:89 Nine:9.']\n"
     ]
    }
   ],
   "source": [
    "import re\n",
    "\n",
    "string = 'Twelve:12 Eighty nine:89 Nine:9.'\n",
    "pattern = '\\d+'\n",
    "\n",
    "# maxsplit = 1\n",
    "# split only at the first occurrence\n",
    "result = re.split(pattern, string, 1) #try changing number from 0 to 4 to see the effect\n",
    "print(result)\n",
    "\n",
    "# Output: ['Twelve:', ' Eighty nine:89 Nine:9.']"
   ]
  },
  {
   "cell_type": "markdown",
   "id": "4a6eba74",
   "metadata": {},
   "source": [
    "By the way, the default value of maxsplit is 0; meaning all possible splits."
   ]
  },
  {
   "cell_type": "markdown",
   "id": "c715f556",
   "metadata": {},
   "source": [
    "# re.sub()\n",
    "\n",
    "The syntax of re.sub() is:\n",
    "\n",
    "re.sub(pattern, replace, string)\n",
    "\n",
    "The method returns a string where matched occurrences are replaced with the content of replace variable.\n",
    "\n",
    "Example 3: re.sub()"
   ]
  },
  {
   "cell_type": "code",
   "execution_count": 61,
   "id": "f3e83a02",
   "metadata": {},
   "outputs": [
    {
     "name": "stdout",
     "output_type": "stream",
     "text": [
      "abc12de23f456\n"
     ]
    }
   ],
   "source": [
    "# Program to remove all whitespaces\n",
    "import re\n",
    "\n",
    "# multiline string\n",
    "string = 'abc 12\\\n",
    "de 23 \\n f45 6'\n",
    "\n",
    "# matches all whitespace characters\n",
    "pattern = '\\s+'\n",
    "\n",
    "# empty string\n",
    "replace = ''    #replacing all the white spaces with '' means no space\n",
    "\n",
    "new_string = re.sub(pattern, replace, string) \n",
    "print(new_string)\n",
    "\n",
    "# Output: abc12de23f456"
   ]
  },
  {
   "cell_type": "markdown",
   "id": "2fc6c9f5",
   "metadata": {},
   "source": [
    "If the pattern is not found, re.sub() returns the original string."
   ]
  },
  {
   "cell_type": "markdown",
   "id": "560149b2",
   "metadata": {},
   "source": [
    "You can pass count as a fourth parameter to the re.sub() method. If omited, it results to 0. This will replace all occurrences."
   ]
  },
  {
   "cell_type": "code",
   "execution_count": 67,
   "id": "985b9b26",
   "metadata": {},
   "outputs": [
    {
     "name": "stdout",
     "output_type": "stream",
     "text": [
      "abc12de 23 \n",
      " f45 6\n"
     ]
    }
   ],
   "source": [
    "import re\n",
    "\n",
    "# multiline string\n",
    "string = 'abc 12\\\n",
    "de 23 \\n f45 6'\n",
    "\n",
    "# matches all whitespace characters\n",
    "pattern = '\\s+'\n",
    "replace = ''\n",
    "\n",
    "new_string = re.sub(r'\\s+', replace, string, 1) #try changing number from 0 to 4 to see the effect\n",
    "print(new_string)\n",
    "\n",
    "# Output:\n",
    "# abc12de 23\n",
    "# f45 6"
   ]
  },
  {
   "cell_type": "markdown",
   "id": "11d4d57d",
   "metadata": {},
   "source": [
    "# re.subn()\n",
    "The re.subn() is similar to re.sub() except it returns a tuple of 2 items containing the new string and the number of substitutions made.\n",
    "\n",
    "Example 4: re.subn()"
   ]
  },
  {
   "cell_type": "code",
   "execution_count": 72,
   "id": "1e2bfdfd",
   "metadata": {},
   "outputs": [
    {
     "name": "stdout",
     "output_type": "stream",
     "text": [
      "('abc12de23f456', 4)\n"
     ]
    }
   ],
   "source": [
    "# Program to remove all whitespaces\n",
    "import re\n",
    "\n",
    "# multiline string\n",
    "string = 'abc 12\\\n",
    "de 23 \\n f45 6'\n",
    "\n",
    "# matches all whitespace characters\n",
    "pattern = '\\s+'\n",
    "\n",
    "# empty string\n",
    "replace = ''\n",
    "\n",
    "new_string = re.subn(pattern, replace, string) #try giving numbers from 0 to 4 as above to see the effect\n",
    "print(new_string)\n",
    "\n",
    "# Output: ('abc12de23f456', 4)"
   ]
  },
  {
   "cell_type": "markdown",
   "id": "07238bc7",
   "metadata": {},
   "source": [
    "# re.search()\n",
    "\n",
    "The re.search() method takes two arguments: a pattern and a string. The method looks for the first location where the RegEx pattern produces a match with the string.\n",
    "\n",
    "If the search is successful, re.search() returns a match object; if not, it returns None.\n",
    "\n",
    "match = re.search(pattern, str)\n",
    "\n",
    "Example 5: re.search()"
   ]
  },
  {
   "cell_type": "code",
   "execution_count": 73,
   "id": "af6f43e8",
   "metadata": {},
   "outputs": [
    {
     "name": "stdout",
     "output_type": "stream",
     "text": [
      "pattern found inside the string\n"
     ]
    }
   ],
   "source": [
    "import re\n",
    "\n",
    "string = \"Python is fun\"\n",
    "\n",
    "# check if 'Python' is at the beginning\n",
    "match = re.search('\\APython', string)\n",
    "\n",
    "if match:\n",
    "  print(\"pattern found inside the string\")\n",
    "else:\n",
    "  print(\"pattern not found\")  \n",
    "\n",
    "# Output: pattern found inside the string"
   ]
  },
  {
   "cell_type": "markdown",
   "id": "33883bc8",
   "metadata": {},
   "source": [
    "Here, match contains a match object."
   ]
  },
  {
   "cell_type": "markdown",
   "id": "d413a2ec",
   "metadata": {},
   "source": [
    "# Match object\n",
    "\n",
    "You can get methods and attributes of a match object using dir() function."
   ]
  },
  {
   "cell_type": "code",
   "execution_count": 77,
   "id": "b782a710",
   "metadata": {},
   "outputs": [
    {
     "data": {
      "text/plain": [
       "['__class__',\n",
       " '__class_getitem__',\n",
       " '__copy__',\n",
       " '__deepcopy__',\n",
       " '__delattr__',\n",
       " '__dir__',\n",
       " '__doc__',\n",
       " '__eq__',\n",
       " '__format__',\n",
       " '__ge__',\n",
       " '__getattribute__',\n",
       " '__getitem__',\n",
       " '__gt__',\n",
       " '__hash__',\n",
       " '__init__',\n",
       " '__init_subclass__',\n",
       " '__le__',\n",
       " '__lt__',\n",
       " '__ne__',\n",
       " '__new__',\n",
       " '__reduce__',\n",
       " '__reduce_ex__',\n",
       " '__repr__',\n",
       " '__setattr__',\n",
       " '__sizeof__',\n",
       " '__str__',\n",
       " '__subclasshook__',\n",
       " 'end',\n",
       " 'endpos',\n",
       " 'expand',\n",
       " 'group',\n",
       " 'groupdict',\n",
       " 'groups',\n",
       " 'lastgroup',\n",
       " 'lastindex',\n",
       " 'pos',\n",
       " 're',\n",
       " 'regs',\n",
       " 'span',\n",
       " 'start',\n",
       " 'string']"
      ]
     },
     "execution_count": 77,
     "metadata": {},
     "output_type": "execute_result"
    }
   ],
   "source": [
    "dir(match)"
   ]
  },
  {
   "cell_type": "code",
   "execution_count": 82,
   "id": "f380e276",
   "metadata": {},
   "outputs": [
    {
     "data": {
      "text/plain": [
       "'Python is fun'"
      ]
     },
     "execution_count": 82,
     "metadata": {},
     "output_type": "execute_result"
    }
   ],
   "source": [
    "match.string"
   ]
  },
  {
   "cell_type": "markdown",
   "id": "1a333087",
   "metadata": {},
   "source": [
    "Some of the commonly used methods and attributes of match objects are:"
   ]
  },
  {
   "cell_type": "markdown",
   "id": "6e053023",
   "metadata": {},
   "source": [
    "# match.group()\n",
    "\n",
    "The group() method returns the part of the string where there is a match.\n",
    "\n",
    "Example 6: Match object"
   ]
  },
  {
   "cell_type": "code",
   "execution_count": 21,
   "id": "632b8bee",
   "metadata": {},
   "outputs": [
    {
     "name": "stdout",
     "output_type": "stream",
     "text": [
      "801 35\n"
     ]
    }
   ],
   "source": [
    "import re\n",
    "\n",
    "string = '39801 356, 2102 1111'\n",
    "\n",
    "# Three digit number followed by space followed by two digit number\n",
    "pattern = '(\\d{3}) (\\d{2})'  #try changing different digets to expriment and better understanding\n",
    "\n",
    "# match variable contains a Match object.\n",
    "match = re.search(pattern, string) \n",
    "\n",
    "if match:\n",
    "  print(match.group())\n",
    "else:\n",
    "  print(\"pattern not found\")\n",
    "\n",
    "# Output: 801 35"
   ]
  },
  {
   "cell_type": "markdown",
   "id": "55c93523",
   "metadata": {},
   "source": [
    "Here, match variable contains a match object.\n",
    "\n",
    "Our pattern (\\d{3}) (\\d{2}) has two subgroups (\\d{3}) and (\\d{2}). You can get the part of the string of these parenthesized subgroups. Here's how:"
   ]
  },
  {
   "cell_type": "code",
   "execution_count": 94,
   "id": "34734683",
   "metadata": {},
   "outputs": [
    {
     "data": {
      "text/plain": [
       "'801'"
      ]
     },
     "execution_count": 94,
     "metadata": {},
     "output_type": "execute_result"
    }
   ],
   "source": [
    "match.group(1)\n",
    "#'801'"
   ]
  },
  {
   "cell_type": "code",
   "execution_count": 95,
   "id": "480c97c2",
   "metadata": {},
   "outputs": [
    {
     "data": {
      "text/plain": [
       "'35'"
      ]
     },
     "execution_count": 95,
     "metadata": {},
     "output_type": "execute_result"
    }
   ],
   "source": [
    "match.group(2)\n",
    "#'35'"
   ]
  },
  {
   "cell_type": "code",
   "execution_count": 96,
   "id": "2e3356cf",
   "metadata": {},
   "outputs": [
    {
     "data": {
      "text/plain": [
       "('801', '35')"
      ]
     },
     "execution_count": 96,
     "metadata": {},
     "output_type": "execute_result"
    }
   ],
   "source": [
    "match.group(1, 2)\n",
    "#('801', '35')"
   ]
  },
  {
   "cell_type": "code",
   "execution_count": 97,
   "id": "ea676b7f",
   "metadata": {},
   "outputs": [
    {
     "data": {
      "text/plain": [
       "('801', '35')"
      ]
     },
     "execution_count": 97,
     "metadata": {},
     "output_type": "execute_result"
    }
   ],
   "source": [
    "match.groups()"
   ]
  },
  {
   "cell_type": "markdown",
   "id": "e2accf96",
   "metadata": {},
   "source": [
    "# match.start(), match.end() and match.span()\n",
    "\n",
    "The start() function returns the index of the start of the matched substring. Similarly, end() returns the end index of the matched substring."
   ]
  },
  {
   "cell_type": "code",
   "execution_count": 99,
   "id": "0276d531",
   "metadata": {},
   "outputs": [
    {
     "data": {
      "text/plain": [
       "2"
      ]
     },
     "execution_count": 99,
     "metadata": {},
     "output_type": "execute_result"
    }
   ],
   "source": [
    "match.start() #8 is at 2nd index in '39801 356, 2102 1111'\n",
    "#2"
   ]
  },
  {
   "cell_type": "code",
   "execution_count": 101,
   "id": "5adf3462",
   "metadata": {},
   "outputs": [
    {
     "data": {
      "text/plain": [
       "8"
      ]
     },
     "execution_count": 101,
     "metadata": {},
     "output_type": "execute_result"
    }
   ],
   "source": [
    "match.end() #6 is at 8th index in '39801 356, 2102 1111'\n",
    "#8"
   ]
  },
  {
   "cell_type": "markdown",
   "id": "d2bded18",
   "metadata": {},
   "source": [
    "The span() function returns a tuple containing start and end index of the matched part."
   ]
  },
  {
   "cell_type": "code",
   "execution_count": 102,
   "id": "392ce49e",
   "metadata": {},
   "outputs": [
    {
     "data": {
      "text/plain": [
       "(2, 8)"
      ]
     },
     "execution_count": 102,
     "metadata": {},
     "output_type": "execute_result"
    }
   ],
   "source": [
    "match.span()\n",
    "#(2, 8)"
   ]
  },
  {
   "cell_type": "markdown",
   "id": "330fe5f7",
   "metadata": {},
   "source": [
    "# match.re and match.string\n",
    "The re attribute of a matched object returns a regular expression object. Similarly, string attribute returns the passed string."
   ]
  },
  {
   "cell_type": "code",
   "execution_count": 103,
   "id": "2bc65487",
   "metadata": {},
   "outputs": [
    {
     "data": {
      "text/plain": [
       "re.compile(r'(\\d{3}) (\\d{2})', re.UNICODE)"
      ]
     },
     "execution_count": 103,
     "metadata": {},
     "output_type": "execute_result"
    }
   ],
   "source": [
    "match.re\n",
    "re.compile('(\\\\d{3}) (\\\\d{2})')"
   ]
  },
  {
   "cell_type": "code",
   "execution_count": 104,
   "id": "c390861f",
   "metadata": {},
   "outputs": [
    {
     "data": {
      "text/plain": [
       "'39801 356, 2102 1111'"
      ]
     },
     "execution_count": 104,
     "metadata": {},
     "output_type": "execute_result"
    }
   ],
   "source": [
    "match.string\n",
    "#'39801 356, 2102 1111'"
   ]
  },
  {
   "cell_type": "markdown",
   "id": "799c0a2b",
   "metadata": {},
   "source": [
    "We have covered all commonly used methods defined in the re module. If you want to learn more, research more....\n",
    "\n",
    "One last example of r or R prefix in RegEx..."
   ]
  },
  {
   "cell_type": "markdown",
   "id": "d5dcfeb1",
   "metadata": {},
   "source": [
    "# Using r prefix before RegEx\n",
    "When r or R prefix is used before a regular expression, it means raw string. For example, '\\n' is a new line whereas r'\\n' means two characters: a backslash \\ followed by n.\n",
    "\n",
    "Backlash \\ is used to escape various characters including all metacharacters. However, using r prefix makes \\ treat as a normal character.\n",
    "\n",
    "Example 7: Raw string using r prefix"
   ]
  },
  {
   "cell_type": "code",
   "execution_count": 105,
   "id": "cb577436",
   "metadata": {},
   "outputs": [
    {
     "name": "stdout",
     "output_type": "stream",
     "text": [
      "['\\n', '\\r']\n"
     ]
    }
   ],
   "source": [
    "import re\n",
    "\n",
    "string = '\\n and \\r are escape sequences.'\n",
    "\n",
    "result = re.findall(r'[\\n\\r]', string) \n",
    "print(result)\n",
    "\n",
    "# Output: ['\\n', '\\r']"
   ]
  },
  {
   "cell_type": "code",
   "execution_count": null,
   "id": "a52751a6",
   "metadata": {},
   "outputs": [],
   "source": []
  }
 ],
 "metadata": {
  "kernelspec": {
   "display_name": "Python 3 (ipykernel)",
   "language": "python",
   "name": "python3"
  },
  "language_info": {
   "codemirror_mode": {
    "name": "ipython",
    "version": 3
   },
   "file_extension": ".py",
   "mimetype": "text/x-python",
   "name": "python",
   "nbconvert_exporter": "python",
   "pygments_lexer": "ipython3",
   "version": "3.9.7"
  }
 },
 "nbformat": 4,
 "nbformat_minor": 5
}
