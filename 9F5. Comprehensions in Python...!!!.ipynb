{
 "cells": [
  {
   "cell_type": "markdown",
   "id": "5b17b645",
   "metadata": {},
   "source": [
    "# Comprehensions in Python\n",
    "\n",
    "Comprehensions in Python provide us with a short and concise way to construct new sequences (such as lists, set, dictionary etc.) using sequences which have been already defined. Python supports the following 4 types of comprehensions:\n",
    "\n",
    "List Comprehensions\n",
    "\n",
    "Dictionary Comprehensions\n",
    "\n",
    "Set Comprehensions\n",
    "\n",
    "Generator Comprehensions"
   ]
  },
  {
   "cell_type": "markdown",
   "id": "66c3fddd",
   "metadata": {},
   "source": [
    "# List Comprehensions:\n",
    "    \n",
    "List Comprehensions provide an elegant way to create new lists. The following is the basic structure of a list comprehension:\n",
    "\n",
    "output_list = [output_exp for var in input_list if (var satisfies this condition)]\n",
    "\n",
    "Note that list comprehension may or may not contain an if condition. List comprehensions can contain multiple for (nested list comprehensions)."
   ]
  },
  {
   "cell_type": "markdown",
   "id": "e6dfea94",
   "metadata": {},
   "source": [
    "# Example #1: \n",
    "\n",
    "Suppose we want to create an output list which contains only the even numbers which are present in the input list. Let’s see how to do this using for loops and list comprehension and decide which method suits better."
   ]
  },
  {
   "cell_type": "code",
   "execution_count": 1,
   "id": "8c6ee494",
   "metadata": {},
   "outputs": [
    {
     "name": "stdout",
     "output_type": "stream",
     "text": [
      "Output List using for loop: [2, 4, 4, 6]\n"
     ]
    }
   ],
   "source": [
    "# Constructing output list WITHOUT\n",
    "# Using List comprehensions\n",
    "input_list = [1, 2, 3, 4, 4, 5, 6, 7, 7]\n",
    "\n",
    "output_list = []\n",
    "\n",
    "# Using loop for constructing output list\n",
    "for var in input_list:\n",
    "    if var % 2 == 0:\n",
    "        output_list.append(var)\n",
    "\n",
    "print(\"Output List using for loop:\", output_list)"
   ]
  },
  {
   "cell_type": "code",
   "execution_count": 2,
   "id": "cf0bcd4d",
   "metadata": {},
   "outputs": [
    {
     "name": "stdout",
     "output_type": "stream",
     "text": [
      "Output List using list comprehensions: [2, 4, 4, 6]\n"
     ]
    }
   ],
   "source": [
    "# Using List comprehensions\n",
    "# for constructing output list\n",
    "\n",
    "input_list = [1, 2, 3, 4, 4, 5, 6, 7, 7]\n",
    "\n",
    "\n",
    "list_using_comp = [var for var in input_list if var % 2 == 0]\n",
    "\n",
    "print(\"Output List using list comprehensions:\", list_using_comp)"
   ]
  },
  {
   "cell_type": "markdown",
   "id": "d2750a50",
   "metadata": {},
   "source": [
    "# Example #2: \n",
    "\n",
    "Suppose we want to create an output list which contains squares of all the numbers from 1 to 9. Let’s see how to do this using for loops and list comprehension."
   ]
  },
  {
   "cell_type": "code",
   "execution_count": 3,
   "id": "4efc5eb2",
   "metadata": {},
   "outputs": [
    {
     "name": "stdout",
     "output_type": "stream",
     "text": [
      "Output List using for loop: [1, 4, 9, 16, 25, 36, 49, 64, 81]\n"
     ]
    }
   ],
   "source": [
    "# Constructing output list using for loop\n",
    "\n",
    "output_list = []\n",
    "for var in range(1, 10):\n",
    "    output_list.append(var ** 2)\n",
    "\n",
    "print(\"Output List using for loop:\", output_list)"
   ]
  },
  {
   "cell_type": "code",
   "execution_count": 4,
   "id": "19bf2d47",
   "metadata": {},
   "outputs": [
    {
     "name": "stdout",
     "output_type": "stream",
     "text": [
      "Output List using list comprehension: [1, 4, 9, 16, 25, 36, 49, 64, 81]\n"
     ]
    }
   ],
   "source": [
    "# Constructing output list\n",
    "# using list comprehension\n",
    "list_using_comp = [var**2 for var in range(1, 10)]\n",
    "\n",
    "print(\"Output List using list comprehension:\", list_using_comp)"
   ]
  },
  {
   "cell_type": "markdown",
   "id": "c20a16fc",
   "metadata": {},
   "source": [
    "# Dictionary Comprehensions:\n",
    "\n",
    "Extending the idea of list comprehensions, we can also create a dictionary using dictionary comprehensions. The basic structure of a dictionary comprehension looks like below.\n",
    "\n",
    "output_dict = {key:value for (key, value) in iterable if (key, value satisfy this condition)}"
   ]
  },
  {
   "cell_type": "markdown",
   "id": "21ba8426",
   "metadata": {},
   "source": [
    "# Example #1: \n",
    "\n",
    "Suppose we want to create an output dictionary which contains only the odd numbers that are present in the input list as keys and their cubes as values. Let’s see how to do this using for loops and dictionary comprehension."
   ]
  },
  {
   "cell_type": "code",
   "execution_count": 5,
   "id": "218caeb8",
   "metadata": {},
   "outputs": [
    {
     "name": "stdout",
     "output_type": "stream",
     "text": [
      "Output Dictionary using for loop: {1: 1, 3: 27, 5: 125, 7: 343}\n"
     ]
    }
   ],
   "source": [
    "input_list = [1, 2, 3, 4, 5, 6, 7]\n",
    "\n",
    "output_dict = {}\n",
    "\n",
    "# Using loop for constructing output dictionary\n",
    "for var in input_list:\n",
    "    if var % 2 != 0:\n",
    "        output_dict[var] = var**3\n",
    "\n",
    "print(\"Output Dictionary using for loop:\", output_dict )"
   ]
  },
  {
   "cell_type": "code",
   "execution_count": 8,
   "id": "ab7391b0",
   "metadata": {},
   "outputs": [
    {
     "name": "stdout",
     "output_type": "stream",
     "text": [
      "Output Dictionary using dictionary comprehensions: {1: 1, 3: 27, 5: 125, 7: 343}\n"
     ]
    }
   ],
   "source": [
    "# Using Dictionary comprehensions\n",
    "# for constructing output dictionary\n",
    "\n",
    "input_list = [1,2,3,4,5,6,7]\n",
    "\n",
    "dict_using_comp = {var:var ** 3 for var in input_list if var % 2 != 0}\n",
    "\n",
    "print(\"Output Dictionary using dictionary comprehensions:\", dict_using_comp)"
   ]
  },
  {
   "cell_type": "markdown",
   "id": "644bf064",
   "metadata": {},
   "source": [
    "# Example #2: \n",
    "\n",
    "Given two lists containing the names of states and their corresponding capitals, construct a dictionary which maps the states with their respective capitals. Let’s see how to do this using for loops and dictionary comprehension."
   ]
  },
  {
   "cell_type": "code",
   "execution_count": 9,
   "id": "e967a55f",
   "metadata": {},
   "outputs": [
    {
     "name": "stdout",
     "output_type": "stream",
     "text": [
      "Output Dictionary using for loop: {'Gujarat': 'Gandhinagar', 'Maharashtra': 'Mumbai', 'Rajasthan': 'Jaipur'}\n"
     ]
    }
   ],
   "source": [
    "state = ['Gujarat', 'Maharashtra', 'Rajasthan']\n",
    "capital = ['Gandhinagar', 'Mumbai', 'Jaipur']\n",
    "\n",
    "output_dict = {}\n",
    "\n",
    "# Using loop for constructing output dictionary\n",
    "for (key, value) in zip(state, capital):\n",
    "    output_dict[key] = value\n",
    "\n",
    "print(\"Output Dictionary using for loop:\", output_dict)"
   ]
  },
  {
   "cell_type": "code",
   "execution_count": 10,
   "id": "c8fe83c1",
   "metadata": {},
   "outputs": [
    {
     "name": "stdout",
     "output_type": "stream",
     "text": [
      "Output Dictionary using dictionary comprehensions: {'Gujarat': 'Gandhinagar', 'Maharashtra': 'Mumbai', 'Rajasthan': 'Jaipur'}\n"
     ]
    }
   ],
   "source": [
    "# Using Dictionary comprehensions\n",
    "# for constructing output dictionary\n",
    "\n",
    "state = ['Gujarat', 'Maharashtra', 'Rajasthan']\n",
    "capital = ['Gandhinagar', 'Mumbai', 'Jaipur']\n",
    "\n",
    "dict_using_comp = {key:value for (key, value) in zip(state, capital)}\n",
    "\n",
    "print(\"Output Dictionary using dictionary comprehensions:\", dict_using_comp)"
   ]
  },
  {
   "cell_type": "markdown",
   "id": "da055971",
   "metadata": {},
   "source": [
    "# Set Comprehensions:\n",
    "\n",
    "Set comprehensions are pretty similar to list comprehensions. The only difference between them is that set comprehensions use curly brackets { }. Let’s look at the following example to understand set comprehensions."
   ]
  },
  {
   "cell_type": "markdown",
   "id": "ab49501e",
   "metadata": {},
   "source": [
    "# Example #1 : \n",
    "\n",
    "Suppose we want to create an output set which contains only the even numbers that are present in the input list. Note that set will discard all the duplicate values. Let’s see how we can do this using for loops and set comprehension."
   ]
  },
  {
   "cell_type": "code",
   "execution_count": 11,
   "id": "228365c7",
   "metadata": {},
   "outputs": [
    {
     "name": "stdout",
     "output_type": "stream",
     "text": [
      "Output Set using for loop: {2, 4, 6}\n"
     ]
    }
   ],
   "source": [
    "input_list = [1, 2, 3, 4, 4, 5, 6, 6, 6, 7, 7]\n",
    "\n",
    "output_set = set()\n",
    "\n",
    "# Using loop for constructing output set\n",
    "for var in input_list:\n",
    "    if var % 2 == 0:\n",
    "        output_set.add(var)\n",
    "\n",
    "print(\"Output Set using for loop:\", output_set)"
   ]
  },
  {
   "cell_type": "code",
   "execution_count": 13,
   "id": "a5f11ea8",
   "metadata": {},
   "outputs": [
    {
     "name": "stdout",
     "output_type": "stream",
     "text": [
      "Output Set using set comprehensions: {2, 4, 6}\n"
     ]
    }
   ],
   "source": [
    "# Using Set comprehensions\n",
    "# for constructing output set\n",
    "\n",
    "input_list = [1, 2, 3, 4, 4, 5, 6, 6, 6, 7, 7]\n",
    "\n",
    "set_using_comp = {var for var in input_list if var % 2 == 0}\n",
    "\n",
    "print(\"Output Set using set comprehensions:\", set_using_comp)"
   ]
  },
  {
   "cell_type": "markdown",
   "id": "64b6fa72",
   "metadata": {},
   "source": [
    "# Generator Comprehensions:\n",
    "\n",
    "Generator Comprehensions are very similar to list comprehensions. One difference between them is that generator comprehensions use circular brackets whereas list comprehensions use square brackets. The major difference between them is that generators don’t allocate memory for the whole list. Instead, they generate each value one by one which is why they are memory efficient. Let’s look at the following example to understand generator comprehension:"
   ]
  },
  {
   "cell_type": "code",
   "execution_count": 14,
   "id": "44766267",
   "metadata": {},
   "outputs": [
    {
     "name": "stdout",
     "output_type": "stream",
     "text": [
      "Output values using generator comprehensions: 2 4 4 6 "
     ]
    }
   ],
   "source": [
    "input_list = [1, 2, 3, 4, 4, 5, 6, 7, 7]\n",
    "\n",
    "output_gen = (var for var in input_list if var % 2 == 0)\n",
    "\n",
    "print(\"Output values using generator comprehensions:\", end = ' ')\n",
    "\n",
    "for var in output_gen:\n",
    "    print(var, end = ' ')"
   ]
  },
  {
   "cell_type": "code",
   "execution_count": null,
   "id": "46b60922",
   "metadata": {},
   "outputs": [],
   "source": []
  }
 ],
 "metadata": {
  "kernelspec": {
   "display_name": "Python 3 (ipykernel)",
   "language": "python",
   "name": "python3"
  },
  "language_info": {
   "codemirror_mode": {
    "name": "ipython",
    "version": 3
   },
   "file_extension": ".py",
   "mimetype": "text/x-python",
   "name": "python",
   "nbconvert_exporter": "python",
   "pygments_lexer": "ipython3",
   "version": "3.9.7"
  }
 },
 "nbformat": 4,
 "nbformat_minor": 5
}
