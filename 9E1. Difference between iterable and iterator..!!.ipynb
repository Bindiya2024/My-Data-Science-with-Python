{
 "cells": [
  {
   "cell_type": "raw",
   "id": "8e3dd8e3",
   "metadata": {},
   "source": [
    "Iterable is an object, that one can iterate over. It generates an Iterator when passed to iter() method. An iterator is an object, which is used to iterate over an iterable object using the __next__() method. Iterators have the __next__() method, which returns the next item of the object.\n",
    "\n",
    "Note: Every iterator is also an iterable, but not every iterable is an iterator in Python.\n",
    "\n",
    "For example, a list is iterable but a list is not an iterator. An iterator can be created from an iterable by using the function iter(). To make this possible, the class of an object needs either a method __iter__, which returns an iterator, or a __getitem__ method with sequential indexes starting with 0. "
   ]
  },
  {
   "cell_type": "markdown",
   "id": "92a7b52e",
   "metadata": {},
   "source": [
    "# Example 1: \n",
    "\n",
    "We know that str is iterable but it is not an iterator. where if we run this in for loop to print string then it is possible because when for loop executes it converts into an iterator to execute the code."
   ]
  },
  {
   "cell_type": "code",
   "execution_count": 1,
   "id": "dd45466f",
   "metadata": {},
   "outputs": [
    {
     "ename": "TypeError",
     "evalue": "'str' object is not an iterator",
     "output_type": "error",
     "traceback": [
      "\u001b[1;31m---------------------------------------------------------------------------\u001b[0m",
      "\u001b[1;31mTypeError\u001b[0m                                 Traceback (most recent call last)",
      "\u001b[1;32m~\\AppData\\Local\\Temp/ipykernel_26092/606574508.py\u001b[0m in \u001b[0;36m<module>\u001b[1;34m\u001b[0m\n\u001b[0;32m      1\u001b[0m \u001b[1;31m# code\u001b[0m\u001b[1;33m\u001b[0m\u001b[1;33m\u001b[0m\u001b[0m\n\u001b[1;32m----> 2\u001b[1;33m \u001b[0mnext\u001b[0m\u001b[1;33m(\u001b[0m\u001b[1;34m\"GFG\"\u001b[0m\u001b[1;33m)\u001b[0m\u001b[1;33m\u001b[0m\u001b[1;33m\u001b[0m\u001b[0m\n\u001b[0m",
      "\u001b[1;31mTypeError\u001b[0m: 'str' object is not an iterator"
     ]
    }
   ],
   "source": [
    "# code\n",
    "next(\"GFG\")"
   ]
  },
  {
   "cell_type": "code",
   "execution_count": 3,
   "id": "4868b141",
   "metadata": {},
   "outputs": [
    {
     "name": "stdout",
     "output_type": "stream",
     "text": [
      "<str_iterator object at 0x0000025F5F0793D0>\n",
      "G\n",
      "F\n",
      "G\n"
     ]
    }
   ],
   "source": [
    "# code\n",
    "s=\"GFG\"\n",
    "s=iter(s)\n",
    "print(s)\n",
    "print(next(s))\n",
    "print(next(s))\n",
    "print(next(s))\n",
    "#print(next(s))"
   ]
  },
  {
   "cell_type": "raw",
   "id": "6386c4f2",
   "metadata": {},
   "source": [
    "Here iter( ) is converting s which is a string (iterable) into an iterator and prints G for the first time we can call multiple times to iterate over strings.\n",
    "\n",
    "When a for loop is executed, for statement calls iter() on the object, which it is supposed to loop over. \n",
    "If this call is successful, the iter call will return an iterator object that defines the method __next__(), which accesses elements of the object one at a time.   "
   ]
  },
  {
   "cell_type": "raw",
   "id": "2221f77c",
   "metadata": {},
   "source": [
    "The __next__() method will raise a StopIteration exception if there are no further elements available. \n",
    "The for loop will terminate as soon as it catches a StopIteration exception.   \n",
    "Let’s call the __next__() method using the next() built-in function. "
   ]
  },
  {
   "cell_type": "markdown",
   "id": "53d7ca47",
   "metadata": {},
   "source": [
    "# Example 2:\n",
    "\n",
    "Function ‘iterable’ will return True if the object ‘obj’ is an iterable and False otherwise. "
   ]
  },
  {
   "cell_type": "code",
   "execution_count": 4,
   "id": "29242355",
   "metadata": {},
   "outputs": [
    {
     "name": "stdout",
     "output_type": "stream",
     "text": [
      "Berlin\n",
      "Vienna\n",
      "Zurich\n"
     ]
    }
   ],
   "source": [
    "# list of cities\n",
    "cities = [\"Berlin\", \"Vienna\", \"Zurich\"]\n",
    "\n",
    "# initialize the object\n",
    "iterator_obj = iter(cities)\n",
    "\n",
    "print(next(iterator_obj))\n",
    "print(next(iterator_obj))\n",
    "print(next(iterator_obj))"
   ]
  },
  {
   "cell_type": "markdown",
   "id": "dad426f1",
   "metadata": {},
   "source": [
    "Note: If ‘next(iterator_obj)’ is called one more time, it would return ‘StopIteration’. "
   ]
  },
  {
   "cell_type": "markdown",
   "id": "e047b1e7",
   "metadata": {},
   "source": [
    "# Example3:\n",
    "\n",
    "Check object is iterable or not."
   ]
  },
  {
   "cell_type": "code",
   "execution_count": 20,
   "id": "9001fff4",
   "metadata": {},
   "outputs": [
    {
     "name": "stdout",
     "output_type": "stream",
     "text": [
      "is 34 iterable ? : False\n",
      "is [4, 5] iterable ? : True\n",
      "is (4, 5) iterable ? : True\n",
      "is {'a': 4} iterable ? : True\n",
      "is dfsdf iterable ? : True\n",
      "is 4.5 iterable ? : False\n"
     ]
    }
   ],
   "source": [
    "# Function to check object\n",
    "# is iterable or not\n",
    "def it(ob):\n",
    "    try:\n",
    "        iter(ob)\n",
    "        return True\n",
    "    except TypeError:\n",
    "        return False\n",
    "         \n",
    "\n",
    "# Driver Code\n",
    "for i in [34, [4, 5], (4, 5),{\"a\":4}, \"dfsdf\", 4.5]:\n",
    "\n",
    "    print(\"is \" + str(i) + \" iterable ? :\",it(i))"
   ]
  },
  {
   "cell_type": "code",
   "execution_count": 8,
   "id": "fa70a14c",
   "metadata": {},
   "outputs": [
    {
     "ename": "TypeError",
     "evalue": "'float' object is not iterable",
     "output_type": "error",
     "traceback": [
      "\u001b[1;31m---------------------------------------------------------------------------\u001b[0m",
      "\u001b[1;31mTypeError\u001b[0m                                 Traceback (most recent call last)",
      "\u001b[1;32m~\\AppData\\Local\\Temp/ipykernel_26092/1048436991.py\u001b[0m in \u001b[0;36m<module>\u001b[1;34m\u001b[0m\n\u001b[1;32m----> 1\u001b[1;33m \u001b[0miter\u001b[0m\u001b[1;33m(\u001b[0m\u001b[1;36m4.5\u001b[0m\u001b[1;33m)\u001b[0m\u001b[1;33m\u001b[0m\u001b[1;33m\u001b[0m\u001b[0m\n\u001b[0m",
      "\u001b[1;31mTypeError\u001b[0m: 'float' object is not iterable"
     ]
    }
   ],
   "source": [
    "iter(4.5)"
   ]
  },
  {
   "cell_type": "code",
   "execution_count": null,
   "id": "72417fd2",
   "metadata": {},
   "outputs": [],
   "source": []
  }
 ],
 "metadata": {
  "kernelspec": {
   "display_name": "Python 3 (ipykernel)",
   "language": "python",
   "name": "python3"
  },
  "language_info": {
   "codemirror_mode": {
    "name": "ipython",
    "version": 3
   },
   "file_extension": ".py",
   "mimetype": "text/x-python",
   "name": "python",
   "nbconvert_exporter": "python",
   "pygments_lexer": "ipython3",
   "version": "3.9.7"
  }
 },
 "nbformat": 4,
 "nbformat_minor": 5
}
