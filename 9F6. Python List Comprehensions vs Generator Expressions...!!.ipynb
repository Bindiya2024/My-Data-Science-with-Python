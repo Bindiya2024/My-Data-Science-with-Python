{
 "cells": [
  {
   "cell_type": "markdown",
   "id": "d38894d3",
   "metadata": {},
   "source": [
    "# What is List Comprehension?\n",
    "\n",
    "It is an elegant way of defining and creating a list. List Comprehension allows us to create a list using for loop with lesser code. What normally takes 3-4 lines of code, can be compressed into just a single line."
   ]
  },
  {
   "cell_type": "code",
   "execution_count": 1,
   "id": "7c903f9e",
   "metadata": {},
   "outputs": [
    {
     "name": "stdout",
     "output_type": "stream",
     "text": [
      "[0, 2, 4, 6, 8, 10]\n"
     ]
    }
   ],
   "source": [
    "# initializing the list\n",
    "list = []\n",
    "\n",
    "for i in range(11):\n",
    "    if i % 2 == 0:\n",
    "        list.append(i)\n",
    "\n",
    "# print elements\n",
    "print(list)"
   ]
  },
  {
   "cell_type": "markdown",
   "id": "6bc6595f",
   "metadata": {},
   "source": [
    "Now, the same output can be derived from just a single line of code."
   ]
  },
  {
   "cell_type": "code",
   "execution_count": 2,
   "id": "439a09ec",
   "metadata": {},
   "outputs": [
    {
     "name": "stdout",
     "output_type": "stream",
     "text": [
      "[0, 2, 4, 6, 8, 10]\n"
     ]
    }
   ],
   "source": [
    "list = [i for i in range(11) if i % 2 == 0]\n",
    "print(list)"
   ]
  },
  {
   "cell_type": "markdown",
   "id": "5f743dce",
   "metadata": {},
   "source": [
    "# What are Generator Expressions?\n",
    "\n",
    "Generator Expressions are somewhat similar to list comprehensions, but the former doesn’t construct list object. Instead of creating a list and keeping the whole sequence in the memory, the generator generates the next element in demand.\n",
    "When a normal function with a return statement is called, it terminates whenever it gets a return statement. But a function with a yield statement saves the state of the function and can be picked up from the same state, next time the function is called.\n",
    "The Generator Expression allows us to create a generator without the yield keyword.\n",
    "\n",
    "Syntax Difference: Parenthesis are used in place of square brackets."
   ]
  },
  {
   "cell_type": "code",
   "execution_count": 3,
   "id": "9b28c345",
   "metadata": {},
   "outputs": [
    {
     "name": "stdout",
     "output_type": "stream",
     "text": [
      "[0, 2, 4, 6, 8, 10]\n"
     ]
    }
   ],
   "source": [
    "# List Comprehension\n",
    "list_comprehension = [i for i in range(11) if i % 2 == 0]\n",
    "\n",
    "print(list_comprehension)"
   ]
  },
  {
   "cell_type": "code",
   "execution_count": 4,
   "id": "5f3262a4",
   "metadata": {},
   "outputs": [
    {
     "name": "stdout",
     "output_type": "stream",
     "text": [
      "<generator object <genexpr> at 0x00000222C68D3DD0>\n"
     ]
    }
   ],
   "source": [
    "# Generator Expression\n",
    "generator_expression = (i for i in range(11) if i % 2 == 0)\n",
    "\n",
    "print(generator_expression)"
   ]
  },
  {
   "cell_type": "markdown",
   "id": "8fbf2e63",
   "metadata": {},
   "source": [
    "In the above example, if we want to print the output for generator expressions, we can simply iterate it over generator object."
   ]
  },
  {
   "cell_type": "code",
   "execution_count": 5,
   "id": "4ce4bd84",
   "metadata": {},
   "outputs": [
    {
     "name": "stdout",
     "output_type": "stream",
     "text": [
      "0 2 4 6 8 10 "
     ]
    }
   ],
   "source": [
    "for i in generator_expression:\n",
    "    print(i, end=\" \")"
   ]
  },
  {
   "cell_type": "markdown",
   "id": "b9f5e807",
   "metadata": {},
   "source": [
    "So what’s the difference between Generator Expressions and List Comprehensions?\n",
    "\n",
    "The generator yields one item at a time and generates item only when in demand. Whereas, in a list comprehension, Python reserves memory for the whole list. Thus we can say that the generator expressions are memory efficient than the lists.\n",
    "We can see this in the example below."
   ]
  },
  {
   "cell_type": "code",
   "execution_count": 6,
   "id": "f00320dc",
   "metadata": {},
   "outputs": [
    {
     "name": "stdout",
     "output_type": "stream",
     "text": [
      "x =  85176\n",
      "y =  112\n"
     ]
    }
   ],
   "source": [
    "# import getsizeof from sys module\n",
    "from sys import getsizeof\n",
    "\n",
    "comp = [i for i in range(10000)]\n",
    "gen = (i for i in range(10000))\n",
    "\n",
    "#gives size for list comprehension\n",
    "x = getsizeof(comp)\n",
    "print(\"x = \", x)\n",
    "\n",
    "#gives size for generator expression\n",
    "y = getsizeof(gen)\n",
    "print(\"y = \", y)"
   ]
  },
  {
   "cell_type": "markdown",
   "id": "85c48a0f",
   "metadata": {},
   "source": [
    "We just saw that generator expression are memory efficient. But, are they time efficient too? Let’s check this with an example."
   ]
  },
  {
   "cell_type": "code",
   "execution_count": 7,
   "id": "5b1ea516",
   "metadata": {},
   "outputs": [
    {
     "name": "stdout",
     "output_type": "stream",
     "text": [
      "5.360210800000004\n"
     ]
    }
   ],
   "source": [
    "#List Comprehension:\n",
    "import timeit\n",
    "\n",
    "print(timeit.timeit('''list_com = [i for i in range(100) if i % 2 == 0]'''))"
   ]
  },
  {
   "cell_type": "code",
   "execution_count": 8,
   "id": "5ccd5a26",
   "metadata": {},
   "outputs": [
    {
     "name": "stdout",
     "output_type": "stream",
     "text": [
      "0.40784080000003087\n"
     ]
    }
   ],
   "source": [
    "#Generator Expression:\n",
    "import timeit\n",
    "\n",
    "print(timeit.timeit('''gen_exp = (i for i in range(100) if i % 2 == 0)'''))"
   ]
  },
  {
   "cell_type": "markdown",
   "id": "2c98634e",
   "metadata": {},
   "source": [
    "There is a remarkable difference in the execution time. Thus, generator expressions are faster than list comprehension and hence time efficient."
   ]
  },
  {
   "cell_type": "code",
   "execution_count": null,
   "id": "c64774af",
   "metadata": {},
   "outputs": [],
   "source": []
  }
 ],
 "metadata": {
  "kernelspec": {
   "display_name": "Python 3 (ipykernel)",
   "language": "python",
   "name": "python3"
  },
  "language_info": {
   "codemirror_mode": {
    "name": "ipython",
    "version": 3
   },
   "file_extension": ".py",
   "mimetype": "text/x-python",
   "name": "python",
   "nbconvert_exporter": "python",
   "pygments_lexer": "ipython3",
   "version": "3.9.7"
  }
 },
 "nbformat": 4,
 "nbformat_minor": 5
}
