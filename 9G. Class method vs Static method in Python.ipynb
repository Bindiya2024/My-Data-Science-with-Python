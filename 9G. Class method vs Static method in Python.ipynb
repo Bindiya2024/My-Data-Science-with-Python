{
 "cells": [
  {
   "cell_type": "markdown",
   "id": "02e98003",
   "metadata": {},
   "source": [
    "In this segment, we will cover the basic difference between the class method vs Static method in Python and when to use the class method and static method in python."
   ]
  },
  {
   "cell_type": "markdown",
   "id": "b284f66d",
   "metadata": {},
   "source": [
    "# What is Class Method in Python? \n",
    "\n",
    "The @classmethod decorator is a built-in function decorator that is an expression that gets evaluated after your function is defined. The result of that evaluation shadows your function definition. A class method receives the class as an implicit first argument, just like an instance method receives the instance \n",
    "\n",
    "Syntax Python Class Method: \n",
    "\n",
    "class C(object):\n",
    "    \n",
    "    @classmethod\n",
    "    \n",
    "    def fun(cls, arg1, arg2, ...):\n",
    "       ....\n",
    "fun: function that needs to be converted into a class method\n",
    "    \n",
    "returns: a class method for function.\n",
    "    \n",
    "A class method is a method that is bound to the class and not the object of the class.\n",
    "\n",
    "They have the access to the state of the class as it takes a class parameter that points to the class and not the object instance.\n",
    "It can modify a class state that would apply across all the instances of the class. \n",
    "\n",
    "For example, it can modify a class variable that will be applicable to all the instances."
   ]
  },
  {
   "cell_type": "markdown",
   "id": "ab0fce30",
   "metadata": {},
   "source": [
    "# What is the Static Method in Python?\n",
    "\n",
    "A static method does not receive an implicit first argument. A static method is also a method that is bound to the class and not the object of the class. This method can’t access or modify the class state. It is present in a class because it makes sense for the method to be present in class."
   ]
  },
  {
   "cell_type": "markdown",
   "id": "c09f1523",
   "metadata": {},
   "source": [
    "# Syntax Python Static Method: \n",
    "\n",
    "class C(object):\n",
    "    \n",
    "    @staticmethod\n",
    "    \n",
    "    def fun(arg1, arg2, ...):\n",
    "        ...\n",
    "        \n",
    "returns: a static method for function fun."
   ]
  },
  {
   "cell_type": "markdown",
   "id": "7cdae8f5",
   "metadata": {},
   "source": [
    "# Class method vs Static Method\n",
    "\n",
    "The difference between the Class method and the static method is:\n",
    "\n",
    "1. A class method takes cls as the first parameter while a static method needs no specific parameters.\n",
    "\n",
    "2. A class method can access or modify the class state while a static method can’t access or modify it.\n",
    "\n",
    "3. In general, static methods know nothing about the class state. They are utility-type methods that take some parameters and work upon those parameters. On the other hand class methods must have class as a parameter.\n",
    "\n",
    "4. We use @classmethod decorator in python to create a class method and we use @staticmethod decorator to create a static method in python."
   ]
  },
  {
   "cell_type": "markdown",
   "id": "64396d29",
   "metadata": {},
   "source": [
    "# When to use the class or static method?\n",
    "\n",
    "We generally use the class method to create factory methods. Factory methods return class objects ( similar to a constructor ) for different use cases.\n",
    "\n",
    "We generally use static methods to create utility functions.\n",
    "\n",
    "How to define a class method and a static method?\n",
    "\n",
    "To define a class method in python, we use @classmethod decorator, and to define a static method we use @staticmethod decorator. \n",
    "\n",
    "Let us look at an example to understand the difference between both of them. \n",
    "\n",
    "Let us say we want to create a class Person. \n",
    "\n",
    "Now, python doesn’t support method overloading like C++ or Java so we use class methods to create factory methods. \n",
    "\n",
    "In the below example we use a class method to create a person object from birth year.\n",
    "\n",
    "As explained above we use static methods to create utility functions. \n",
    "\n",
    "In the below example we use a static method to check if a person is an adult or not. \n",
    "\n",
    "One simple Example :"
   ]
  },
  {
   "cell_type": "markdown",
   "id": "2c947b8a",
   "metadata": {},
   "source": [
    "# class method:"
   ]
  },
  {
   "cell_type": "code",
   "execution_count": 5,
   "id": "e3e486d6",
   "metadata": {},
   "outputs": [
    {
     "name": "stdout",
     "output_type": "stream",
     "text": [
      "10\n"
     ]
    }
   ],
   "source": [
    "class MyClass:\n",
    "    def __init__(self, value):\n",
    "        self.value = value\n",
    "        \n",
    "    #@classmethod\n",
    "    def get_value(self):\n",
    "        return self.value\n",
    "\n",
    "# Create an instance of MyClass\n",
    "obj = MyClass(10)\n",
    "\n",
    "# Call the get_value method on the instance\n",
    "print(obj.get_value()) # Output: 10"
   ]
  },
  {
   "cell_type": "markdown",
   "id": "7c7775a9",
   "metadata": {},
   "source": [
    "# Static method:-"
   ]
  },
  {
   "cell_type": "code",
   "execution_count": 6,
   "id": "eca6ae76",
   "metadata": {},
   "outputs": [
    {
     "name": "stdout",
     "output_type": "stream",
     "text": [
      "30\n",
      "30\n"
     ]
    }
   ],
   "source": [
    "class MyClass:\n",
    "    def __init__(self, value):\n",
    "        self.value = value\n",
    "\n",
    "    @staticmethod\n",
    "    def get_max_value(x, y):\n",
    "        return max(x, y)\n",
    "\n",
    "# Create an instance of MyClass\n",
    "obj = MyClass(10)\n",
    "\n",
    "print(MyClass.get_max_value(20, 30))\n",
    "\n",
    "print(obj.get_max_value(20, 30))"
   ]
  },
  {
   "cell_type": "markdown",
   "id": "70915eb7",
   "metadata": {},
   "source": [
    "# Below is the complete Implementation "
   ]
  },
  {
   "cell_type": "code",
   "execution_count": 4,
   "id": "1de34318",
   "metadata": {},
   "outputs": [
    {
     "name": "stdout",
     "output_type": "stream",
     "text": [
      "21\n",
      "27\n",
      "True\n",
      "<__main__.Person object at 0x000002572D034220>\n",
      "<__main__.Person object at 0x000002572D034A30>\n",
      "True\n"
     ]
    }
   ],
   "source": [
    "# Python program to demonstrate\n",
    "# use of class method and static method.\n",
    "from datetime import date\n",
    "\n",
    "\n",
    "class Person:\n",
    "    def __init__(self, name, age):\n",
    "        self.name = name\n",
    "        self.age = age\n",
    "\n",
    "    # a class method to create a Person object by birth year.\n",
    "    @classmethod\n",
    "    def fromBirthYear(cls, name, year):\n",
    "        return cls(name, date.today().year - year)\n",
    "\n",
    "    # a static method to check if a Person is adult or not.\n",
    "    @staticmethod\n",
    "    def isAdult(age):\n",
    "        return age > 18\n",
    "\n",
    "\n",
    "person1 = Person('mayank', 21)\n",
    "person2 = Person.fromBirthYear('mayank', 1996)  ##Using class method while creating an object\n",
    "\n",
    "print(person1.age)\n",
    "print(person2.age)\n",
    "\n",
    "# print the result\n",
    "print(Person.isAdult(22)) #successfully called static method from the class object and got boolean output\n",
    "print(Person.fromBirthYear('mayank', 1996)) #it shows it's an object, so I can call it like above only while creating an object\n",
    "\n",
    "print(person2.fromBirthYear('mayank', 1996)) #Here also it shows that its an object cz its returning an class object\n",
    "print(person1.isAdult(25))"
   ]
  },
  {
   "cell_type": "markdown",
   "id": "4bca0ee0",
   "metadata": {},
   "source": [
    "The staticmethod() built-in function returns a static method for a given function.\n",
    "\n",
    "# Example"
   ]
  },
  {
   "cell_type": "code",
   "execution_count": 7,
   "id": "320a76ae",
   "metadata": {},
   "outputs": [
    {
     "name": "stdout",
     "output_type": "stream",
     "text": [
      "Sum: 12\n"
     ]
    }
   ],
   "source": [
    "class Calculator:\n",
    "\n",
    "      def add_numbers(num1, num2):\n",
    "            return num1 + num2\n",
    "\n",
    "# convert add_numbers() to static method\n",
    "Calculator.add_numbers = staticmethod(Calculator.add_numbers)\n",
    "\n",
    "sum = Calculator.add_numbers(5, 7)\n",
    "print('Sum:', sum)\n",
    "\n",
    "# Output: Sum: 12"
   ]
  },
  {
   "cell_type": "raw",
   "id": "542dc539",
   "metadata": {},
   "source": [
    "staticmethod() Syntax\n",
    "\n",
    "The syntax of staticmethod() is:\n",
    "\n",
    "staticmethod(function)\n",
    "\n",
    "Note: staticmethod() is considered a un-Pythonic way of creating a static function. Hence, in newer versions of Python, you can use the @staticmethod decorator.\n",
    "\n",
    "Syntax of @staticmethod is:\n",
    "\n",
    "@staticmethod\n",
    "def func(args, ...)"
   ]
  },
  {
   "cell_type": "markdown",
   "id": "fe91265e",
   "metadata": {},
   "source": [
    "# staticmethod() Parameters\n",
    "\n",
    "The staticmethod() method takes a single parameter:\n",
    "\n",
    "function - function that needs to be converted to a static method\n",
    "\n",
    "staticmethod() Return Type\n",
    "\n",
    "The staticmethod() returns a static method for a function passed as the parameter."
   ]
  },
  {
   "cell_type": "markdown",
   "id": "9ac39fb8",
   "metadata": {},
   "source": [
    "# What is a static method?\n",
    "\n",
    "Static methods, much like class methods, are methods that are bound to a class rather than its object.\n",
    "\n",
    "They do not require a class instance creation. So, they are not dependent on the state of the object.\n",
    "\n",
    "The difference between a static method and a class method is:\n",
    "\n",
    "Static method knows nothing about the class and just deals with the parameters.\n",
    "\n",
    "Class method works with the class since its parameter is always the class itself.\n",
    "\n",
    "They can be called both by the class and its object.\n",
    "\n",
    "Class.staticmethodFunc()\n",
    "or even\n",
    "Class().staticmethodFunc()"
   ]
  },
  {
   "cell_type": "markdown",
   "id": "bae41174",
   "metadata": {},
   "source": [
    "# Example 1: Create a static method using staticmethod()"
   ]
  },
  {
   "cell_type": "code",
   "execution_count": 6,
   "id": "7891dd59",
   "metadata": {},
   "outputs": [
    {
     "name": "stdout",
     "output_type": "stream",
     "text": [
      "The sum is: 15\n"
     ]
    }
   ],
   "source": [
    "class Mathematics:\n",
    "\n",
    "    def addNumbers(x, y):\n",
    "        return x + y\n",
    "\n",
    "# create addNumbers static method\n",
    "Mathematics.addNumbers = staticmethod(Mathematics.addNumbers)\n",
    "\n",
    "print('The sum is:', Mathematics.addNumbers(5, 10))"
   ]
  },
  {
   "cell_type": "markdown",
   "id": "dfb74deb",
   "metadata": {},
   "source": [
    "# When do you use static methods?\n",
    "\n",
    "1. Grouping utility function to a class"
   ]
  },
  {
   "cell_type": "markdown",
   "id": "88a9c647",
   "metadata": {},
   "source": [
    "Static methods have a limited use case because, like class methods or any other methods within a class, they cannot access the properties of the class itself.\n",
    "\n",
    "However, when you need a utility function that doesn't access any properties of a class but makes sense that it belongs to the class, we use static functions."
   ]
  },
  {
   "cell_type": "markdown",
   "id": "29666ff0",
   "metadata": {},
   "source": [
    "# Example 2: Create a utility function as a static method"
   ]
  },
  {
   "cell_type": "code",
   "execution_count": 8,
   "id": "c711055a",
   "metadata": {},
   "outputs": [
    {
     "name": "stdout",
     "output_type": "stream",
     "text": [
      "Equal\n"
     ]
    }
   ],
   "source": [
    "class Dates:\n",
    "    def __init__(self, date):\n",
    "        self.date = date\n",
    "        \n",
    "    def getDate(self):\n",
    "        return self.date\n",
    "\n",
    "    @staticmethod\n",
    "    def toDashDate(date):\n",
    "        return date.replace(\"/\", \"-\")\n",
    "\n",
    "date = Dates(\"15-12-2016\")\n",
    "dateFromDB = \"15/12/2016\"\n",
    "dateWithDash = Dates.toDashDate(dateFromDB)\n",
    "\n",
    "if(date.getDate() == dateWithDash):\n",
    "    print(\"Equal\")\n",
    "else:\n",
    "    print(\"Unequal\")"
   ]
  },
  {
   "cell_type": "markdown",
   "id": "daddb5e5",
   "metadata": {},
   "source": [
    "Here, we have a Dates class that only works with dates with dashes. However, in our previous database, all dates were present in slashes.\n",
    "\n",
    "In order to convert the slash-dates to dash-dates, we have created a utility function toDashDate within Dates.\n",
    "\n",
    "It is a static method because it doesn't need to access any properties of Dates itself and only requires the parameters.\n",
    "\n",
    "We can also create toDashDate outside the class, but since it works only for dates, it's logical to keep it inside the Dates class."
   ]
  },
  {
   "cell_type": "markdown",
   "id": "d04d3d95",
   "metadata": {},
   "source": [
    "# 2. Having a single implementation\n",
    "\n",
    "Static methods are used when we don't want subclasses of a class change/override a specific implementation of a method."
   ]
  },
  {
   "cell_type": "markdown",
   "id": "433f3a5a",
   "metadata": {},
   "source": [
    "# Example 3: How inheritance works with static method?"
   ]
  },
  {
   "cell_type": "code",
   "execution_count": 9,
   "id": "90d0fe04",
   "metadata": {},
   "outputs": [
    {
     "name": "stdout",
     "output_type": "stream",
     "text": [
      "Equal\n"
     ]
    }
   ],
   "source": [
    "class Dates:\n",
    "    def __init__(self, date):\n",
    "        self.date = date\n",
    "        \n",
    "    def getDate(self):\n",
    "        return self.date\n",
    "\n",
    "    @staticmethod\n",
    "    def toDashDate(date):\n",
    "        return date.replace(\"/\", \"-\")\n",
    "\n",
    "class DatesWithSlashes(Dates):\n",
    "    def getDate(self):\n",
    "        return Dates.toDashDate(self.date)\n",
    "\n",
    "date = Dates(\"15-12-2016\")\n",
    "dateFromDB = DatesWithSlashes(\"15/12/2016\")\n",
    "\n",
    "if(date.getDate() == dateFromDB.getDate()): #datefromDB is not an object of class DatesWithSlashes and DatesWithSlashes is\n",
    "    print(\"Equal\")                          #derived or inherited from Dates\n",
    "else:\n",
    "    print(\"Unequal\")"
   ]
  },
  {
   "cell_type": "markdown",
   "id": "51f8d0e1",
   "metadata": {},
   "source": [
    "Here, we wouldn't want the subclass DatesWithSlashes to override the static utility method toDashDate because it only has a single use, i.e. change date to dash-dates.\n",
    "\n",
    "We could easily use the static method to our advantage by overriding getDate() method in the subclass so that it works well with the DatesWithSlashes class."
   ]
  },
  {
   "cell_type": "markdown",
   "id": "ddeaeef3",
   "metadata": {},
   "source": [
    "# Python classmethod()\n",
    "\n",
    "In this tutorial, we will learn about the Python classmethod() function with the help of examples.\n",
    "\n",
    "The classmethod() method returns a class method for the given function.\n",
    "\n",
    "Example"
   ]
  },
  {
   "cell_type": "code",
   "execution_count": 10,
   "id": "28d29a32",
   "metadata": {},
   "outputs": [
    {
     "name": "stdout",
     "output_type": "stream",
     "text": [
      "Obtained Marks: 88\n"
     ]
    }
   ],
   "source": [
    "class Student:\n",
    "  marks = 0\n",
    "\n",
    "  def compute_marks(self, obtained_marks):\n",
    "    marks = obtained_marks\n",
    "    print('Obtained Marks:', marks)\n",
    "\n",
    "# convert compute_marks() to class method\n",
    "Student.print_marks = classmethod(Student.compute_marks)\n",
    "Student.print_marks(88)\n",
    "\n",
    "# Output: Obtained Marks: 88"
   ]
  },
  {
   "cell_type": "raw",
   "id": "55755088",
   "metadata": {},
   "source": [
    "classmethod() Syntax\n",
    "\n",
    "The syntax of classmethod() method is:\n",
    "\n",
    "classmethod(function)\n",
    "\n",
    "classmethod() is considered un-Pythonic so in newer Python versions, \n",
    "you can use the @classmethod decorator for classmethod definition.\n",
    "\n",
    "The syntax is:\n",
    "\n",
    "@classmethod\n",
    "def func(cls, args...)\n",
    "\n",
    "classmethod() Parameters\n",
    "\n",
    "classmethod() method takes a single parameter:\n",
    "\n",
    "function - Function that needs to be converted into a class method\n",
    "\n",
    "classmethod() Return Value\n",
    "\n",
    "classmethod() method returns a class method for the given function."
   ]
  },
  {
   "cell_type": "raw",
   "id": "ea063134",
   "metadata": {},
   "source": [
    "What is a class method?\n",
    "\n",
    "A class method is a method that is bound to a class rather than its object. It doesn't require creation of a class instance, much like staticmethod.\n",
    "\n",
    "The difference between a static method and a class method is:\n",
    "\n",
    "Static method knows nothing about the class and just deals with the parameters\n",
    "\n",
    "Class method works with the class since its parameter is always the class itself.\n",
    "\n",
    "The class method can be called both by the class and its object.\n",
    "\n",
    "Class.classmethod()\n",
    "Or even\n",
    "Class().classmethod()\n",
    "\n",
    "But no matter what, the class method is always attached to a class with the first argument as the class itself cls.\n",
    "\n",
    "def classMethod(cls, args...)"
   ]
  },
  {
   "cell_type": "markdown",
   "id": "11ce8938",
   "metadata": {},
   "source": [
    "# Example 1: Create class method using classmethod()"
   ]
  },
  {
   "cell_type": "code",
   "execution_count": 3,
   "id": "74d3f672",
   "metadata": {},
   "outputs": [
    {
     "name": "stdout",
     "output_type": "stream",
     "text": [
      "The age is: 25\n"
     ]
    }
   ],
   "source": [
    "class Person:\n",
    "    age = 25\n",
    "\n",
    "    def printAge(cls):\n",
    "        print('The age is:', cls.age)\n",
    "\n",
    "# create printAge class method\n",
    "Person.printAge = classmethod(Person.printAge)\n",
    "\n",
    "Person.printAge()"
   ]
  },
  {
   "cell_type": "markdown",
   "id": "ad1b7f88",
   "metadata": {},
   "source": [
    "Here, we have a class Person, with a member variable age assigned to 25.\n",
    "\n",
    "We also have a function printAge that takes a single parameter cls and not self we usually take.\n",
    "\n",
    "cls accepts the class Person as a parameter rather than Person's object/instance.\n",
    "\n",
    "Now, we pass the method Person.printAge as an argument to the function classmethod. This converts the method to a class method so that it accepts the first parameter as a class (i.e. Person).\n",
    "\n",
    "In the final line, we call printAge without creating a Person object like we do for static methods. This prints the class variable age."
   ]
  },
  {
   "cell_type": "markdown",
   "id": "1a77889a",
   "metadata": {},
   "source": [
    "# When do you use the class method?\n",
    "\n",
    "1. Factory methods"
   ]
  },
  {
   "cell_type": "markdown",
   "id": "6eaa140d",
   "metadata": {},
   "source": [
    "Factory methods are those methods that return a class object (like constructor) for different use cases.\n",
    "\n",
    "It is similar to function overloading in C++. Since, Python doesn't have anything as such, class methods and static methods are used.\n",
    "\n",
    "# Example 2: Create factory method using class method"
   ]
  },
  {
   "cell_type": "code",
   "execution_count": 11,
   "id": "04614759",
   "metadata": {},
   "outputs": [
    {
     "name": "stdout",
     "output_type": "stream",
     "text": [
      "Adam's age is: 19\n",
      "John's age is: 38\n"
     ]
    }
   ],
   "source": [
    "from datetime import date\n",
    "\n",
    "# random Person\n",
    "class Person:\n",
    "    def __init__(self, name, age):\n",
    "        self.name = name\n",
    "        self.age = age\n",
    "\n",
    "    @classmethod\n",
    "    def fromBirthYear(cls, name, birthYear):\n",
    "        return cls(name, date.today().year - birthYear)\n",
    "\n",
    "    def display(self):\n",
    "        print(self.name + \"'s age is: \" + str(self.age))\n",
    "\n",
    "person = Person('Adam', 19)\n",
    "person.display()\n",
    "\n",
    "person1 = Person.fromBirthYear('John',  1985)\n",
    "person1.display()"
   ]
  },
  {
   "cell_type": "markdown",
   "id": "313e5b9c",
   "metadata": {},
   "source": [
    "Here, we have two class instance creator, a constructor and a fromBirthYear method.\n",
    "\n",
    "The constructor takes normal parameters name and age. While, fromBirthYear takes class, name and birthYear, calculates the current age by subtracting it with the current year and returns the class instance.\n",
    "\n",
    "The fromBirthYear method takes Person class (not Person object) as the first parameter cls and returns the constructor by calling cls(name, date.today().year - birthYear), which is equivalent to Person(name, date.today().year - birthYear)\n",
    "\n",
    "Before the method, we see @classmethod. This is called a decorator for converting fromBirthYear to a class method as classmethod()."
   ]
  },
  {
   "cell_type": "markdown",
   "id": "783f07f0",
   "metadata": {},
   "source": [
    "# 2. Correct instance creation in inheritance\n",
    "\n",
    "Whenever you derive a class from implementing a factory method as a class method, it ensures correct instance creation of the derived class.\n",
    "\n",
    "You can create a static method for the above example but the object it creates, will always be hard coded as Base class.\n",
    "\n",
    "But, when you use a class method, it creates the correct instance of the derived class.\n",
    "\n",
    "Example 3: How the class method works for the inheritance?"
   ]
  },
  {
   "cell_type": "code",
   "execution_count": 21,
   "id": "5be55d2e",
   "metadata": {},
   "outputs": [
    {
     "name": "stdout",
     "output_type": "stream",
     "text": [
      "True\n",
      "False\n"
     ]
    }
   ],
   "source": [
    "from datetime import date\n",
    "\n",
    "# random Person\n",
    "class Person:\n",
    "    def __init__(self, name, age):\n",
    "        self.name = name\n",
    "        self.age = age\n",
    "\n",
    "    @staticmethod\n",
    "    def fromFathersAge(name, fatherAge, fatherPersonAgeDiff):\n",
    "        return Person(name, date.today().year - fatherAge + fatherPersonAgeDiff)\n",
    "\n",
    "    @classmethod\n",
    "    def fromBirthYear(cls, name, birthYear):\n",
    "        return cls(name, date.today().year - birthYear)\n",
    "\n",
    "    def display(self):\n",
    "        print(self.name + \"'s age is: \" + str(self.age))\n",
    "\n",
    "class Man(Person):\n",
    "    sex = 'Male'\n",
    "\n",
    "man = Man.fromBirthYear('John', 1985)\n",
    "print(isinstance(man, Man))\n",
    "\n",
    "#print(man)\n",
    "\n",
    "man1 = Man.fromFathersAge('John', 1965, 20)\n",
    "print(isinstance(man1, Man))\n",
    "\n",
    "#print(man1)"
   ]
  },
  {
   "cell_type": "code",
   "execution_count": 19,
   "id": "6ff4c9ac",
   "metadata": {},
   "outputs": [
    {
     "name": "stdout",
     "output_type": "stream",
     "text": [
      "True\n"
     ]
    }
   ],
   "source": [
    "print(isinstance(1.2,float))"
   ]
  },
  {
   "cell_type": "markdown",
   "id": "f92dc4f7",
   "metadata": {},
   "source": [
    "Here, using a static method to create a class instance wants us to hardcode the instance type during creation.\n",
    "\n",
    "This clearly causes a problem when inheriting Person to Man.\n",
    "\n",
    "fromFathersAge method doesn't return a Man object but its base class Person's object.\n",
    "\n",
    "This violates the OOP paradigm. Using a class method as fromBirthYear can ensure the OOP-ness of the code since it takes the first parameter as the class itself and calls its factory method."
   ]
  },
  {
   "cell_type": "code",
   "execution_count": null,
   "id": "d1112ca8",
   "metadata": {},
   "outputs": [],
   "source": []
  }
 ],
 "metadata": {
  "kernelspec": {
   "display_name": "Python 3 (ipykernel)",
   "language": "python",
   "name": "python3"
  },
  "language_info": {
   "codemirror_mode": {
    "name": "ipython",
    "version": 3
   },
   "file_extension": ".py",
   "mimetype": "text/x-python",
   "name": "python",
   "nbconvert_exporter": "python",
   "pygments_lexer": "ipython3",
   "version": "3.9.7"
  }
 },
 "nbformat": 4,
 "nbformat_minor": 5
}
