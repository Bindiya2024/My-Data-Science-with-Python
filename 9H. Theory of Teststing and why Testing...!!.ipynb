{
 "cells": [
  {
   "cell_type": "markdown",
   "id": "59611fc0",
   "metadata": {},
   "source": [
    "Usually, programmers and program developers spend a great deal of their time with debugging and testing. It's hard to give exact percentages, because it highly depends on other factors like the individual programming style, the problems to be solved and ofcourse on the qualification of a programmer. Without doubt, the programming language is another important factor.\n",
    "\n",
    "You don't have to program to get pestered by errors, as even the ancient Romans knew. The philosopher Cicero coined more than 2000 years ago an unforgettable aphorism, which is often quoted: \"errare humanum est\"* This aphorism is often used as an excuse for failure. Even though it's hardly possible to completely eliminate all errors in a software product, we should always work ambitiously to this end, i.e. to keep the number of errors minimal."
   ]
  },
  {
   "cell_type": "markdown",
   "id": "787ecd3a",
   "metadata": {},
   "source": [
    "# Kinds of Errors"
   ]
  },
  {
   "cell_type": "raw",
   "id": "5798c382",
   "metadata": {},
   "source": [
    "There are various kinds of errors. During program development there are lots of \"small errors\", mostly typos. Whether a colon is missing - for example, behind an \"if\" or an \"else\" - or the keyword \"True\" is wrongly written with a lower case \"t\" can make a big difference. These errors are called syntactical errors. In most cases, syntactical errors can easily be found, but other type of errors are harder to solve. A semantic error is a syntactically correct code, but the program doesn't behave in the intended way. Imagine somebody wants to increment the value of a variable x by one, but instead of \"x += 1\" he or she writes \"x = 1\". The following longer code example may harbour another semantic error:\n",
    "\n",
    "x = int(input(\"x? \"))\n",
    "y = int(input(\"y? \"))\n",
    "if x > 10:\n",
    "    if y == x:\n",
    "        print(\"Fine\")\n",
    "else:\n",
    "    print(\"So what?\")\n",
    "    \n",
    "OUTPUT:\n",
    "\n",
    "So what?\n",
    "\n",
    "\n",
    "We can see two if statements. One nested inside of the other. The code is definitely syntactically correct. But it can be the case that the writer of the program only wanted to output \"So what?\", if the value of the variable x is both greater than 10 and x is not equal to y. In this case, the code should look like this:\n",
    "\n",
    "x = int(input(\"x? \"))\n",
    "y = int(input(\"y? \"))\n",
    "if x > 10:\n",
    "    if y == x:\n",
    "        print(\"Fine\")\n",
    "    else:\n",
    "        print(\"So what?\")\n",
    "\n",
    "Both code versions are syntactically correct, but one of them violates the intended semantics. Let's look at another example:\n",
    "\n",
    "for i in range(7):\n",
    "     print(i)\n",
    "     \n",
    "OUTPUT:\n",
    "0\n",
    "1\n",
    "2\n",
    "3\n",
    "4\n",
    "5\n",
    "6\n",
    "\n",
    "The statement ran without raising an exception, so we know that it is syntactically correct. Though it is not possible to decide if the statement is semantically correct, as we don't know the problem. It may be that the programmer wanted to output the numbers from 1 to 7, i.e. 1,2,...7 In this case, he or she does not properly understand the range function."
   ]
  },
  {
   "cell_type": "markdown",
   "id": "3b561b36",
   "metadata": {},
   "source": [
    "So we can divide semantic errors into two categories.\n",
    "\n",
    "1. Errors caused by lack of understanding of a language construct.\n",
    "\n",
    "2. Errors due to logically incorrect code conversion."
   ]
  },
  {
   "cell_type": "markdown",
   "id": "18833547",
   "metadata": {},
   "source": [
    "We do testing to reduce such errors, various types of testings are there, we will learn following :\n",
    "    \n",
    "    1. Doctest\n",
    "    2. Unit test\n",
    "    3. Pytest"
   ]
  },
  {
   "cell_type": "code",
   "execution_count": null,
   "id": "3b3fb143",
   "metadata": {},
   "outputs": [],
   "source": []
  }
 ],
 "metadata": {
  "kernelspec": {
   "display_name": "Python 3 (ipykernel)",
   "language": "python",
   "name": "python3"
  },
  "language_info": {
   "codemirror_mode": {
    "name": "ipython",
    "version": 3
   },
   "file_extension": ".py",
   "mimetype": "text/x-python",
   "name": "python",
   "nbconvert_exporter": "python",
   "pygments_lexer": "ipython3",
   "version": "3.9.7"
  }
 },
 "nbformat": 4,
 "nbformat_minor": 5
}
