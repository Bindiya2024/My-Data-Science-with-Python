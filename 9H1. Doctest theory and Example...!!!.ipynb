{
 "cells": [
  {
   "cell_type": "raw",
   "id": "635bc54d",
   "metadata": {},
   "source": [
    "Please save the following code as \"fibonacci1.py\":\n",
    "\n",
    "-Fibonacci Module-\n",
    "\n",
    "def fib(n):\n",
    "    \"\"\" Calculates the n-th Fibonacci number iteratively \"\"\"\n",
    "    a, b = 0, 1\n",
    "    for i in range(n):\n",
    "        a, b = b, a + b\n",
    "    return a"
   ]
  },
  {
   "cell_type": "code",
   "execution_count": 1,
   "id": "39347127",
   "metadata": {},
   "outputs": [],
   "source": [
    "from fibo import fibo1"
   ]
  },
  {
   "cell_type": "code",
   "execution_count": 2,
   "id": "dddd408b",
   "metadata": {},
   "outputs": [
    {
     "data": {
      "text/plain": [
       "0"
      ]
     },
     "execution_count": 2,
     "metadata": {},
     "output_type": "execute_result"
    }
   ],
   "source": [
    "fibo1.fib(0)"
   ]
  },
  {
   "cell_type": "code",
   "execution_count": 3,
   "id": "d81f2b45",
   "metadata": {},
   "outputs": [
    {
     "data": {
      "text/plain": [
       "55"
      ]
     },
     "execution_count": 3,
     "metadata": {},
     "output_type": "execute_result"
    }
   ],
   "source": [
    "fibo1.fib(10)"
   ]
  },
  {
   "cell_type": "code",
   "execution_count": 4,
   "id": "bbdb9bf8",
   "metadata": {
    "scrolled": true
   },
   "outputs": [
    {
     "data": {
      "text/plain": [
       "0"
      ]
     },
     "execution_count": 4,
     "metadata": {},
     "output_type": "execute_result"
    }
   ],
   "source": [
    "fibo1.fib(-1)"
   ]
  },
  {
   "cell_type": "code",
   "execution_count": 5,
   "id": "299b71b2",
   "metadata": {},
   "outputs": [
    {
     "ename": "TypeError",
     "evalue": "'float' object cannot be interpreted as an integer",
     "output_type": "error",
     "traceback": [
      "\u001b[1;31m---------------------------------------------------------------------------\u001b[0m",
      "\u001b[1;31mTypeError\u001b[0m                                 Traceback (most recent call last)",
      "\u001b[1;32m~\\AppData\\Local\\Temp/ipykernel_29280/2870245330.py\u001b[0m in \u001b[0;36m<module>\u001b[1;34m\u001b[0m\n\u001b[1;32m----> 1\u001b[1;33m \u001b[0mfibo1\u001b[0m\u001b[1;33m.\u001b[0m\u001b[0mfib\u001b[0m\u001b[1;33m(\u001b[0m\u001b[1;36m0.5\u001b[0m\u001b[1;33m)\u001b[0m\u001b[1;33m\u001b[0m\u001b[1;33m\u001b[0m\u001b[0m\n\u001b[0m",
      "\u001b[1;32m~\\Python Basics - All Modules\\fibo\\fibo1.py\u001b[0m in \u001b[0;36mfib\u001b[1;34m(n)\u001b[0m\n\u001b[0;32m      2\u001b[0m     \u001b[1;34m\"\"\" Calculates the n-th Fibonacci number iteratively \"\"\"\u001b[0m\u001b[1;33m\u001b[0m\u001b[1;33m\u001b[0m\u001b[0m\n\u001b[0;32m      3\u001b[0m     \u001b[0ma\u001b[0m\u001b[1;33m,\u001b[0m \u001b[0mb\u001b[0m \u001b[1;33m=\u001b[0m \u001b[1;36m0\u001b[0m\u001b[1;33m,\u001b[0m \u001b[1;36m1\u001b[0m\u001b[1;33m\u001b[0m\u001b[1;33m\u001b[0m\u001b[0m\n\u001b[1;32m----> 4\u001b[1;33m     \u001b[1;32mfor\u001b[0m \u001b[0mi\u001b[0m \u001b[1;32min\u001b[0m \u001b[0mrange\u001b[0m\u001b[1;33m(\u001b[0m\u001b[0mn\u001b[0m\u001b[1;33m)\u001b[0m\u001b[1;33m:\u001b[0m\u001b[1;33m\u001b[0m\u001b[1;33m\u001b[0m\u001b[0m\n\u001b[0m\u001b[0;32m      5\u001b[0m         \u001b[0ma\u001b[0m\u001b[1;33m,\u001b[0m \u001b[0mb\u001b[0m \u001b[1;33m=\u001b[0m \u001b[0mb\u001b[0m\u001b[1;33m,\u001b[0m \u001b[0ma\u001b[0m \u001b[1;33m+\u001b[0m \u001b[0mb\u001b[0m\u001b[1;33m\u001b[0m\u001b[1;33m\u001b[0m\u001b[0m\n\u001b[0;32m      6\u001b[0m     \u001b[1;32mreturn\u001b[0m \u001b[0ma\u001b[0m\u001b[1;33m\u001b[0m\u001b[1;33m\u001b[0m\u001b[0m\n",
      "\u001b[1;31mTypeError\u001b[0m: 'float' object cannot be interpreted as an integer"
     ]
    }
   ],
   "source": [
    "fibo1.fib(0.5)"
   ]
  },
  {
   "cell_type": "markdown",
   "id": "2631896d",
   "metadata": {},
   "source": [
    "We can see that our fib function make only sense, if the input consists of positive integers. The function fib returns 0 for a negative input "
   ]
  },
  {
   "cell_type": "markdown",
   "id": "7745d38c",
   "metadata": {},
   "source": [
    "Our function raise a TypeError exception, because the range function is not defined for floats. We can test our module by checking the return values for some characteristic calls to fib() "
   ]
  },
  {
   "cell_type": "raw",
   "id": "d596c390",
   "metadata": {},
   "source": [
    "So we can add the following if statement\n",
    "\n",
    "if fib(0) == 0 and fib(10) == 55 and fib(50) == 12586269025:\n",
    "    print(\"Test for the fib function was successful!\")\n",
    "else:\n",
    "    print(\"The fib function is returning wrong values!\")\n",
    "    \n",
    "to our module, but give it a new name fibonacci2.py. We can import this module now in a Python shell or inside of a Python program. If the program with the import gets executed, we receive the following output:"
   ]
  },
  {
   "cell_type": "code",
   "execution_count": 6,
   "id": "fbb4c6bb",
   "metadata": {},
   "outputs": [
    {
     "name": "stdout",
     "output_type": "stream",
     "text": [
      "Test for the fib function was successful!\n"
     ]
    }
   ],
   "source": [
    "from fibo import fibo2"
   ]
  },
  {
   "cell_type": "raw",
   "id": "f5e0fbd4",
   "metadata": {},
   "source": [
    "This approach has a crucial disadvantage. If we import the module, we will get output, saying the test was okay. This is something we don't want to see, when we import the module. Apart from being disturbing it is not common practice. Modules should be silent when being imported, i.e. modules should not produce any output. We can prevent this from happening by using the special built-in variable __name__. We can guard the test code by putting it inside the following if statement:\n",
    "\n",
    "if __name__ == \"__main__\":\n",
    "\n",
    "    if fib(0) == 0 and fib(10) == 55 and fib(50) == 12586269025:\n",
    "        print(\"Test for the fib function was successful!\")\n",
    "    else:\n",
    "        print(\"The fib function is returning wrong values!\")"
   ]
  },
  {
   "cell_type": "raw",
   "id": "8fd471b8",
   "metadata": {},
   "source": [
    "The value of the variable __name__ is set automatically by Python. Let us imagine that we import some crazy module with the names foobar.py blubla.py and blimblam.py, the values of the variable __name__ will be foobar, blubla and blimblam correspondingly.\n",
    "\n",
    "Here I will share a link to understand this if __name__ == \"__main__\": in more details for you...go through it when time permits."
   ]
  },
  {
   "cell_type": "raw",
   "id": "26f554d1",
   "metadata": {},
   "source": [
    "If we change our fibonacci module correspondingly and save it as fibonacci3.py, we get a silent import:"
   ]
  },
  {
   "cell_type": "code",
   "execution_count": 1,
   "id": "4fb182b6",
   "metadata": {},
   "outputs": [],
   "source": [
    "from fibo import fibo3"
   ]
  },
  {
   "cell_type": "markdown",
   "id": "47ab5fb2",
   "metadata": {},
   "source": [
    "We were successful at silencing the output. Yet, our module should perform the test, if it is started standalone."
   ]
  },
  {
   "cell_type": "markdown",
   "id": "fc55d153",
   "metadata": {},
   "source": [
    "If you want to start a Python program from inside of another Python program, you can do this by using the exec command, as we do in the following code:"
   ]
  },
  {
   "cell_type": "code",
   "execution_count": 2,
   "id": "f6b44845",
   "metadata": {},
   "outputs": [
    {
     "name": "stdout",
     "output_type": "stream",
     "text": [
      "Test for the fib function was successful!\n"
     ]
    }
   ],
   "source": [
    "exec(open(\"C:/Users/Pranav/Python Basics - All Modules/fibo/fibo3.py\").read())"
   ]
  },
  {
   "cell_type": "raw",
   "id": "2df8bb9d",
   "metadata": {},
   "source": [
    "We will deliberately add an error into our code now.\n",
    "\n",
    "We change the following line\n",
    "\n",
    " a, b = 0, 1 \n",
    "    \n",
    "into\n",
    "\n",
    " a, b = 1, 1 \n",
    "    \n",
    "and save as fibo4.py."
   ]
  },
  {
   "cell_type": "raw",
   "id": "e07df1db",
   "metadata": {},
   "source": [
    "Principally, the function fib is still calculating the Fibonacci values, but fib(n) is returning the Fibonacci value for the argument \"n+1\". If we call our changed module, we receive this error message:"
   ]
  },
  {
   "cell_type": "code",
   "execution_count": 9,
   "id": "873b793f",
   "metadata": {},
   "outputs": [
    {
     "name": "stdout",
     "output_type": "stream",
     "text": [
      "The fib function is returning wrong values!\n"
     ]
    }
   ],
   "source": [
    "exec(open(\"C:/Users/Pranav/Python Basics - All Modules/fibo/fibo4.py\").read())"
   ]
  },
  {
   "cell_type": "markdown",
   "id": "08019198",
   "metadata": {},
   "source": [
    "# doctest Module\n",
    "\n",
    "Now let's understand the doctest module"
   ]
  },
  {
   "cell_type": "markdown",
   "id": "84b527aa",
   "metadata": {},
   "source": [
    "The doctest module is often considered easier to use than the unittest, though the latter is more suitable for more complex tests. doctest is a test framework that comes prepackaged with Python. The doctest module searches for pieces of text that look like interactive Python sessions inside the documentation parts of a module, and then executes (or reexecutes) the commands of those sessions to verify that they work exactly as shown, i.e. that the same results can be achieved. In other words: The help text of the module is parsed, for example, python sessions. These examples are run and the results are compared to the expected value.\n",
    "\n",
    "Usage of doctest: \n",
    "\n",
    "\"doctest\" has to be imported. The part of an interactive Python sessions with the examples and the output has to be copied inside the docstring the corresponding function.\n",
    "\n",
    "We demonstrate this way of proceeding with the following simple example."
   ]
  },
  {
   "cell_type": "raw",
   "id": "ee556c57",
   "metadata": {},
   "source": [
    "Create a new file fibo_doctest.py and have this code in it :\n",
    "\n",
    "#import doctest\n",
    "def fib(n):\n",
    "    \"\"\" \n",
    "    Calculates the n-th Fibonacci number iteratively  \n",
    "    >>> fib(0)\n",
    "    0\n",
    "    >>> fib(1)\n",
    "    1\n",
    "    >>> fib(10) \n",
    "    55\n",
    "    >>> fib(15)\n",
    "    610\n",
    "    >>> \n",
    "    \"\"\"\n",
    "    a, b = 0, 1\n",
    "    for i in range(n):\n",
    "        a, b = b, a + b\n",
    "    return a\n",
    "if __name__ == \"__main__\": \n",
    "    doctest.testmod()"
   ]
  },
  {
   "cell_type": "raw",
   "id": "89eca879",
   "metadata": {},
   "source": [
    "We copy the complete session of the interactive shell into the docstring of our function. To start the module doctest we have to call the method testmod(), "
   ]
  },
  {
   "cell_type": "code",
   "execution_count": 3,
   "id": "d80e4960",
   "metadata": {},
   "outputs": [],
   "source": [
    "exec(open(\"C:/Users/Pranav/Python Basics - All Modules/fibo/fibo_doc.py\").read())"
   ]
  },
  {
   "cell_type": "raw",
   "id": "f556b59d",
   "metadata": {},
   "source": [
    "we get no output, because everything is okay.\n",
    "\n",
    "To see how doctest works, if something is wrong, we place an error in our code: We change again\n",
    "\n",
    "a, b = 0, 1\n",
    "\n",
    "into\n",
    "\n",
    "a, b = 1, 1\n",
    "\n",
    "and save the file as fibonacci_doctest1.py"
   ]
  },
  {
   "cell_type": "code",
   "execution_count": 11,
   "id": "ab499a2a",
   "metadata": {},
   "outputs": [
    {
     "name": "stdout",
     "output_type": "stream",
     "text": [
      "**********************************************************************\n",
      "File \"__main__\", line 5, in __main__.fib\n",
      "Failed example:\n",
      "    fib(0)\n",
      "Expected:\n",
      "    0\n",
      "Got:\n",
      "    1\n",
      "**********************************************************************\n",
      "File \"__main__\", line 9, in __main__.fib\n",
      "Failed example:\n",
      "    fib(10) \n",
      "Expected:\n",
      "    55\n",
      "Got:\n",
      "    89\n",
      "**********************************************************************\n",
      "File \"__main__\", line 11, in __main__.fib\n",
      "Failed example:\n",
      "    fib(15)\n",
      "Expected:\n",
      "    610\n",
      "Got:\n",
      "    987\n",
      "**********************************************************************\n",
      "1 items had failures:\n",
      "   3 of   4 in __main__.fib\n",
      "***Test Failed*** 3 failures.\n"
     ]
    }
   ],
   "source": [
    "exec(open(\"C:/Users/Pranav/Python Basics - All Modules/fibo/doc_test1.py\").read())"
   ]
  },
  {
   "cell_type": "code",
   "execution_count": null,
   "id": "8c05857b",
   "metadata": {},
   "outputs": [],
   "source": []
  }
 ],
 "metadata": {
  "kernelspec": {
   "display_name": "Python 3 (ipykernel)",
   "language": "python",
   "name": "python3"
  },
  "language_info": {
   "codemirror_mode": {
    "name": "ipython",
    "version": 3
   },
   "file_extension": ".py",
   "mimetype": "text/x-python",
   "name": "python",
   "nbconvert_exporter": "python",
   "pygments_lexer": "ipython3",
   "version": "3.9.7"
  }
 },
 "nbformat": 4,
 "nbformat_minor": 5
}
