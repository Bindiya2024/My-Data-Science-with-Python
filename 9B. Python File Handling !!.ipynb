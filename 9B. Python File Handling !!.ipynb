{
 "cells": [
  {
   "cell_type": "markdown",
   "id": "c851df6d",
   "metadata": {},
   "source": [
    "# Python File Handling\n",
    "\n",
    "In this segment, we will learn about Python File and its various operations with the help of examples."
   ]
  },
  {
   "cell_type": "markdown",
   "id": "2bb4fc3b",
   "metadata": {},
   "source": [
    "A file is a container in computer storage devices used for storing data.\n",
    "\n",
    "When we want to read from or write to a file, we need to open it first. \n",
    "When we are done, it needs to be closed so that the resources that are tied with the file are freed.\n",
    "\n",
    "Hence, in Python, a file operation takes place in the following order:\n",
    "\n",
    "1. Open a file\n",
    "2. Read or write (perform operation)\n",
    "3. Close the file\n",
    "\n",
    "# Opening Files in Python\n",
    "In Python, we use the open() method to open files.\n",
    "\n",
    "To demonstrate how we open files in Python, let's suppose we have a file named test.txt with the following content.\n",
    "\n",
    "test.txt\n",
    "\n",
    "This is test file.\n",
    "\n",
    "Hello from the test file."
   ]
  },
  {
   "cell_type": "markdown",
   "id": "8c4489c6",
   "metadata": {},
   "source": [
    "Now, let's try to open data from this file using the open() function."
   ]
  },
  {
   "cell_type": "code",
   "execution_count": 2,
   "id": "8dab5c39",
   "metadata": {},
   "outputs": [],
   "source": [
    "# open file in current directory\n",
    "file1 = open(\"test.txt\", \"w\")"
   ]
  },
  {
   "cell_type": "markdown",
   "id": "be0fba8b",
   "metadata": {},
   "source": [
    "Here, we have created a file object named file1. This object can be used to work with files and directories.\n",
    "\n",
    "By default, the files are open in read mode (cannot be modified). The code above is equivalent to"
   ]
  },
  {
   "cell_type": "code",
   "execution_count": 3,
   "id": "4092c00e",
   "metadata": {},
   "outputs": [],
   "source": [
    "file1 = open(\"test.txt\", \"r\")"
   ]
  },
  {
   "cell_type": "markdown",
   "id": "6e72617b",
   "metadata": {},
   "source": [
    "Here, we have explicitly specified the mode by passing the \"r\" argument which means file is opened for reading."
   ]
  },
  {
   "cell_type": "markdown",
   "id": "e81b34b6",
   "metadata": {},
   "source": [
    "Different Modes to Open a File in Python\n",
    "\n",
    "Modes --------------    Description\n",
    "\n",
    "\"r\" ------------------  Open a file for reading. (default)\n",
    "\n",
    "\"w\" ------------------  Open a file for writing. Creates a new file if it does not exist or truncates the file if it exists.\n",
    "\n",
    "\"x\" ------------------  Open a file for exclusive creation. If the file already exists, the operation fails.\n",
    "\n",
    "\"a\" ------------------ Open a file for appending at the end of the file without truncating it. Creates a new file if it does not                        exist.\n",
    "\n",
    "\"t\" ------------------  Open in text mode. (default)\n",
    "\n",
    "\"b\" ------------------  Open in binary mode.\n",
    "\n",
    "\"+\" ------------------  Open a file for updating (reading and writing)"
   ]
  },
  {
   "cell_type": "markdown",
   "id": "5a52004a",
   "metadata": {},
   "source": [
    "Here's few simple examples of how to open a file in different modes,"
   ]
  },
  {
   "cell_type": "code",
   "execution_count": 11,
   "id": "481a41ff",
   "metadata": {},
   "outputs": [],
   "source": [
    "#file1 = open(\"test.txt\")      # equivalent to 'r' or 'rt'\n",
    "#file1 = open(\"test.txt\",'w')  # write in text mode\n",
    "#file1 = open(\"img.bmp\",'r+b') # read and write in binary mode ; if we execute this line it will throw error cz \n",
    "                               # the file is not available in our current working directory."
   ]
  },
  {
   "cell_type": "markdown",
   "id": "28eb3dc2",
   "metadata": {},
   "source": [
    "# Reading Files in Python\n",
    "\n",
    "After we open a file, we use the read() method to read its contents. For example,"
   ]
  },
  {
   "cell_type": "code",
   "execution_count": 5,
   "id": "86d44c42",
   "metadata": {},
   "outputs": [
    {
     "name": "stdout",
     "output_type": "stream",
     "text": [
      "This is a test file.\n",
      "\n"
     ]
    }
   ],
   "source": [
    "# open a file\n",
    "file1 = open(\"test.txt\", \"r\")\n",
    "\n",
    "# read the file\n",
    "read_content = file1.read()\n",
    "print(read_content)\n",
    "\n",
    "# if the file reads blank means the data has been overwritten by above cell operation,\n",
    "# we have to type some text content in that file from going to jupiter home where the file \n",
    "# is located in our folder of Python basics module"
   ]
  },
  {
   "cell_type": "markdown",
   "id": "61ba9f69",
   "metadata": {},
   "source": [
    "In the above example, we have read the test.txt file that is available in our current directory. \n",
    "\n",
    "Notice the code,\n",
    "\n",
    "read_content = file1.read\n",
    "\n",
    "Here, file1.read() reads the test.txt file and is stored in the read_content variable."
   ]
  },
  {
   "cell_type": "markdown",
   "id": "2e87c932",
   "metadata": {},
   "source": [
    "# Closing Files in Python\n",
    "\n",
    "When we are done with performing operations on the file, we need to properly close the file.\n",
    "\n",
    "Closing a file will free up the resources that were tied with the file. It is done using the close() method in Python. \n",
    "\n",
    "For example,"
   ]
  },
  {
   "cell_type": "code",
   "execution_count": 6,
   "id": "af9b5974",
   "metadata": {},
   "outputs": [
    {
     "name": "stdout",
     "output_type": "stream",
     "text": [
      "This is a test file.\n",
      "\n"
     ]
    }
   ],
   "source": [
    "# open a file\n",
    "file1 = open(\"test.txt\", \"r\")\n",
    "\n",
    "# read the file\n",
    "read_content = file1.read()\n",
    "print(read_content)\n",
    "\n",
    "# close the file\n",
    "file1.close()"
   ]
  },
  {
   "cell_type": "markdown",
   "id": "e97f65ba",
   "metadata": {},
   "source": [
    "Here, we have used the close() method to close the file.\n",
    "\n",
    "After we perform file operation, we should always close the file; it's a good programming practice."
   ]
  },
  {
   "cell_type": "markdown",
   "id": "d21b6305",
   "metadata": {},
   "source": [
    "# Exception Handling in Files"
   ]
  },
  {
   "cell_type": "markdown",
   "id": "3e0c4ed3",
   "metadata": {},
   "source": [
    "If an exception occurs when we are performing some operation with the file, \n",
    "the code exits without closing the file. A safer way is to use a try...finally block.\n",
    "\n",
    "Let's see an example,"
   ]
  },
  {
   "cell_type": "code",
   "execution_count": 7,
   "id": "d9acaa79",
   "metadata": {},
   "outputs": [
    {
     "name": "stdout",
     "output_type": "stream",
     "text": [
      "This is a test file.\n",
      "\n"
     ]
    }
   ],
   "source": [
    "try:\n",
    "    file1 = open(\"test.txt\", \"r\")\n",
    "    read_content = file1.read()\n",
    "    print(read_content)\n",
    "\n",
    "finally:\n",
    "    # close the file\n",
    "    file1.close()"
   ]
  },
  {
   "cell_type": "markdown",
   "id": "ec433640",
   "metadata": {},
   "source": [
    "Here, we have closed the file in the finally block as finally always executes, \n",
    "and the file will be closed even if an exception occurs."
   ]
  },
  {
   "cell_type": "markdown",
   "id": "0ef61fcb",
   "metadata": {},
   "source": [
    "# Use of with...open Syntax\n",
    "\n",
    "In Python, we can use the with...open syntax to automatically close the file. \n",
    "\n",
    "For example,"
   ]
  },
  {
   "cell_type": "code",
   "execution_count": 8,
   "id": "0406aa3d",
   "metadata": {},
   "outputs": [
    {
     "name": "stdout",
     "output_type": "stream",
     "text": [
      "This is a test file.\n",
      "\n"
     ]
    }
   ],
   "source": [
    "with open(\"test.txt\", \"r\") as file1:\n",
    "    read_content = file1.read()\n",
    "    print(read_content)"
   ]
  },
  {
   "cell_type": "markdown",
   "id": "ecd5de01",
   "metadata": {},
   "source": [
    "Note: Since we don't have to worry about closing the file, make a habit of using the with...open syntax."
   ]
  },
  {
   "cell_type": "markdown",
   "id": "541bb18e",
   "metadata": {},
   "source": [
    "# Writing to Files in Python\n",
    "\n",
    "There are two things we need to remember while writing to a file.\n",
    "\n",
    "If we try to open a file that doesn't exist, a new file is created.\n",
    "\n",
    "If a file already exists, its content is erased, and new content is added to the file.\n",
    "\n",
    "In order to write into a file in Python, we need to open it in write mode by passing \"w\" inside open() as a second argument.\n",
    "\n",
    "Suppose, we don't have a file named test2.txt. Let's see what happens if we write contents to the test2.txt file.\n",
    "\n"
   ]
  },
  {
   "cell_type": "code",
   "execution_count": 9,
   "id": "2910bf71",
   "metadata": {},
   "outputs": [],
   "source": [
    "with open('test2.txt', 'w') as file2:\n",
    "\n",
    "    # write contents to the test2.txt file\n",
    "    file2.write('Programming is Fun.')\n",
    "    file2.write('Programiz for beginners')"
   ]
  },
  {
   "cell_type": "markdown",
   "id": "a0b4c519",
   "metadata": {},
   "source": [
    "Here, a new test2.txt file is created and this file will have contents specified inside the write() method.\n",
    "\n",
    "you can see the result in our current working directory"
   ]
  },
  {
   "cell_type": "markdown",
   "id": "c71c3f56",
   "metadata": {},
   "source": [
    "# Python File Methods\n",
    "\n",
    "There are various methods available with the file object. Some of them have been used in the above examples.\n",
    "\n",
    "Here is the complete list of methods in text mode with a brief description:"
   ]
  },
  {
   "cell_type": "markdown",
   "id": "9d56f961",
   "metadata": {},
   "source": [
    "Method\tDescription\n",
    "\n",
    "close()\tCloses an opened file. It has no effect if the file is already closed.\n",
    "\n",
    "detach()\tSeparates the underlying binary buffer from the TextIOBase and returns it.\n",
    "\n",
    "fileno()\tReturns an integer number (file descriptor) of the file.\n",
    "\n",
    "flush()\tFlushes the write buffer of the file stream.\n",
    "\n",
    "isatty()\tReturns True if the file stream is interactive.\n",
    "\n",
    "read(n)\tReads at most n characters from the file. Reads till end of file if it is negative or None.\n",
    "\n",
    "readable()\tReturns True if the file stream can be read from.\n",
    "\n",
    "readline(n=-1)\tReads and returns one line from the file. Reads in at most n bytes if specified.\n",
    "\n",
    "readlines(n=-1)\tReads and returns a list of lines from the file. Reads in at most n bytes/characters if specified.\n",
    "\n",
    "seek(offset,from=SEEK_SET)\tChanges the file position to offset bytes, in reference to from (start, current, end).\n",
    "\n",
    "seekable()\tReturns True if the file stream supports random access.\n",
    "\n",
    "tell()\tReturns an integer that represents the current position of the file's object.\n",
    "\n",
    "truncate(size=None)\tResizes the file stream to size bytes. If size is not specified, resizes to current location.\n",
    "\n",
    "writable()\tReturns True if the file stream can be written to.\n",
    "\n",
    "write(s)\tWrites the string s to the file and returns the number of characters written.\n",
    "\n",
    "writelines(lines)\tWrites a list of lines to the file."
   ]
  },
  {
   "cell_type": "markdown",
   "id": "573b6fa1",
   "metadata": {},
   "source": [
    "# Python Directory and Files Management\n",
    "\n",
    "In this segment, we'll learn about file and directory management in Python with the help of examples."
   ]
  },
  {
   "cell_type": "markdown",
   "id": "bbd28f4e",
   "metadata": {},
   "source": [
    "A directory is a collection of files and subdirectories. A directory inside a directory is known as a subdirectory.\n",
    "\n",
    "Python has the \"os\" module that provides us with many useful methods to work with directories (and files as well)."
   ]
  },
  {
   "cell_type": "markdown",
   "id": "ab6afec4",
   "metadata": {},
   "source": [
    "# Get Current Directory in Python\n",
    "\n",
    "We can get the present working directory using the getcwd() method of the os module.\n",
    "\n",
    "This method returns the current working directory in the form of a string. \n",
    "\n",
    "For example,"
   ]
  },
  {
   "cell_type": "code",
   "execution_count": 10,
   "id": "8862ee9e",
   "metadata": {},
   "outputs": [
    {
     "name": "stdout",
     "output_type": "stream",
     "text": [
      "C:\\Users\\Pranav\\Python Basics - All Modules\n"
     ]
    }
   ],
   "source": [
    "import os\n",
    "\n",
    "print(os.getcwd())\n",
    "\n",
    "# Output: C:\\Users\\Pranav\\Python Basics - All Modules"
   ]
  },
  {
   "cell_type": "markdown",
   "id": "b3b2dbd0",
   "metadata": {},
   "source": [
    "Here, getcwd() returns the current directory in the form of a string."
   ]
  },
  {
   "cell_type": "markdown",
   "id": "06e2c93e",
   "metadata": {},
   "source": [
    "# Changing Directory in Python\n",
    "\n",
    "In Python, we can change the current working directory by using the chdir() method.\n",
    "\n",
    "The new path that we want to change into must be supplied as a string to this method. \n",
    "And we can use both the forward-slash / or the backward-slash \\ to separate the path elements.\n",
    "\n",
    "Let's see an example,"
   ]
  },
  {
   "cell_type": "code",
   "execution_count": 11,
   "id": "47e3bc79",
   "metadata": {},
   "outputs": [
    {
     "name": "stdout",
     "output_type": "stream",
     "text": [
      "C:\\Users\\Public\n"
     ]
    }
   ],
   "source": [
    "import os\n",
    "\n",
    "# change directory\n",
    "os.chdir('C:\\\\Users\\\\Public')\n",
    "\n",
    "print(os.getcwd())\n",
    "\n",
    "#Output: C:\\Python33"
   ]
  },
  {
   "cell_type": "markdown",
   "id": "2bfed19c",
   "metadata": {},
   "source": [
    "Here, we have used the chdir() method to change the current working directory and passed a new path as a string to chdir()."
   ]
  },
  {
   "cell_type": "code",
   "execution_count": 12,
   "id": "10b53206",
   "metadata": {},
   "outputs": [
    {
     "name": "stdout",
     "output_type": "stream",
     "text": [
      "C:\\Users\\Pranav\\Python Basics - All Modules\n"
     ]
    }
   ],
   "source": [
    "# Getting back to my original directory\n",
    "\n",
    "os.chdir('C:\\\\Users\\\\Pranav\\\\Python Basics - All Modules')\n",
    "\n",
    "print(os.getcwd())"
   ]
  },
  {
   "cell_type": "markdown",
   "id": "39ff4dc7",
   "metadata": {},
   "source": [
    "# List Directories and Files in Python\n",
    "\n",
    "All files and sub-directories inside a directory can be retrieved using the listdir() method.\n",
    "\n",
    "This method takes in a path and returns a list of subdirectories and files in that path.\n",
    "\n",
    "If no path is specified, it returns the list of subdirectories and files from the current working directory."
   ]
  },
  {
   "cell_type": "code",
   "execution_count": 13,
   "id": "3a7091e8",
   "metadata": {},
   "outputs": [
    {
     "data": {
      "text/plain": [
       "['.ipynb_checkpoints',\n",
       " '0. My first Python Program.ipynb',\n",
       " '1. Python Keywords and Identifiers...!!.ipynb',\n",
       " '1A. List of Keywords in Python with Examples..!!!.ipynb',\n",
       " '2. Python Comments..!!!.ipynb',\n",
       " '3. Python Variables, Constants and Literals.ipynb',\n",
       " '4. Python Data Types...!!!.ipynb',\n",
       " '4A. Python Datatypes.ipynb',\n",
       " '5. Python Type Conversion...!!!.ipynb',\n",
       " '6. Python Basic Input, Output and Import...!!!.ipynb',\n",
       " '7. Python Operators...!!!.ipynb',\n",
       " '8. Python Namespace and Scope..!!!.ipynb',\n",
       " '9. Python Flow Control.ipynb',\n",
       " '9A. Python Functions.ipynb',\n",
       " '9B. Python File Handling !!.ipynb',\n",
       " '9C. Python Exceptions their types and how to Handle them !!.ipynb',\n",
       " '9D. Python Object Oriented Programming Concepts.ipynb',\n",
       " '9E. Python Iterators.ipynb',\n",
       " '9F. Python Generators.ipynb',\n",
       " '9G. Python Closures..!!!.ipynb',\n",
       " '9H. Python Decorators...!!!.ipynb',\n",
       " '9I. Python @property decorator...!!!.ipynb',\n",
       " '9J. Python RegEx...!!!.ipynb',\n",
       " 'Python Basics - matplotlib !!.ipynb',\n",
       " 'Python Basics - Numpy !!.ipynb',\n",
       " 'Python Basics - Pandas !!.ipynb',\n",
       " 'test.txt',\n",
       " 'test2.txt']"
      ]
     },
     "execution_count": 13,
     "metadata": {},
     "output_type": "execute_result"
    }
   ],
   "source": [
    "# list all sub-directories & files in current working directory\n",
    "\n",
    "os.listdir()"
   ]
  },
  {
   "cell_type": "code",
   "execution_count": 14,
   "id": "7b8d14e4",
   "metadata": {},
   "outputs": [
    {
     "data": {
      "text/plain": [
       "['$MfeDeepRem',\n",
       " '$Recycle.Bin',\n",
       " '$WINDOWS.~BT',\n",
       " '$WinREAgent',\n",
       " 'Apps',\n",
       " 'Dell',\n",
       " 'dell.sdr',\n",
       " 'Documents and Settings',\n",
       " 'Drivers',\n",
       " 'DumpStack.log',\n",
       " 'DumpStack.log.tmp',\n",
       " 'hiberfil.sys',\n",
       " 'Intel',\n",
       " 'OneDriveTemp',\n",
       " 'pagefile.sys',\n",
       " 'PerfLogs',\n",
       " 'Program Files',\n",
       " 'Program Files (x86)',\n",
       " 'ProgramData',\n",
       " 'Recovery',\n",
       " 'swapfile.sys',\n",
       " 'System Volume Information',\n",
       " 'Users',\n",
       " 'Windows']"
      ]
     },
     "execution_count": 14,
     "metadata": {},
     "output_type": "execute_result"
    }
   ],
   "source": [
    "# Listing subdirectories and files in path specified location, here it is my C drive\n",
    "\n",
    "os.listdir('C:\\\\')"
   ]
  },
  {
   "cell_type": "markdown",
   "id": "8eebf248",
   "metadata": {},
   "source": [
    "# Making a New Directory in Python\n",
    "\n",
    "In Python, we can make a new directory using the mkdir() method."
   ]
  },
  {
   "cell_type": "markdown",
   "id": "af92ec6c",
   "metadata": {},
   "source": [
    "This method takes in the path of the new directory. If the full path is not specified, \n",
    "the new directory is created in the current working directory."
   ]
  },
  {
   "cell_type": "code",
   "execution_count": 15,
   "id": "365ee39d",
   "metadata": {},
   "outputs": [
    {
     "data": {
      "text/plain": [
       "['.ipynb_checkpoints',\n",
       " '0. My first Python Program.ipynb',\n",
       " '1. Python Keywords and Identifiers...!!.ipynb',\n",
       " '1A. List of Keywords in Python with Examples..!!!.ipynb',\n",
       " '2. Python Comments..!!!.ipynb',\n",
       " '3. Python Variables, Constants and Literals.ipynb',\n",
       " '4. Python Data Types...!!!.ipynb',\n",
       " '4A. Python Datatypes.ipynb',\n",
       " '5. Python Type Conversion...!!!.ipynb',\n",
       " '6. Python Basic Input, Output and Import...!!!.ipynb',\n",
       " '7. Python Operators...!!!.ipynb',\n",
       " '8. Python Namespace and Scope..!!!.ipynb',\n",
       " '9. Python Flow Control.ipynb',\n",
       " '9A. Python Functions.ipynb',\n",
       " '9B. Python File Handling !!.ipynb',\n",
       " '9C. Python Exceptions their types and how to Handle them !!.ipynb',\n",
       " '9D. Python Object Oriented Programming Concepts.ipynb',\n",
       " '9E. Python Iterators.ipynb',\n",
       " '9F. Python Generators.ipynb',\n",
       " '9G. Python Closures..!!!.ipynb',\n",
       " '9H. Python Decorators...!!!.ipynb',\n",
       " '9I. Python @property decorator...!!!.ipynb',\n",
       " '9J. Python RegEx...!!!.ipynb',\n",
       " 'Python Basics - matplotlib !!.ipynb',\n",
       " 'Python Basics - Numpy !!.ipynb',\n",
       " 'Python Basics - Pandas !!.ipynb',\n",
       " 'test',\n",
       " 'test.txt',\n",
       " 'test2.txt']"
      ]
     },
     "execution_count": 15,
     "metadata": {},
     "output_type": "execute_result"
    }
   ],
   "source": [
    "os.mkdir('test')\n",
    "\n",
    "os.listdir()"
   ]
  },
  {
   "cell_type": "markdown",
   "id": "ac067237",
   "metadata": {},
   "source": [
    "# Renaming a Directory or a File\n",
    "\n",
    "The rename() method can rename a directory or a file.\n",
    "\n",
    "For renaming any directory or file, rename() takes in two basic arguments:\n",
    "\n",
    "the old name as the first argument\n",
    "\n",
    "the new name as the second argument.\n",
    "\n",
    "Let's see an example,"
   ]
  },
  {
   "cell_type": "code",
   "execution_count": 16,
   "id": "76728f2f",
   "metadata": {},
   "outputs": [
    {
     "data": {
      "text/plain": [
       "['.ipynb_checkpoints',\n",
       " '0. My first Python Program.ipynb',\n",
       " '1. Python Keywords and Identifiers...!!.ipynb',\n",
       " '1A. List of Keywords in Python with Examples..!!!.ipynb',\n",
       " '2. Python Comments..!!!.ipynb',\n",
       " '3. Python Variables, Constants and Literals.ipynb',\n",
       " '4. Python Data Types...!!!.ipynb',\n",
       " '4A. Python Datatypes.ipynb',\n",
       " '5. Python Type Conversion...!!!.ipynb',\n",
       " '6. Python Basic Input, Output and Import...!!!.ipynb',\n",
       " '7. Python Operators...!!!.ipynb',\n",
       " '8. Python Namespace and Scope..!!!.ipynb',\n",
       " '9. Python Flow Control.ipynb',\n",
       " '9A. Python Functions.ipynb',\n",
       " '9B. Python File Handling !!.ipynb',\n",
       " '9C. Python Exceptions their types and how to Handle them !!.ipynb',\n",
       " '9D. Python Object Oriented Programming Concepts.ipynb',\n",
       " '9E. Python Iterators.ipynb',\n",
       " '9F. Python Generators.ipynb',\n",
       " '9G. Python Closures..!!!.ipynb',\n",
       " '9H. Python Decorators...!!!.ipynb',\n",
       " '9I. Python @property decorator...!!!.ipynb',\n",
       " '9J. Python RegEx...!!!.ipynb',\n",
       " 'new_one',\n",
       " 'Python Basics - matplotlib !!.ipynb',\n",
       " 'Python Basics - Numpy !!.ipynb',\n",
       " 'Python Basics - Pandas !!.ipynb',\n",
       " 'test.txt',\n",
       " 'test2.txt']"
      ]
     },
     "execution_count": 16,
     "metadata": {},
     "output_type": "execute_result"
    }
   ],
   "source": [
    "import os\n",
    "\n",
    "os.listdir()\n",
    "#['test'] old directory\n",
    "\n",
    "# rename a directory\n",
    "os.rename('test','new_one')\n",
    "\n",
    "os.listdir()\n",
    "#['new_one'] new directory shiwn in the list"
   ]
  },
  {
   "cell_type": "markdown",
   "id": "92775044",
   "metadata": {},
   "source": [
    "Here, 'test' directory is renamed to 'new_one' using the rename() method."
   ]
  },
  {
   "cell_type": "markdown",
   "id": "d4da8450",
   "metadata": {},
   "source": [
    "# Removing Directory or File in Python\n",
    "\n",
    "In Python, we can use the remove() method or the rmdir() method to remove a file or directory.\n",
    "\n",
    "First let's use remove() to delete a file,"
   ]
  },
  {
   "cell_type": "code",
   "execution_count": 17,
   "id": "bba41fb5",
   "metadata": {},
   "outputs": [],
   "source": [
    "import os\n",
    "\n",
    "# delete \"test2.txt\" file\n",
    "os.remove(\"test2.txt\")"
   ]
  },
  {
   "cell_type": "markdown",
   "id": "e086bd78",
   "metadata": {},
   "source": [
    "Here, we have used the remove() method to remove the \"myfile.txt\" file.\n",
    "\n",
    "Now let's use rmdir() to delete an empty directory,"
   ]
  },
  {
   "cell_type": "code",
   "execution_count": 18,
   "id": "c9f10b28",
   "metadata": {},
   "outputs": [],
   "source": [
    "import os\n",
    "\n",
    "# delete the empty directory which we have created above \"new_one\"\n",
    "os.rmdir(\"new_one\") "
   ]
  },
  {
   "cell_type": "markdown",
   "id": "75a0d61b",
   "metadata": {},
   "source": [
    "In order to remove a non-empty directory, we can use the rmtree() method inside the shutil module. \n",
    "\n",
    "For example,"
   ]
  },
  {
   "cell_type": "code",
   "execution_count": 43,
   "id": "d1d3b9b4",
   "metadata": {},
   "outputs": [
    {
     "ename": "FileNotFoundError",
     "evalue": "[WinError 3] The system cannot find the path specified: 'mydir'",
     "output_type": "error",
     "traceback": [
      "\u001b[1;31m---------------------------------------------------------------------------\u001b[0m",
      "\u001b[1;31mFileNotFoundError\u001b[0m                         Traceback (most recent call last)",
      "\u001b[1;32m~\\AppData\\Local\\Temp/ipykernel_14000/4194105388.py\u001b[0m in \u001b[0;36m<module>\u001b[1;34m\u001b[0m\n\u001b[0;32m      2\u001b[0m \u001b[1;33m\u001b[0m\u001b[0m\n\u001b[0;32m      3\u001b[0m \u001b[1;31m# delete \"mydir\" directory and all of its contents\u001b[0m\u001b[1;33m\u001b[0m\u001b[1;33m\u001b[0m\u001b[0m\n\u001b[1;32m----> 4\u001b[1;33m \u001b[0mshutil\u001b[0m\u001b[1;33m.\u001b[0m\u001b[0mrmtree\u001b[0m\u001b[1;33m(\u001b[0m\u001b[1;34m\"mydir\"\u001b[0m\u001b[1;33m)\u001b[0m \u001b[1;31m#throws error cz we dont have such directory,\u001b[0m\u001b[1;33m\u001b[0m\u001b[1;33m\u001b[0m\u001b[0m\n\u001b[0m\u001b[0;32m      5\u001b[0m                        \u001b[1;31m#you can try it on you own by crerating a tree i.e. subdirectory with a directory and also some files\u001b[0m\u001b[1;33m\u001b[0m\u001b[1;33m\u001b[0m\u001b[0m\n\u001b[0;32m      6\u001b[0m \u001b[1;33m\u001b[0m\u001b[0m\n",
      "\u001b[1;32m~\\anaconda3\\lib\\shutil.py\u001b[0m in \u001b[0;36mrmtree\u001b[1;34m(path, ignore_errors, onerror)\u001b[0m\n\u001b[0;32m    746\u001b[0m             \u001b[1;31m# can't continue even if onerror hook returns\u001b[0m\u001b[1;33m\u001b[0m\u001b[1;33m\u001b[0m\u001b[0m\n\u001b[0;32m    747\u001b[0m             \u001b[1;32mreturn\u001b[0m\u001b[1;33m\u001b[0m\u001b[1;33m\u001b[0m\u001b[0m\n\u001b[1;32m--> 748\u001b[1;33m         \u001b[1;32mreturn\u001b[0m \u001b[0m_rmtree_unsafe\u001b[0m\u001b[1;33m(\u001b[0m\u001b[0mpath\u001b[0m\u001b[1;33m,\u001b[0m \u001b[0monerror\u001b[0m\u001b[1;33m)\u001b[0m\u001b[1;33m\u001b[0m\u001b[1;33m\u001b[0m\u001b[0m\n\u001b[0m\u001b[0;32m    749\u001b[0m \u001b[1;33m\u001b[0m\u001b[0m\n\u001b[0;32m    750\u001b[0m \u001b[1;31m# Allow introspection of whether or not the hardening against symlink\u001b[0m\u001b[1;33m\u001b[0m\u001b[1;33m\u001b[0m\u001b[0m\n",
      "\u001b[1;32m~\\anaconda3\\lib\\shutil.py\u001b[0m in \u001b[0;36m_rmtree_unsafe\u001b[1;34m(path, onerror)\u001b[0m\n\u001b[0;32m    605\u001b[0m             \u001b[0mentries\u001b[0m \u001b[1;33m=\u001b[0m \u001b[0mlist\u001b[0m\u001b[1;33m(\u001b[0m\u001b[0mscandir_it\u001b[0m\u001b[1;33m)\u001b[0m\u001b[1;33m\u001b[0m\u001b[1;33m\u001b[0m\u001b[0m\n\u001b[0;32m    606\u001b[0m     \u001b[1;32mexcept\u001b[0m \u001b[0mOSError\u001b[0m\u001b[1;33m:\u001b[0m\u001b[1;33m\u001b[0m\u001b[1;33m\u001b[0m\u001b[0m\n\u001b[1;32m--> 607\u001b[1;33m         \u001b[0monerror\u001b[0m\u001b[1;33m(\u001b[0m\u001b[0mos\u001b[0m\u001b[1;33m.\u001b[0m\u001b[0mscandir\u001b[0m\u001b[1;33m,\u001b[0m \u001b[0mpath\u001b[0m\u001b[1;33m,\u001b[0m \u001b[0msys\u001b[0m\u001b[1;33m.\u001b[0m\u001b[0mexc_info\u001b[0m\u001b[1;33m(\u001b[0m\u001b[1;33m)\u001b[0m\u001b[1;33m)\u001b[0m\u001b[1;33m\u001b[0m\u001b[1;33m\u001b[0m\u001b[0m\n\u001b[0m\u001b[0;32m    608\u001b[0m         \u001b[0mentries\u001b[0m \u001b[1;33m=\u001b[0m \u001b[1;33m[\u001b[0m\u001b[1;33m]\u001b[0m\u001b[1;33m\u001b[0m\u001b[1;33m\u001b[0m\u001b[0m\n\u001b[0;32m    609\u001b[0m     \u001b[1;32mfor\u001b[0m \u001b[0mentry\u001b[0m \u001b[1;32min\u001b[0m \u001b[0mentries\u001b[0m\u001b[1;33m:\u001b[0m\u001b[1;33m\u001b[0m\u001b[1;33m\u001b[0m\u001b[0m\n",
      "\u001b[1;32m~\\anaconda3\\lib\\shutil.py\u001b[0m in \u001b[0;36m_rmtree_unsafe\u001b[1;34m(path, onerror)\u001b[0m\n\u001b[0;32m    602\u001b[0m \u001b[1;32mdef\u001b[0m \u001b[0m_rmtree_unsafe\u001b[0m\u001b[1;33m(\u001b[0m\u001b[0mpath\u001b[0m\u001b[1;33m,\u001b[0m \u001b[0monerror\u001b[0m\u001b[1;33m)\u001b[0m\u001b[1;33m:\u001b[0m\u001b[1;33m\u001b[0m\u001b[1;33m\u001b[0m\u001b[0m\n\u001b[0;32m    603\u001b[0m     \u001b[1;32mtry\u001b[0m\u001b[1;33m:\u001b[0m\u001b[1;33m\u001b[0m\u001b[1;33m\u001b[0m\u001b[0m\n\u001b[1;32m--> 604\u001b[1;33m         \u001b[1;32mwith\u001b[0m \u001b[0mos\u001b[0m\u001b[1;33m.\u001b[0m\u001b[0mscandir\u001b[0m\u001b[1;33m(\u001b[0m\u001b[0mpath\u001b[0m\u001b[1;33m)\u001b[0m \u001b[1;32mas\u001b[0m \u001b[0mscandir_it\u001b[0m\u001b[1;33m:\u001b[0m\u001b[1;33m\u001b[0m\u001b[1;33m\u001b[0m\u001b[0m\n\u001b[0m\u001b[0;32m    605\u001b[0m             \u001b[0mentries\u001b[0m \u001b[1;33m=\u001b[0m \u001b[0mlist\u001b[0m\u001b[1;33m(\u001b[0m\u001b[0mscandir_it\u001b[0m\u001b[1;33m)\u001b[0m\u001b[1;33m\u001b[0m\u001b[1;33m\u001b[0m\u001b[0m\n\u001b[0;32m    606\u001b[0m     \u001b[1;32mexcept\u001b[0m \u001b[0mOSError\u001b[0m\u001b[1;33m:\u001b[0m\u001b[1;33m\u001b[0m\u001b[1;33m\u001b[0m\u001b[0m\n",
      "\u001b[1;31mFileNotFoundError\u001b[0m: [WinError 3] The system cannot find the path specified: 'mydir'"
     ]
    }
   ],
   "source": [
    "import shutil\n",
    "\n",
    "# delete \"mydir\" directory and all of its contents\n",
    "shutil.rmtree(\"mydir\") #throws error cz we dont have such directory, \n",
    "                       #you can try it on you own by crerating a tree i.e. subdirectory with a directory and also some files\n",
    "    \n",
    "# But It's important to note that these functions permanently delete the files or directories, \n",
    "# so we need to be careful when using them."
   ]
  },
  {
   "cell_type": "code",
   "execution_count": null,
   "id": "c4c939d0",
   "metadata": {},
   "outputs": [],
   "source": []
  }
 ],
 "metadata": {
  "kernelspec": {
   "display_name": "Python 3 (ipykernel)",
   "language": "python",
   "name": "python3"
  },
  "language_info": {
   "codemirror_mode": {
    "name": "ipython",
    "version": 3
   },
   "file_extension": ".py",
   "mimetype": "text/x-python",
   "name": "python",
   "nbconvert_exporter": "python",
   "pygments_lexer": "ipython3",
   "version": "3.9.7"
  }
 },
 "nbformat": 4,
 "nbformat_minor": 5
}
