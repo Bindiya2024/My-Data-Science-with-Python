{
 "cells": [
  {
   "cell_type": "raw",
   "id": "051e5efe",
   "metadata": {},
   "source": [
    "https://www.freecodecamp.org/news/if-name-main-python-example/"
   ]
  },
  {
   "cell_type": "code",
   "execution_count": null,
   "id": "82afd4ee",
   "metadata": {},
   "outputs": [],
   "source": []
  }
 ],
 "metadata": {
  "kernelspec": {
   "display_name": "Python 3 (ipykernel)",
   "language": "python",
   "name": "python3"
  },
  "language_info": {
   "codemirror_mode": {
    "name": "ipython",
    "version": 3
   },
   "file_extension": ".py",
   "mimetype": "text/x-python",
   "name": "python",
   "nbconvert_exporter": "python",
   "pygments_lexer": "ipython3",
   "version": "3.9.7"
  }
 },
 "nbformat": 4,
 "nbformat_minor": 5
}
