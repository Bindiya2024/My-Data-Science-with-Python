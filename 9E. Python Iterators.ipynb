{
 "cells": [
  {
   "cell_type": "markdown",
   "id": "40ce007f",
   "metadata": {},
   "source": [
    "# Python Iterators\n",
    "\n",
    "In this segment, you will learn about the Python Iterators with the help of examples."
   ]
  },
  {
   "cell_type": "raw",
   "id": "ef4acbd4",
   "metadata": {},
   "source": [
    "Iterators are methods that iterate collections like lists, tuples, etc. Using an iterator method, we can loop through an object and return its elements.\n",
    "\n",
    "Technically, a Python iterator object must implement two special methods, __iter__() and __next__(), collectively called the iterator protocol."
   ]
  },
  {
   "cell_type": "markdown",
   "id": "997bf875",
   "metadata": {},
   "source": [
    "# Iterating Through an Iterator\n",
    "\n",
    "In Python, we can use the next() function to return the next item in the sequence.\n",
    "\n",
    "Let's see an example,"
   ]
  },
  {
   "cell_type": "code",
   "execution_count": 1,
   "id": "68e9d31e",
   "metadata": {},
   "outputs": [
    {
     "name": "stdout",
     "output_type": "stream",
     "text": [
      "4\n",
      "7\n",
      "0\n"
     ]
    },
    {
     "ename": "StopIteration",
     "evalue": "",
     "output_type": "error",
     "traceback": [
      "\u001b[1;31m---------------------------------------------------------------------------\u001b[0m",
      "\u001b[1;31mStopIteration\u001b[0m                             Traceback (most recent call last)",
      "\u001b[1;32m~\\AppData\\Local\\Temp/ipykernel_31296/2823968974.py\u001b[0m in \u001b[0;36m<module>\u001b[1;34m\u001b[0m\n\u001b[0;32m     14\u001b[0m \u001b[0mprint\u001b[0m\u001b[1;33m(\u001b[0m\u001b[0mnext\u001b[0m\u001b[1;33m(\u001b[0m\u001b[0miterator\u001b[0m\u001b[1;33m)\u001b[0m\u001b[1;33m)\u001b[0m  \u001b[1;31m# prints 0\u001b[0m\u001b[1;33m\u001b[0m\u001b[1;33m\u001b[0m\u001b[0m\n\u001b[0;32m     15\u001b[0m \u001b[1;33m\u001b[0m\u001b[0m\n\u001b[1;32m---> 16\u001b[1;33m \u001b[0mprint\u001b[0m\u001b[1;33m(\u001b[0m\u001b[0mnext\u001b[0m\u001b[1;33m(\u001b[0m\u001b[0miterator\u001b[0m\u001b[1;33m)\u001b[0m\u001b[1;33m)\u001b[0m \u001b[1;31m#StopIteration: exception is raised\u001b[0m\u001b[1;33m\u001b[0m\u001b[1;33m\u001b[0m\u001b[0m\n\u001b[0m",
      "\u001b[1;31mStopIteration\u001b[0m: "
     ]
    }
   ],
   "source": [
    "# define a list\n",
    "my_list = [4, 7, 0]\n",
    "\n",
    "# create an iterator from the list\n",
    "iterator = iter(my_list)\n",
    "\n",
    "# get the first element of the iterator\n",
    "print(next(iterator))  # prints 4\n",
    "\n",
    "# get the second element of the iterator\n",
    "print(next(iterator))  # prints 7\n",
    "\n",
    "# get the third element of the iterator\n",
    "print(next(iterator))  # prints 0\n",
    "\n",
    "print(next(iterator)) #StopIteration: exception is raised"
   ]
  },
  {
   "cell_type": "markdown",
   "id": "ad9fc208",
   "metadata": {},
   "source": [
    "Here, first we created an iterator from the list using the iter() method. And then used the next() function to retrieve the elements of the iterator in sequential order.\n",
    "\n",
    "When we reach the end and there is no more data to be returned, we will get the StopIteration Exception."
   ]
  },
  {
   "cell_type": "markdown",
   "id": "70065289",
   "metadata": {},
   "source": [
    "# Using for Loop\n",
    "\n",
    "A more elegant way of automatically iterating is by using the for loop. For example,"
   ]
  },
  {
   "cell_type": "code",
   "execution_count": 4,
   "id": "7035b6e9",
   "metadata": {},
   "outputs": [
    {
     "name": "stdout",
     "output_type": "stream",
     "text": [
      "4\n",
      "7\n",
      "0\n"
     ]
    }
   ],
   "source": [
    "# define a list\n",
    "my_list = [4, 7, 0]\n",
    "\n",
    "for element in my_list:\n",
    "    print(element)"
   ]
  },
  {
   "cell_type": "markdown",
   "id": "69495675",
   "metadata": {},
   "source": [
    "# Working of for loop for Iterators\n",
    "\n",
    "The for loop in Python is used to iterate over a sequence of elements, such as a list, tuple, or string.\n",
    "\n",
    "When we use the for loop with an iterator, the loop will automatically iterate over the elements of the iterator until it is exhausted.\n",
    "\n",
    "Here's an example of how a for loop works with an iterator,"
   ]
  },
  {
   "cell_type": "code",
   "execution_count": 5,
   "id": "8cab9698",
   "metadata": {},
   "outputs": [
    {
     "name": "stdout",
     "output_type": "stream",
     "text": [
      "1\n",
      "2\n",
      "3\n",
      "4\n",
      "5\n"
     ]
    }
   ],
   "source": [
    "# create a list of integers\n",
    "my_list = [1, 2, 3, 4, 5]\n",
    "\n",
    "# create an iterator from the list\n",
    "iterator = iter(my_list)\n",
    "\n",
    "# iterate through the elements of the iterator\n",
    "for element in iterator:\n",
    "\n",
    "    # Print each element\n",
    "    print(element)"
   ]
  },
  {
   "cell_type": "markdown",
   "id": "57d26aae",
   "metadata": {},
   "source": [
    "In this example, the for loop iterates over the elements of the iterator object.\n",
    "\n",
    "On each iteration, the loop assigns the value of the next element to the variable element, and then executes the indented code block.\n",
    "\n",
    "This process continues until the iterator is exhausted, at which point the for loop terminates."
   ]
  },
  {
   "cell_type": "raw",
   "id": "1ee39e21",
   "metadata": {},
   "source": [
    "# Building Custom Iterators\n",
    "\n",
    "Building an iterator from scratch is easy in Python. We just have to implement the __iter__() and the __next__() methods,"
   ]
  },
  {
   "cell_type": "raw",
   "id": "e0349dca",
   "metadata": {},
   "source": [
    "__iter__() returns the iterator object itself. If required, some initialization can be performed.\n",
    "\n",
    "__next__() must return the next item in the sequence. On reaching the end, and in subsequent calls, it must raise StopIteration.\n",
    "\n",
    "Let's see an example that will give us the next power of 2 in each iteration. Power exponent starts from zero up to a user set number,"
   ]
  },
  {
   "cell_type": "code",
   "execution_count": 4,
   "id": "e5e0c375",
   "metadata": {},
   "outputs": [
    {
     "name": "stdout",
     "output_type": "stream",
     "text": [
      "1\n",
      "2\n",
      "4\n",
      "8\n"
     ]
    },
    {
     "ename": "StopIteration",
     "evalue": "",
     "output_type": "error",
     "traceback": [
      "\u001b[1;31m---------------------------------------------------------------------------\u001b[0m",
      "\u001b[1;31mStopIteration\u001b[0m                             Traceback (most recent call last)",
      "\u001b[1;32m~\\AppData\\Local\\Temp/ipykernel_31296/2840127583.py\u001b[0m in \u001b[0;36m<module>\u001b[1;34m\u001b[0m\n\u001b[0;32m     30\u001b[0m \u001b[0mprint\u001b[0m\u001b[1;33m(\u001b[0m\u001b[0mnext\u001b[0m\u001b[1;33m(\u001b[0m\u001b[0mi\u001b[0m\u001b[1;33m)\u001b[0m\u001b[1;33m)\u001b[0m \u001b[1;31m# prints 4 (2 to the power 2)\u001b[0m\u001b[1;33m\u001b[0m\u001b[1;33m\u001b[0m\u001b[0m\n\u001b[0;32m     31\u001b[0m \u001b[0mprint\u001b[0m\u001b[1;33m(\u001b[0m\u001b[0mnext\u001b[0m\u001b[1;33m(\u001b[0m\u001b[0mi\u001b[0m\u001b[1;33m)\u001b[0m\u001b[1;33m)\u001b[0m \u001b[1;31m# prints 8 (2 to the power 3)\u001b[0m\u001b[1;33m\u001b[0m\u001b[1;33m\u001b[0m\u001b[0m\n\u001b[1;32m---> 32\u001b[1;33m \u001b[0mprint\u001b[0m\u001b[1;33m(\u001b[0m\u001b[0mnext\u001b[0m\u001b[1;33m(\u001b[0m\u001b[0mi\u001b[0m\u001b[1;33m)\u001b[0m\u001b[1;33m)\u001b[0m \u001b[1;31m# raises StopIteration exception\u001b[0m\u001b[1;33m\u001b[0m\u001b[1;33m\u001b[0m\u001b[0m\n\u001b[0m",
      "\u001b[1;32m~\\AppData\\Local\\Temp/ipykernel_31296/2840127583.py\u001b[0m in \u001b[0;36m__next__\u001b[1;34m(self)\u001b[0m\n\u001b[0;32m     16\u001b[0m             \u001b[1;32mreturn\u001b[0m \u001b[0mresult\u001b[0m\u001b[1;33m\u001b[0m\u001b[1;33m\u001b[0m\u001b[0m\n\u001b[0;32m     17\u001b[0m         \u001b[1;32melse\u001b[0m\u001b[1;33m:\u001b[0m\u001b[1;33m\u001b[0m\u001b[1;33m\u001b[0m\u001b[0m\n\u001b[1;32m---> 18\u001b[1;33m             \u001b[1;32mraise\u001b[0m \u001b[0mStopIteration\u001b[0m\u001b[1;33m\u001b[0m\u001b[1;33m\u001b[0m\u001b[0m\n\u001b[0m\u001b[0;32m     19\u001b[0m \u001b[1;33m\u001b[0m\u001b[0m\n\u001b[0;32m     20\u001b[0m \u001b[1;33m\u001b[0m\u001b[0m\n",
      "\u001b[1;31mStopIteration\u001b[0m: "
     ]
    }
   ],
   "source": [
    "class PowTwo:\n",
    "    \"\"\"Class to implement an iterator\n",
    "    of powers of two\"\"\"\n",
    "\n",
    "    def __init__(self, max=0):\n",
    "        self.max = max\n",
    "\n",
    "    def __iter__(self):\n",
    "        self.n = 0\n",
    "        return self\n",
    "\n",
    "    def __next__(self):\n",
    "        if self.n <= self.max:\n",
    "            result = 2 ** self.n\n",
    "            self.n += 1\n",
    "            return result\n",
    "        else:\n",
    "            raise StopIteration\n",
    "\n",
    "\n",
    "# create an object\n",
    "numbers = PowTwo(3) #max will thake the value 3\n",
    "\n",
    "# create an iterable from the object\n",
    "i = iter(numbers) #iterator i will start from 0 to user defined vale for max, here it is 3\n",
    "\n",
    "# Using next to get to the next iterator element\n",
    "print(next(i)) # prints 1 (2 to the power 0)\n",
    "print(next(i)) # prints 2 (2 to the power 1)\n",
    "print(next(i)) # prints 4 (2 to the power 2)\n",
    "print(next(i)) # prints 8 (2 to the power 3)\n",
    "print(next(i)) # raises StopIteration exception"
   ]
  },
  {
   "cell_type": "code",
   "execution_count": 7,
   "id": "0e82bfcc",
   "metadata": {},
   "outputs": [
    {
     "data": {
      "text/plain": [
       "1"
      ]
     },
     "execution_count": 7,
     "metadata": {},
     "output_type": "execute_result"
    }
   ],
   "source": [
    "#2 ** 0"
   ]
  },
  {
   "cell_type": "markdown",
   "id": "1cf58c0a",
   "metadata": {},
   "source": [
    "We can also use a for loop to iterate over our iterator class."
   ]
  },
  {
   "cell_type": "code",
   "execution_count": 5,
   "id": "b4c8e8d6",
   "metadata": {},
   "outputs": [
    {
     "name": "stdout",
     "output_type": "stream",
     "text": [
      "1\n",
      "2\n",
      "4\n",
      "8\n"
     ]
    }
   ],
   "source": [
    "for i in PowTwo(3):\n",
    "    print(i)            #but here it will not raise exception"
   ]
  },
  {
   "cell_type": "markdown",
   "id": "4a707025",
   "metadata": {},
   "source": [
    "# Python Infinite Iterators\n",
    "\n",
    "An infinite iterator is an iterator that never ends, meaning that it will continue to produce elements indefinitely.\n",
    "\n",
    "Here is an example of how to create an infinite iterator in Python using the count() function from the itertools module,"
   ]
  },
  {
   "cell_type": "code",
   "execution_count": 8,
   "id": "867704e7",
   "metadata": {},
   "outputs": [
    {
     "name": "stdout",
     "output_type": "stream",
     "text": [
      "1\n",
      "2\n",
      "3\n",
      "4\n",
      "5\n",
      "6\n",
      "7\n"
     ]
    }
   ],
   "source": [
    "from itertools import count\n",
    "\n",
    "# create an infinite iterator that starts at 1 and increments by 1 each time\n",
    "infinite_iterator = count(1)\n",
    "\n",
    "# print the first 5 elements of the infinite iterator\n",
    "for i in range(7):\n",
    "    print(next(infinite_iterator))"
   ]
  },
  {
   "cell_type": "markdown",
   "id": "4dc2d41e",
   "metadata": {},
   "source": [
    "Here, we have created an infinite iterator that starts at 1 and increments by 1 each time.\n",
    "\n",
    "And then we printed the first 5 elements of the infinite iterator using the for loop and the next() method."
   ]
  },
  {
   "cell_type": "code",
   "execution_count": null,
   "id": "af034d7d",
   "metadata": {},
   "outputs": [],
   "source": []
  }
 ],
 "metadata": {
  "kernelspec": {
   "display_name": "Python 3 (ipykernel)",
   "language": "python",
   "name": "python3"
  },
  "language_info": {
   "codemirror_mode": {
    "name": "ipython",
    "version": 3
   },
   "file_extension": ".py",
   "mimetype": "text/x-python",
   "name": "python",
   "nbconvert_exporter": "python",
   "pygments_lexer": "ipython3",
   "version": "3.9.7"
  }
 },
 "nbformat": 4,
 "nbformat_minor": 5
}
