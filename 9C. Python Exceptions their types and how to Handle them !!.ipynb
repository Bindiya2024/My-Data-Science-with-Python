{
 "cells": [
  {
   "cell_type": "markdown",
   "id": "5024f21c",
   "metadata": {},
   "source": [
    "# Python exceptions\n",
    "\n",
    "In this segment, we will learn about exceptions in Python. We will cover exceptions and different types of exceptions in Python."
   ]
  },
  {
   "cell_type": "markdown",
   "id": "1d3ffaf9",
   "metadata": {},
   "source": [
    "An exception is an unexpected event that occurs during program execution. \n",
    "\n",
    "For example,"
   ]
  },
  {
   "cell_type": "code",
   "execution_count": 1,
   "id": "4bd9365a",
   "metadata": {},
   "outputs": [
    {
     "ename": "ZeroDivisionError",
     "evalue": "division by zero",
     "output_type": "error",
     "traceback": [
      "\u001b[1;31m---------------------------------------------------------------------------\u001b[0m",
      "\u001b[1;31mZeroDivisionError\u001b[0m                         Traceback (most recent call last)",
      "\u001b[1;32m~\\AppData\\Local\\Temp/ipykernel_15672/3104044932.py\u001b[0m in \u001b[0;36m<module>\u001b[1;34m\u001b[0m\n\u001b[1;32m----> 1\u001b[1;33m \u001b[0mdivide_by_zero\u001b[0m \u001b[1;33m=\u001b[0m \u001b[1;36m7\u001b[0m \u001b[1;33m/\u001b[0m \u001b[1;36m0\u001b[0m\u001b[1;33m\u001b[0m\u001b[1;33m\u001b[0m\u001b[0m\n\u001b[0m",
      "\u001b[1;31mZeroDivisionError\u001b[0m: division by zero"
     ]
    }
   ],
   "source": [
    "divide_by_zero = 7 / 0"
   ]
  },
  {
   "cell_type": "markdown",
   "id": "e3d075d4",
   "metadata": {},
   "source": [
    "The above code causes an exception as it is not possible to divide a number by 0.\n",
    "\n",
    "Let's learn about Python Exceptions in detail."
   ]
  },
  {
   "cell_type": "markdown",
   "id": "9edab435",
   "metadata": {},
   "source": [
    "# Python Logical Errors (Exceptions)\n",
    "\n",
    "Errors that occur at runtime (after passing the syntax test) are called exceptions or logical errors.\n",
    "\n",
    "For instance, they occur when we\n",
    "\n",
    "try to open a file(for reading) that does not exist (FileNotFoundError)\n",
    "\n",
    "try to divide a number by zero (ZeroDivisionError)\n",
    "\n",
    "try to import a module that does not exist (ImportError) and so on.\n",
    "\n",
    "Whenever these types of runtime errors occur, Python creates an exception object.\n",
    "\n",
    "If not handled properly, it prints a traceback to that error along with some details about why that error occurred.\n",
    "\n",
    "Let's look at how Python treats these errors:"
   ]
  },
  {
   "cell_type": "code",
   "execution_count": 2,
   "id": "5e0d69bf",
   "metadata": {},
   "outputs": [
    {
     "ename": "ZeroDivisionError",
     "evalue": "division by zero",
     "output_type": "error",
     "traceback": [
      "\u001b[1;31m---------------------------------------------------------------------------\u001b[0m",
      "\u001b[1;31mZeroDivisionError\u001b[0m                         Traceback (most recent call last)",
      "\u001b[1;32m~\\AppData\\Local\\Temp/ipykernel_15672/2409925131.py\u001b[0m in \u001b[0;36m<module>\u001b[1;34m\u001b[0m\n\u001b[1;32m----> 1\u001b[1;33m \u001b[0mdivide_numbers\u001b[0m \u001b[1;33m=\u001b[0m \u001b[1;36m7\u001b[0m \u001b[1;33m/\u001b[0m \u001b[1;36m0\u001b[0m\u001b[1;33m\u001b[0m\u001b[1;33m\u001b[0m\u001b[0m\n\u001b[0m\u001b[0;32m      2\u001b[0m \u001b[0mprit\u001b[0m\u001b[1;33m(\u001b[0m\u001b[0mdivide_numbers\u001b[0m\u001b[1;33m)\u001b[0m\u001b[1;33m\u001b[0m\u001b[1;33m\u001b[0m\u001b[0m\n",
      "\u001b[1;31mZeroDivisionError\u001b[0m: division by zero"
     ]
    }
   ],
   "source": [
    "divide_numbers = 7 / 0\n",
    "prit(divide_numbers)"
   ]
  },
  {
   "cell_type": "markdown",
   "id": "5835abfa",
   "metadata": {},
   "source": [
    "Here, while trying to divide 7 / 0, \n",
    "\n",
    "the program throws a system exception ZeroDivisionError"
   ]
  },
  {
   "cell_type": "markdown",
   "id": "f50dfd93",
   "metadata": {},
   "source": [
    "# Python Built-in Exceptions\n",
    "\n",
    "Illegal operations can raise exceptions. There are plenty of built-in exceptions in Python that are raised when corresponding errors occur.\n",
    "\n",
    "We can view all the built-in exceptions using the built-in local() function as follows:"
   ]
  },
  {
   "cell_type": "code",
   "execution_count": 3,
   "id": "3c57f798",
   "metadata": {},
   "outputs": [
    {
     "name": "stdout",
     "output_type": "stream",
     "text": [
      "['ArithmeticError', 'AssertionError', 'AttributeError', 'BaseException', 'BlockingIOError', 'BrokenPipeError', 'BufferError', 'BytesWarning', 'ChildProcessError', 'ConnectionAbortedError', 'ConnectionError', 'ConnectionRefusedError', 'ConnectionResetError', 'DeprecationWarning', 'EOFError', 'Ellipsis', 'EnvironmentError', 'Exception', 'False', 'FileExistsError', 'FileNotFoundError', 'FloatingPointError', 'FutureWarning', 'GeneratorExit', 'IOError', 'ImportError', 'ImportWarning', 'IndentationError', 'IndexError', 'InterruptedError', 'IsADirectoryError', 'KeyError', 'KeyboardInterrupt', 'LookupError', 'MemoryError', 'ModuleNotFoundError', 'NameError', 'None', 'NotADirectoryError', 'NotImplemented', 'NotImplementedError', 'OSError', 'OverflowError', 'PendingDeprecationWarning', 'PermissionError', 'ProcessLookupError', 'RecursionError', 'ReferenceError', 'ResourceWarning', 'RuntimeError', 'RuntimeWarning', 'StopAsyncIteration', 'StopIteration', 'SyntaxError', 'SyntaxWarning', 'SystemError', 'SystemExit', 'TabError', 'TimeoutError', 'True', 'TypeError', 'UnboundLocalError', 'UnicodeDecodeError', 'UnicodeEncodeError', 'UnicodeError', 'UnicodeTranslateError', 'UnicodeWarning', 'UserWarning', 'ValueError', 'Warning', 'WindowsError', 'ZeroDivisionError', '__IPYTHON__', '__build_class__', '__debug__', '__doc__', '__import__', '__loader__', '__name__', '__package__', '__spec__', 'abs', 'all', 'any', 'ascii', 'bin', 'bool', 'breakpoint', 'bytearray', 'bytes', 'callable', 'chr', 'classmethod', 'compile', 'complex', 'copyright', 'credits', 'delattr', 'dict', 'dir', 'display', 'divmod', 'enumerate', 'eval', 'exec', 'execfile', 'filter', 'float', 'format', 'frozenset', 'get_ipython', 'getattr', 'globals', 'hasattr', 'hash', 'help', 'hex', 'id', 'input', 'int', 'isinstance', 'issubclass', 'iter', 'len', 'license', 'list', 'locals', 'map', 'max', 'memoryview', 'min', 'next', 'object', 'oct', 'open', 'ord', 'pow', 'print', 'property', 'range', 'repr', 'reversed', 'round', 'runfile', 'set', 'setattr', 'slice', 'sorted', 'staticmethod', 'str', 'sum', 'super', 'tuple', 'type', 'vars', 'zip']\n"
     ]
    }
   ],
   "source": [
    "print(dir(locals()['__builtins__']))"
   ]
  },
  {
   "cell_type": "markdown",
   "id": "81129c86",
   "metadata": {},
   "source": [
    "Here, locals()['__builtins__'] will return a module of built-in exceptions, functions, and attributes and dir \n",
    "allows us to list these attributes as strings.\n",
    "\n",
    "Some of the common built-in exceptions in Python programming along with the error that cause them are listed below:"
   ]
  },
  {
   "cell_type": "raw",
   "id": "01d3ad6f",
   "metadata": {},
   "source": [
    "\"\"\"\n",
    "Exception\tCause of Error\n",
    "\n",
    "AssertionError\tRaised when an assert statement fails.\n",
    "\n",
    "AttributeError\tRaised when attribute assignment or reference fails.\n",
    "\n",
    "EOFError\tRaised when the input() function hits end-of-file condition.\n",
    "\n",
    "FloatingPointError\tRaised when a floating point operation fails.\n",
    "\n",
    "GeneratorExit\tRaise when a generator's close() method is called.\n",
    "\n",
    "ImportError\tRaised when the imported module is not found.\n",
    "\n",
    "IndexError\tRaised when the index of a sequence is out of range.\n",
    "\n",
    "KeyError\tRaised when a key is not found in a dictionary.\n",
    "\n",
    "KeyboardInterrupt\tRaised when the user hits the interrupt key (Ctrl+C or Delete).\n",
    "\n",
    "MemoryError\tRaised when an operation runs out of memory.\n",
    "\n",
    "NameError\tRaised when a variable is not found in local or global scope.\n",
    "\n",
    "NotImplementedError\tRaised by abstract methods.\n",
    "\n",
    "OSError\tRaised when system operation causes system related error.\n",
    "\n",
    "OverflowError\tRaised when the result of an arithmetic operation is too large to be represented.\n",
    "\n",
    "ReferenceError\tRaised when a weak reference proxy is used to access a garbage collected referent.\n",
    "\n",
    "RuntimeError\tRaised when an error does not fall under any other category.\n",
    "\n",
    "StopIteration\tRaised by next() function to indicate that there is no further item to be returned by iterator.\n",
    "\n",
    "SyntaxError\tRaised by parser when syntax error is encountered.\n",
    "\n",
    "IndentationError\tRaised when there is incorrect indentation.\n",
    "\n",
    "TabError\tRaised when indentation consists of inconsistent tabs and spaces.\n",
    "\n",
    "SystemError\tRaised when interpreter detects internal error.\n",
    "\n",
    "SystemExit\tRaised by sys.exit() function.\n",
    "\n",
    "TypeError\tRaised when a function or operation is applied to an object of incorrect type.\n",
    "\n",
    "UnboundLocalError\tRaised when a reference is made to a local variable in a function or method, \n",
    "                    but no value has been bound to that variable.\n",
    "    \n",
    "UnicodeError\tRaised when a Unicode-related encoding or decoding error occurs.\n",
    "\n",
    "UnicodeEncodeError\tRaised when a Unicode-related error occurs during encoding.\n",
    "\n",
    "UnicodeDecodeError\tRaised when a Unicode-related error occurs during decoding.\n",
    "\n",
    "UnicodeTranslateError\tRaised when a Unicode-related error occurs during translating.\n",
    "\n",
    "ValueError\tRaised when a function gets an argument of correct type but improper value.\n",
    "\n",
    "ZeroDivisionError\tRaised when the second operand of division or modulo operation is zero.\n",
    "\"\"\""
   ]
  },
  {
   "cell_type": "markdown",
   "id": "1ac43130",
   "metadata": {},
   "source": [
    "# Python Error and Exception\n",
    "\n",
    "Errors represent conditions such as compilation error, syntax error, error in the logical part of the code, library incompatibility, infinite recursion, etc.\n",
    "\n",
    "Errors are usually beyond the control of the programmer and we should not try to handle errors.\n",
    "\n",
    "Exceptions can be caught and handled by the program.\n",
    "\n",
    "Now we know about exceptions, we will learn about handling exceptions in the next Segment."
   ]
  },
  {
   "cell_type": "markdown",
   "id": "e614f695",
   "metadata": {},
   "source": [
    "# Python Exception Handling"
   ]
  },
  {
   "cell_type": "markdown",
   "id": "020ca182",
   "metadata": {},
   "source": [
    "In the last tutorial, we learned about Python exceptions. \n",
    "We know that exceptions abnormally terminate the execution of a program.\n",
    "\n",
    "This is why it is important to handle exceptions. In Python, we use the try...except block"
   ]
  },
  {
   "cell_type": "markdown",
   "id": "46d34c5d",
   "metadata": {},
   "source": [
    "# Python try...except Block\n",
    "\n",
    "The try...except block is used to handle exceptions in Python. Here's the syntax of try...except block:\n",
    "\n",
    "try:\n",
    "\n",
    "    # code that may cause exception\n",
    "    \n",
    "except:\n",
    "\n",
    "    # code to run when exception occurs"
   ]
  },
  {
   "cell_type": "markdown",
   "id": "07d88eab",
   "metadata": {},
   "source": [
    "Here, we have placed the code that might generate an exception inside the try block. \n",
    "Every try block is followed by an except block.\n",
    "\n",
    "When an exception occurs, it is caught by the except block. The except block cannot be used without the try block.\n",
    "\n",
    "Example: Exception Handling Using try...except"
   ]
  },
  {
   "cell_type": "code",
   "execution_count": 4,
   "id": "bd0f24c1",
   "metadata": {},
   "outputs": [
    {
     "name": "stdout",
     "output_type": "stream",
     "text": [
      "Error: Denominator cannot be 0.\n"
     ]
    }
   ],
   "source": [
    "try:\n",
    "    numerator = 10\n",
    "    denominator = 0\n",
    "\n",
    "    result = numerator/denominator\n",
    "\n",
    "    print(result)\n",
    "except:\n",
    "    print(\"Error: Denominator cannot be 0.\")\n",
    "\n",
    "# Output: Error: Denominator cannot be 0. "
   ]
  },
  {
   "cell_type": "markdown",
   "id": "7a1328d7",
   "metadata": {},
   "source": [
    "In the example, we are trying to divide a number by 0. Here, this code generates an exception.\n",
    "\n",
    "To handle the exception, we have put the code, result = numerator/denominator inside the try block. \n",
    "Now when an exception occurs, the rest of the code inside the try block is skipped.\n",
    "\n",
    "The except block catches the exception and statements inside the except block are executed.\n",
    "\n",
    "If none of the statements in the try block generates an exception, the except block is skipped."
   ]
  },
  {
   "cell_type": "markdown",
   "id": "206c3dd3",
   "metadata": {},
   "source": [
    "# Catching Specific Exceptions in Python\n",
    "\n",
    "For each try block, there can be zero or more except blocks. \n",
    "Multiple except blocks allow us to handle each exception differently.\n",
    "\n",
    "The argument type of each except block indicates the type of exception that can be handled by it. \n",
    "\n",
    "For example,"
   ]
  },
  {
   "cell_type": "code",
   "execution_count": 5,
   "id": "58469868",
   "metadata": {},
   "outputs": [
    {
     "name": "stdout",
     "output_type": "stream",
     "text": [
      "Index Out of Bound.\n"
     ]
    }
   ],
   "source": [
    "try:\n",
    "    \n",
    "    even_numbers = [2,4,6,8]\n",
    "    print(even_numbers[5])\n",
    "\n",
    "except ZeroDivisionError:\n",
    "    print(\"Denominator cannot be 0.\")\n",
    "    \n",
    "except IndexError:\n",
    "    print(\"Index Out of Bound.\")\n",
    "\n",
    "# Output: Index Out of Bound"
   ]
  },
  {
   "cell_type": "markdown",
   "id": "9707ce1b",
   "metadata": {},
   "source": [
    "In this example, we have created a list named even_numbers.\n",
    "\n",
    "Since the list index starts from 0, the last element of the list is at index 3. \n",
    "\n",
    "Notice the statement,\n",
    "\n",
    "print(even_numbers[5])\n",
    "\n",
    "Here, we are trying to access a value to the index 5. Hence, IndexError exception occurs.\n",
    "\n",
    "When the IndexError exception occurs in the try block,\n",
    "\n",
    "The ZeroDivisionError exception is skipped.\n",
    "\n",
    "The set of code inside the IndexError exception is executed."
   ]
  },
  {
   "cell_type": "markdown",
   "id": "7c63bb46",
   "metadata": {},
   "source": [
    "# Python try with else clause\n",
    "\n",
    "In some situations, we might want to run a certain block of code if the code block inside try runs without any errors.\n",
    "\n",
    "For these cases, you can use the optional else keyword with the try statement.\n",
    "\n",
    "Let's look at an example:"
   ]
  },
  {
   "cell_type": "code",
   "execution_count": 9,
   "id": "604e6f60",
   "metadata": {},
   "outputs": [
    {
     "name": "stdout",
     "output_type": "stream",
     "text": [
      "Enter a number: 4\n",
      "0.25\n"
     ]
    }
   ],
   "source": [
    "# program to print the reciprocal of even numbers\n",
    "\n",
    "try:\n",
    "    num = int(input(\"Enter a number: \"))\n",
    "    assert num % 2 == 0\n",
    "\n",
    "except:\n",
    "    print(\"Not an even number!\")\n",
    "    \n",
    "else:\n",
    "    reciprocal = 1/num\n",
    "    print(reciprocal)      #If I want to write a program to calculate reciprocal for even numbers\n",
    "    \n",
    "#except ZeroDivisionError:\n",
    "    #print(\"Denominator cannot be 0.\")  #Assignement can we handle two separate exceptions in try...else ?"
   ]
  },
  {
   "cell_type": "markdown",
   "id": "80ee86f8",
   "metadata": {},
   "source": [
    "If we pass an odd number:\n",
    "\n",
    "Enter a number: 1\n",
    "    \n",
    "Not an even number!\n",
    "\n",
    "If we pass an even number, the reciprocal is computed and displayed.\n",
    "\n",
    "Enter a number: 4\n",
    "    \n",
    "0.25\n",
    "\n",
    "However, if we pass 0, we get ZeroDivisionError as the code block inside else is not handled by preceding except.\n",
    "\n",
    "Enter a number: 0\n",
    "    \n",
    "Traceback (most recent call last):\n",
    "    \n",
    "  File \"<string>\", line 7, in <module>\n",
    "\n",
    "    reciprocal = 1/num\n",
    "    \n",
    "ZeroDivisionError: division by zero\n",
    "    \n",
    "Note: Exceptions in the else clause are not handled by the preceding except clauses."
   ]
  },
  {
   "cell_type": "markdown",
   "id": "3d3b74b9",
   "metadata": {},
   "source": [
    "# Python try...finally\n",
    "\n",
    "In Python, the finally block is always executed no matter whether there is an exception or not.\n",
    "\n",
    "The finally block is optional. And, for each try block, there can be only one finally block.\n",
    "\n",
    "Let's see an example,"
   ]
  },
  {
   "cell_type": "code",
   "execution_count": 10,
   "id": "1bfc53af",
   "metadata": {},
   "outputs": [
    {
     "name": "stdout",
     "output_type": "stream",
     "text": [
      "Error: Denominator cannot be 0.\n",
      "This is finally block.\n"
     ]
    }
   ],
   "source": [
    "try:\n",
    "    numerator = 10\n",
    "    denominator = 0\n",
    "\n",
    "    result = numerator/denominator\n",
    "\n",
    "    print(result)\n",
    "except:\n",
    "    print(\"Error: Denominator cannot be 0.\")\n",
    "    \n",
    "finally:\n",
    "    print(\"This is finally block.\")"
   ]
  },
  {
   "cell_type": "markdown",
   "id": "d4a7964f",
   "metadata": {},
   "source": [
    "In the above example, we are dividing a number by 0 inside the try block. Here, this code generates an exception.\n",
    "\n",
    "The exception is caught by the except block. And, then the finally block is executed."
   ]
  },
  {
   "cell_type": "markdown",
   "id": "21057dc2",
   "metadata": {},
   "source": [
    "# Python Custom / User Defined Exceptions"
   ]
  },
  {
   "cell_type": "markdown",
   "id": "f4147891",
   "metadata": {},
   "source": [
    "In this segment, we will learn how to define custom exceptions depending upon our requirements with the help of examples.\n",
    "\n",
    "In the previous segment, we learned about different built-in exceptions in Python and \n",
    "why it is important to handle exceptions. .\n",
    "\n",
    "However, sometimes we may need to create our own custom exceptions that serve our purpose.\n",
    "\n",
    "# Defining Custom Exceptions\n",
    "\n",
    "In Python, we can define custom exceptions by creating a new class that is derived from the built-in Exception class.\n",
    "\n",
    "Here's the syntax to define custom exceptions,"
   ]
  },
  {
   "cell_type": "markdown",
   "id": "9a23b04f",
   "metadata": {},
   "source": [
    "class CustomError(Exception):\n",
    "    \n",
    "    ...\n",
    "    \n",
    "    pass\n",
    "\n",
    "try:\n",
    "    \n",
    "   ...\n",
    "\n",
    "except CustomError:\n",
    "    \n",
    "    ...\n",
    "    \n",
    "Here, CustomError is a user-defined error which inherits from the Exception class.\n",
    "\n",
    "Note:\n",
    "\n",
    "When we are developing a large Python program, it is a good practice to place all the user-defined exceptions \n",
    "that our program raises in a separate file.\n",
    "\n",
    "Many standard modules define their exceptions separately as exceptions.py or errors.py (generally but not always).\n",
    "\n",
    "# Example: Python User-Defined Exception"
   ]
  },
  {
   "cell_type": "code",
   "execution_count": 12,
   "id": "27006729",
   "metadata": {},
   "outputs": [
    {
     "name": "stdout",
     "output_type": "stream",
     "text": [
      "Enter a number: 15\n",
      "Exception occurred: Invalid Age\n"
     ]
    }
   ],
   "source": [
    "# define Python user-defined exceptions\n",
    "class InvalidAgeException(Exception):\n",
    "   # \"Raised when the input value is less than 18\"\n",
    "    pass\n",
    "\n",
    "# you need to guess this number\n",
    "number = 18\n",
    "\n",
    "try:\n",
    "    input_num = int(input(\"Enter a number: \"))\n",
    "    if input_num < number:\n",
    "        raise InvalidAgeException\n",
    "    else:\n",
    "        print(\"Eligible to Vote\")\n",
    "        \n",
    "except InvalidAgeException:\n",
    "    print(\"Exception occurred: Invalid Age\")"
   ]
  },
  {
   "cell_type": "markdown",
   "id": "625fad91",
   "metadata": {},
   "source": [
    "If the user input input_num is greater than 18,\n",
    "\n",
    "Enter a number: 45\n",
    "    \n",
    "Eligible to Vote\n",
    "\n",
    "If the user input input_num is smaller than 18,\n",
    "\n",
    "Enter a number: 14\n",
    "    \n",
    "Exception occurred: Invalid Age\n",
    "    \n",
    "In the above example, we have defined the custom exception InvalidAgeException by creating a new class \n",
    "that is derived from the built-in Exception class.\n",
    "\n",
    "Here, when input_num is smaller than 18, this code generates an exception.\n",
    "\n",
    "When an exception occurs, the rest of the code inside the try block is skipped.\n",
    "\n",
    "The except block catches the user-defined InvalidAgeException exception and statements inside the except block are executed.\n",
    "\n",
    "# Customizing Exception Classes\n",
    "\n",
    "We can further customize this class to accept other arguments as per our needs."
   ]
  },
  {
   "cell_type": "markdown",
   "id": "2266e10e",
   "metadata": {},
   "source": [
    "To learn about customizing the Exception classes, you need to have the basic knowledge of Object-Oriented programming."
   ]
  },
  {
   "cell_type": "markdown",
   "id": "e22533de",
   "metadata": {},
   "source": [
    "Let's see an example,"
   ]
  },
  {
   "cell_type": "code",
   "execution_count": 14,
   "id": "16a8b8b5",
   "metadata": {},
   "outputs": [
    {
     "name": "stdout",
     "output_type": "stream",
     "text": [
      "Enter salary amount: 2000\n"
     ]
    },
    {
     "ename": "SalaryNotInRangeError",
     "evalue": "Salary is not in (5000, 15000) range",
     "output_type": "error",
     "traceback": [
      "\u001b[1;31m---------------------------------------------------------------------------\u001b[0m",
      "\u001b[1;31mSalaryNotInRangeError\u001b[0m                     Traceback (most recent call last)",
      "\u001b[1;32m~\\AppData\\Local\\Temp/ipykernel_15672/2732994991.py\u001b[0m in \u001b[0;36m<module>\u001b[1;34m\u001b[0m\n\u001b[0;32m     15\u001b[0m \u001b[0msalary\u001b[0m \u001b[1;33m=\u001b[0m \u001b[0mint\u001b[0m\u001b[1;33m(\u001b[0m\u001b[0minput\u001b[0m\u001b[1;33m(\u001b[0m\u001b[1;34m\"Enter salary amount: \"\u001b[0m\u001b[1;33m)\u001b[0m\u001b[1;33m)\u001b[0m\u001b[1;33m\u001b[0m\u001b[1;33m\u001b[0m\u001b[0m\n\u001b[0;32m     16\u001b[0m \u001b[1;32mif\u001b[0m \u001b[1;32mnot\u001b[0m \u001b[1;36m5000\u001b[0m \u001b[1;33m<\u001b[0m \u001b[0msalary\u001b[0m \u001b[1;33m<\u001b[0m \u001b[1;36m15000\u001b[0m\u001b[1;33m:\u001b[0m\u001b[1;33m\u001b[0m\u001b[1;33m\u001b[0m\u001b[0m\n\u001b[1;32m---> 17\u001b[1;33m     \u001b[1;32mraise\u001b[0m \u001b[0mSalaryNotInRangeError\u001b[0m\u001b[1;33m(\u001b[0m\u001b[0msalary\u001b[0m\u001b[1;33m)\u001b[0m\u001b[1;33m\u001b[0m\u001b[1;33m\u001b[0m\u001b[0m\n\u001b[0m",
      "\u001b[1;31mSalaryNotInRangeError\u001b[0m: Salary is not in (5000, 15000) range"
     ]
    }
   ],
   "source": [
    "class SalaryNotInRangeError(Exception):\n",
    "    \"\"\"Exception raised for errors in the input salary.\n",
    "\n",
    "    Attributes:\n",
    "        salary -- input salary which caused the error\n",
    "        message -- explanation of the error\n",
    "    \"\"\"\n",
    "\n",
    "    def __init__(self, salary, message=\"Salary is not in (5000, 15000) range\"):\n",
    "        self.salary = salary\n",
    "        self.message = message\n",
    "        super().__init__(self.message)\n",
    "\n",
    "\n",
    "salary = int(input(\"Enter salary amount: \"))\n",
    "if not 5000 < salary < 15000:\n",
    "    raise SalaryNotInRangeError(salary)"
   ]
  },
  {
   "cell_type": "markdown",
   "id": "57a63274",
   "metadata": {},
   "source": [
    "Output\n",
    "\n",
    "Enter salary amount: 2000\n",
    "    \n",
    "Traceback (most recent call last):\n",
    "    \n",
    "  File \"<string>\", line 17, in <module>\n",
    "\n",
    "    raise SalaryNotInRangeError(salary)\n",
    "    \n",
    "__main__.SalaryNotInRangeError: Salary is not in (5000, 15000) range\n",
    "\n",
    "    \n",
    "Here, \n",
    "\n",
    "we have overridden the constructor of the Exception class to accept our own custom arguments salary and message.\n",
    "\n",
    "Then, the constructor of the parent Exception class is called manually with the self.message argument using super().\n",
    "\n",
    "The custom self.salary attribute is defined to be used later.\n",
    "\n",
    "The inherited __str__ method of the Exception class is then used to display \n",
    "the corresponding message when SalaryNotInRangeError is raised."
   ]
  },
  {
   "cell_type": "code",
   "execution_count": null,
   "id": "188ddb30",
   "metadata": {},
   "outputs": [],
   "source": []
  }
 ],
 "metadata": {
  "kernelspec": {
   "display_name": "Python 3 (ipykernel)",
   "language": "python",
   "name": "python3"
  },
  "language_info": {
   "codemirror_mode": {
    "name": "ipython",
    "version": 3
   },
   "file_extension": ".py",
   "mimetype": "text/x-python",
   "name": "python",
   "nbconvert_exporter": "python",
   "pygments_lexer": "ipython3",
   "version": "3.9.7"
  }
 },
 "nbformat": 4,
 "nbformat_minor": 5
}
